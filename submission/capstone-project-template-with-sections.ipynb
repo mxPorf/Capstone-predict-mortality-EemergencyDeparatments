{
 "cells": [
  {
   "cell_type": "markdown",
   "id": "09225a2c-0cd6-4073-97d0-2dd2a3aa100e",
   "metadata": {},
   "source": [
    "# Machine Learning Engineer Nanodegree"
   ]
  },
  {
   "cell_type": "markdown",
   "id": "69edfd9c-adc0-4ab5-b7a2-828e8d0d79a8",
   "metadata": {},
   "source": [
    "## Capstone Project"
   ]
  },
  {
   "cell_type": "markdown",
   "id": "71fd43ec-abad-4256-8298-59d609304bb0",
   "metadata": {},
   "source": [
    "Porfirio Basaldua Gonzalez<br>April 3rd, 2023"
   ]
  },
  {
   "cell_type": "markdown",
   "id": "931343f0-60fb-435b-aafe-f3f6a36cf232",
   "metadata": {},
   "source": [
    "### I. Project Overview"
   ]
  },
  {
   "cell_type": "markdown",
   "id": "3f79ef2d-64ec-40f0-b378-8533d51ae49e",
   "metadata": {},
   "source": [
    "Can patient healthcare records predict the likelihood of mortality in an emergency room visit?\n",
    "\n",
    "Solution statement\n",
    "\n",
    "Machine Learning models combined with large amounts of data are well suited for prediction problems, and cloud infrastructure will ensure the system has enough resources to handle big-data concerns effectively. With this information, the proposed solution is as follows:\n",
    "\n",
    "Using cloud infrastructure, the researcher will create a data pipeline that will expose an API through the internet which will allow the healthcare professionals to access real time predictions from a machine learning model. This predictions will indicate if the patient is likely to die while in emergency care, giving health care professionals a tool for decision making, shortening the time needed for the patient to receive adequate care."
   ]
  },
  {
   "cell_type": "markdown",
   "id": "3492fa19-9680-49ec-978c-e9c1374cb11e",
   "metadata": {},
   "source": [
    "## II. Analysis"
   ]
  },
  {
   "cell_type": "markdown",
   "id": "5d80e37f-2c61-4a5b-975e-0f98ff34d09b",
   "metadata": {},
   "source": [
    "### Data Exploration"
   ]
  },
  {
   "cell_type": "markdown",
   "id": "9fca1004-bb1c-4c25-aedf-30409d13adbc",
   "metadata": {},
   "source": [
    "#### Preparation\n",
    "Install the necessary dependencies, import the libraries that will be used throughout the project and get the data from the S3 bucket that contains the initial CSV"
   ]
  },
  {
   "cell_type": "code",
   "execution_count": 3,
   "id": "3b9f898c-c99b-4d13-b71f-2ba3584839be",
   "metadata": {
    "collapsed": true,
    "jupyter": {
     "outputs_hidden": true
    },
    "tags": []
   },
   "outputs": [
    {
     "name": "stdout",
     "output_type": "stream",
     "text": [
      "Looking in indexes: https://pypi.org/simple, https://pip.repos.neuron.amazonaws.com\n",
      "Collecting category-encoders\n",
      "  Downloading category_encoders-2.6.0-py2.py3-none-any.whl (81 kB)\n",
      "\u001b[2K     \u001b[90m━━━━━━━━━━━━━━━━━━━━━━━━━━━━━━━━━━━━━━━━\u001b[0m \u001b[32m81.2/81.2 kB\u001b[0m \u001b[31m14.1 MB/s\u001b[0m eta \u001b[36m0:00:00\u001b[0m\n",
      "\u001b[?25hRequirement already satisfied: scikit-learn>=0.20.0 in /home/ec2-user/anaconda3/envs/pytorch_p39/lib/python3.9/site-packages (from category-encoders) (1.0)\n",
      "Requirement already satisfied: pandas>=1.0.5 in /home/ec2-user/anaconda3/envs/pytorch_p39/lib/python3.9/site-packages (from category-encoders) (1.4.4)\n",
      "Requirement already satisfied: patsy>=0.5.1 in /home/ec2-user/anaconda3/envs/pytorch_p39/lib/python3.9/site-packages (from category-encoders) (0.5.3)\n",
      "Requirement already satisfied: statsmodels>=0.9.0 in /home/ec2-user/anaconda3/envs/pytorch_p39/lib/python3.9/site-packages (from category-encoders) (0.13.5)\n",
      "Requirement already satisfied: scipy>=1.0.0 in /home/ec2-user/anaconda3/envs/pytorch_p39/lib/python3.9/site-packages (from category-encoders) (1.8.1)\n",
      "Requirement already satisfied: numpy>=1.14.0 in /home/ec2-user/anaconda3/envs/pytorch_p39/lib/python3.9/site-packages (from category-encoders) (1.23.5)\n",
      "Requirement already satisfied: python-dateutil>=2.8.1 in /home/ec2-user/anaconda3/envs/pytorch_p39/lib/python3.9/site-packages (from pandas>=1.0.5->category-encoders) (2.8.2)\n",
      "Requirement already satisfied: pytz>=2020.1 in /home/ec2-user/anaconda3/envs/pytorch_p39/lib/python3.9/site-packages (from pandas>=1.0.5->category-encoders) (2022.7)\n",
      "Requirement already satisfied: six in /home/ec2-user/anaconda3/envs/pytorch_p39/lib/python3.9/site-packages (from patsy>=0.5.1->category-encoders) (1.16.0)\n",
      "Requirement already satisfied: threadpoolctl>=2.0.0 in /home/ec2-user/anaconda3/envs/pytorch_p39/lib/python3.9/site-packages (from scikit-learn>=0.20.0->category-encoders) (3.1.0)\n",
      "Requirement already satisfied: joblib>=0.11 in /home/ec2-user/anaconda3/envs/pytorch_p39/lib/python3.9/site-packages (from scikit-learn>=0.20.0->category-encoders) (1.2.0)\n",
      "Requirement already satisfied: packaging>=21.3 in /home/ec2-user/anaconda3/envs/pytorch_p39/lib/python3.9/site-packages (from statsmodels>=0.9.0->category-encoders) (21.3)\n",
      "Requirement already satisfied: pyparsing!=3.0.5,>=2.0.2 in /home/ec2-user/anaconda3/envs/pytorch_p39/lib/python3.9/site-packages (from packaging>=21.3->statsmodels>=0.9.0->category-encoders) (3.0.9)\n",
      "Installing collected packages: category-encoders\n",
      "Successfully installed category-encoders-2.6.0\n"
     ]
    }
   ],
   "source": [
    "!pip install category-encoders"
   ]
  },
  {
   "cell_type": "code",
   "execution_count": 4,
   "id": "d6e4ba18-6b92-400b-86ae-439cb3bac9d6",
   "metadata": {
    "tags": []
   },
   "outputs": [],
   "source": [
    "#General dependencies\n",
    "import sagemaker\n",
    "import pandas as pd\n",
    "import boto3\n",
    "import os\n",
    "import seaborn as sns\n",
    "\n",
    "#Data preprocessing\n",
    "from io import StringIO\n",
    "from category_encoders import BinaryEncoder\n",
    "\n",
    "#Model training and hyperparameter tuning\n",
    "from sagemaker.estimator import Estimator\n",
    "from sagemaker.pytorch import PyTorch \n",
    "from sagemaker import image_uris, model_uris, script_uris\n",
    "from sagemaker.tuner import CategoricalParameter, ContinuousParameter, IntegerParameter, \\\n",
    "    HyperparameterTuner\n",
    "from sagemaker import get_execution_role\n",
    "from sagemaker.debugger import Rule, DebuggerHookConfig, TensorBoardOutputConfig, CollectionConfig, ProfilerRule, rule_configs, ProfilerConfig, FrameworkProfile\n",
    "from sagemaker.analytics import HyperparameterTuningJobAnalytics"
   ]
  },
  {
   "cell_type": "code",
   "execution_count": 6,
   "id": "50438a9a-d460-44ae-acc9-66a9bfa39296",
   "metadata": {
    "tags": []
   },
   "outputs": [],
   "source": [
    "#plot the figures as an output of the notebook cell\n",
    "%matplotlib inline "
   ]
  },
  {
   "cell_type": "code",
   "execution_count": 7,
   "id": "08961008-6869-460c-823b-043377e98d2f",
   "metadata": {
    "tags": []
   },
   "outputs": [],
   "source": [
    "#Prepare commonly used objects\n",
    "session = sagemaker.session.Session()\n",
    "bucket = session.default_bucket()\n",
    "s3_client = boto3.client('s3')\n",
    "role = sagemaker.get_execution_role()"
   ]
  },
  {
   "cell_type": "code",
   "execution_count": 8,
   "id": "7c218189-ae35-41e1-ad04-8945665f2be3",
   "metadata": {
    "tags": []
   },
   "outputs": [],
   "source": [
    "response = s3_client.get_object(Bucket=bucket, Key='data/data.csv')\n",
    "body=response['Body']"
   ]
  },
  {
   "cell_type": "code",
   "execution_count": 9,
   "id": "42cf5054-2d1e-48d0-86e7-57232f54a07d",
   "metadata": {
    "tags": []
   },
   "outputs": [
    {
     "name": "stderr",
     "output_type": "stream",
     "text": [
      "/tmp/ipykernel_5923/285887691.py:3: DtypeWarning: Columns (13) have mixed types. Specify dtype option on import or set low_memory=False.\n",
      "  df = pd.read_csv(StringIO(data))\n"
     ]
    }
   ],
   "source": [
    "#Import dataset from s3\n",
    "data = body.read().decode('utf-8')\n",
    "df = pd.read_csv(StringIO(data))"
   ]
  },
  {
   "cell_type": "markdown",
   "id": "44a7729f-772a-45dd-8b63-ab1b043ba463",
   "metadata": {},
   "source": [
    "#### Initial analysis\n",
    "Examples of the rows can be seen, where there are a lot of missing values, and there is a mixture of numerical and text-based features in the dataframe. The next sections will provide insight into what is needed to prepare the data to be used as input for the LightGBM model."
   ]
  },
  {
   "cell_type": "code",
   "execution_count": 7,
   "id": "e797d433-188e-45bb-b452-d58da25a83bc",
   "metadata": {
    "tags": []
   },
   "outputs": [
    {
     "data": {
      "text/html": [
       "<div>\n",
       "<style scoped>\n",
       "    .dataframe tbody tr th:only-of-type {\n",
       "        vertical-align: middle;\n",
       "    }\n",
       "\n",
       "    .dataframe tbody tr th {\n",
       "        vertical-align: top;\n",
       "    }\n",
       "\n",
       "    .dataframe thead th {\n",
       "        text-align: right;\n",
       "    }\n",
       "</style>\n",
       "<table border=\"1\" class=\"dataframe\">\n",
       "  <thead>\n",
       "    <tr style=\"text-align: right;\">\n",
       "      <th></th>\n",
       "      <th>deceased</th>\n",
       "      <th>subject_id</th>\n",
       "      <th>gender</th>\n",
       "      <th>race</th>\n",
       "      <th>arrival_transport</th>\n",
       "      <th>existing_doses</th>\n",
       "      <th>medicine_dispensations</th>\n",
       "      <th>temperature</th>\n",
       "      <th>heartrate</th>\n",
       "      <th>resprate</th>\n",
       "      <th>o2sat</th>\n",
       "      <th>sbp</th>\n",
       "      <th>dbp</th>\n",
       "      <th>pain</th>\n",
       "      <th>acuity</th>\n",
       "    </tr>\n",
       "  </thead>\n",
       "  <tbody>\n",
       "    <tr>\n",
       "      <th>0</th>\n",
       "      <td>0</td>\n",
       "      <td>14188788</td>\n",
       "      <td>1</td>\n",
       "      <td>OTHER</td>\n",
       "      <td>AMBULANCE</td>\n",
       "      <td>0</td>\n",
       "      <td>6</td>\n",
       "      <td>NaN</td>\n",
       "      <td>NaN</td>\n",
       "      <td>NaN</td>\n",
       "      <td>NaN</td>\n",
       "      <td>NaN</td>\n",
       "      <td>NaN</td>\n",
       "      <td>NaN</td>\n",
       "      <td>NaN</td>\n",
       "    </tr>\n",
       "    <tr>\n",
       "      <th>1</th>\n",
       "      <td>0</td>\n",
       "      <td>19659841</td>\n",
       "      <td>1</td>\n",
       "      <td>OTHER</td>\n",
       "      <td>AMBULANCE</td>\n",
       "      <td>1</td>\n",
       "      <td>12</td>\n",
       "      <td>NaN</td>\n",
       "      <td>NaN</td>\n",
       "      <td>NaN</td>\n",
       "      <td>NaN</td>\n",
       "      <td>NaN</td>\n",
       "      <td>NaN</td>\n",
       "      <td>NaN</td>\n",
       "      <td>NaN</td>\n",
       "    </tr>\n",
       "    <tr>\n",
       "      <th>2</th>\n",
       "      <td>0</td>\n",
       "      <td>11074777</td>\n",
       "      <td>1</td>\n",
       "      <td>WHITE</td>\n",
       "      <td>WALK IN</td>\n",
       "      <td>4</td>\n",
       "      <td>0</td>\n",
       "      <td>NaN</td>\n",
       "      <td>NaN</td>\n",
       "      <td>NaN</td>\n",
       "      <td>NaN</td>\n",
       "      <td>NaN</td>\n",
       "      <td>NaN</td>\n",
       "      <td>NaN</td>\n",
       "      <td>NaN</td>\n",
       "    </tr>\n",
       "    <tr>\n",
       "      <th>3</th>\n",
       "      <td>0</td>\n",
       "      <td>11075647</td>\n",
       "      <td>0</td>\n",
       "      <td>WHITE</td>\n",
       "      <td>WALK IN</td>\n",
       "      <td>1</td>\n",
       "      <td>0</td>\n",
       "      <td>NaN</td>\n",
       "      <td>NaN</td>\n",
       "      <td>NaN</td>\n",
       "      <td>NaN</td>\n",
       "      <td>NaN</td>\n",
       "      <td>NaN</td>\n",
       "      <td>NaN</td>\n",
       "      <td>NaN</td>\n",
       "    </tr>\n",
       "    <tr>\n",
       "      <th>4</th>\n",
       "      <td>0</td>\n",
       "      <td>11858930</td>\n",
       "      <td>1</td>\n",
       "      <td>WHITE</td>\n",
       "      <td>HELICOPTER</td>\n",
       "      <td>0</td>\n",
       "      <td>6</td>\n",
       "      <td>NaN</td>\n",
       "      <td>NaN</td>\n",
       "      <td>NaN</td>\n",
       "      <td>NaN</td>\n",
       "      <td>NaN</td>\n",
       "      <td>NaN</td>\n",
       "      <td>NaN</td>\n",
       "      <td>NaN</td>\n",
       "    </tr>\n",
       "  </tbody>\n",
       "</table>\n",
       "</div>"
      ],
      "text/plain": [
       "   deceased  subject_id  gender   race arrival_transport  existing_doses  \\\n",
       "0         0    14188788       1  OTHER         AMBULANCE               0   \n",
       "1         0    19659841       1  OTHER         AMBULANCE               1   \n",
       "2         0    11074777       1  WHITE           WALK IN               4   \n",
       "3         0    11075647       0  WHITE           WALK IN               1   \n",
       "4         0    11858930       1  WHITE        HELICOPTER               0   \n",
       "\n",
       "   medicine_dispensations  temperature  heartrate  resprate  o2sat  sbp  dbp  \\\n",
       "0                       6          NaN        NaN       NaN    NaN  NaN  NaN   \n",
       "1                      12          NaN        NaN       NaN    NaN  NaN  NaN   \n",
       "2                       0          NaN        NaN       NaN    NaN  NaN  NaN   \n",
       "3                       0          NaN        NaN       NaN    NaN  NaN  NaN   \n",
       "4                       6          NaN        NaN       NaN    NaN  NaN  NaN   \n",
       "\n",
       "  pain  acuity  \n",
       "0  NaN     NaN  \n",
       "1  NaN     NaN  \n",
       "2  NaN     NaN  \n",
       "3  NaN     NaN  \n",
       "4  NaN     NaN  "
      ]
     },
     "execution_count": 7,
     "metadata": {},
     "output_type": "execute_result"
    }
   ],
   "source": [
    "df.head()"
   ]
  },
  {
   "cell_type": "code",
   "execution_count": 8,
   "id": "318fe79c-e97d-4e72-a32e-345aa9e67bb2",
   "metadata": {
    "tags": []
   },
   "outputs": [
    {
     "name": "stdout",
     "output_type": "stream",
     "text": [
      "<class 'pandas.core.frame.DataFrame'>\n",
      "RangeIndex: 205504 entries, 0 to 205503\n",
      "Data columns (total 15 columns):\n",
      " #   Column                  Non-Null Count   Dtype  \n",
      "---  ------                  --------------   -----  \n",
      " 0   deceased                205504 non-null  int64  \n",
      " 1   subject_id              205504 non-null  int64  \n",
      " 2   gender                  205504 non-null  int64  \n",
      " 3   race                    205504 non-null  object \n",
      " 4   arrival_transport       205504 non-null  object \n",
      " 5   existing_doses          205504 non-null  int64  \n",
      " 6   medicine_dispensations  205504 non-null  int64  \n",
      " 7   temperature             191025 non-null  float64\n",
      " 8   heartrate               194174 non-null  float64\n",
      " 9   resprate                192573 non-null  float64\n",
      " 10  o2sat                   192534 non-null  float64\n",
      " 11  sbp                     193632 non-null  float64\n",
      " 12  dbp                     193241 non-null  float64\n",
      " 13  pain                    197462 non-null  object \n",
      " 14  acuity                  200428 non-null  float64\n",
      "dtypes: float64(7), int64(5), object(3)\n",
      "memory usage: 23.5+ MB\n"
     ]
    }
   ],
   "source": [
    "df.info()"
   ]
  },
  {
   "cell_type": "code",
   "execution_count": 9,
   "id": "9ee1edca-c230-4872-a4e8-299ff0c9d75f",
   "metadata": {
    "collapsed": true,
    "jupyter": {
     "outputs_hidden": true
    },
    "tags": []
   },
   "outputs": [
    {
     "name": "stdout",
     "output_type": "stream",
     "text": [
      "deceased\n",
      "Missing values: 0\n",
      "Percentage missing values:  0.00% \n",
      "\n",
      "subject_id\n",
      "Missing values: 0\n",
      "Percentage missing values:  0.00% \n",
      "\n",
      "gender\n",
      "Missing values: 0\n",
      "Percentage missing values:  0.00% \n",
      "\n",
      "race\n",
      "Missing values: 0\n",
      "Percentage missing values:  0.00% \n",
      "\n",
      "arrival_transport\n",
      "Missing values: 0\n",
      "Percentage missing values:  0.00% \n",
      "\n",
      "existing_doses\n",
      "Missing values: 0\n",
      "Percentage missing values:  0.00% \n",
      "\n",
      "medicine_dispensations\n",
      "Missing values: 0\n",
      "Percentage missing values:  0.00% \n",
      "\n",
      "temperature\n",
      "Missing values: 14479\n",
      "Percentage missing values:  7.05% \n",
      "\n",
      "heartrate\n",
      "Missing values: 11330\n",
      "Percentage missing values:  5.51% \n",
      "\n",
      "resprate\n",
      "Missing values: 12931\n",
      "Percentage missing values:  6.29% \n",
      "\n",
      "o2sat\n",
      "Missing values: 12970\n",
      "Percentage missing values:  6.31% \n",
      "\n",
      "sbp\n",
      "Missing values: 11872\n",
      "Percentage missing values:  5.78% \n",
      "\n",
      "dbp\n",
      "Missing values: 12263\n",
      "Percentage missing values:  5.97% \n",
      "\n",
      "pain\n",
      "Missing values: 8042\n",
      "Percentage missing values:  3.91% \n",
      "\n",
      "acuity\n",
      "Missing values: 5076\n",
      "Percentage missing values:  2.47% \n",
      "\n"
     ]
    }
   ],
   "source": [
    "for column in df.columns:\n",
    "    print(column)\n",
    "    missing_values = df[column].isna().sum()\n",
    "    print(f'Missing values: {missing_values}')\n",
    "    print(f'Percentage missing values: {missing_values / len(df[column]) : .2%}', '\\n')"
   ]
  },
  {
   "cell_type": "markdown",
   "id": "88a19016-ed30-48a2-af9e-50627ef34470",
   "metadata": {},
   "source": [
    "#### Exploring numerical columns\n",
    "This table shows that the numerical features have extremely large maximum values, perhaps due to errors when registering the data. All of these values have to be deleted in order for the model to perform correctly."
   ]
  },
  {
   "cell_type": "code",
   "execution_count": 12,
   "id": "2b15eaed-d716-47d2-b250-1512c866f9a3",
   "metadata": {
    "tags": []
   },
   "outputs": [
    {
     "data": {
      "text/html": [
       "<div>\n",
       "<style scoped>\n",
       "    .dataframe tbody tr th:only-of-type {\n",
       "        vertical-align: middle;\n",
       "    }\n",
       "\n",
       "    .dataframe tbody tr th {\n",
       "        vertical-align: top;\n",
       "    }\n",
       "\n",
       "    .dataframe thead th {\n",
       "        text-align: right;\n",
       "    }\n",
       "</style>\n",
       "<table border=\"1\" class=\"dataframe\">\n",
       "  <thead>\n",
       "    <tr style=\"text-align: right;\">\n",
       "      <th></th>\n",
       "      <th>existing_doses</th>\n",
       "      <th>medicine_dispensations</th>\n",
       "      <th>temperature</th>\n",
       "      <th>heartrate</th>\n",
       "      <th>resprate</th>\n",
       "      <th>o2sat</th>\n",
       "      <th>sbp</th>\n",
       "      <th>dbp</th>\n",
       "      <th>acuity</th>\n",
       "    </tr>\n",
       "  </thead>\n",
       "  <tbody>\n",
       "    <tr>\n",
       "      <th>count</th>\n",
       "      <td>205504.000000</td>\n",
       "      <td>205504.000000</td>\n",
       "      <td>191025.000000</td>\n",
       "      <td>194174.000000</td>\n",
       "      <td>192573.000000</td>\n",
       "      <td>192534.000000</td>\n",
       "      <td>193632.000000</td>\n",
       "      <td>193241.000000</td>\n",
       "      <td>200428.000000</td>\n",
       "    </tr>\n",
       "    <tr>\n",
       "      <th>mean</th>\n",
       "      <td>14.536661</td>\n",
       "      <td>7.717869</td>\n",
       "      <td>98.026788</td>\n",
       "      <td>84.680572</td>\n",
       "      <td>17.414518</td>\n",
       "      <td>98.535019</td>\n",
       "      <td>135.276324</td>\n",
       "      <td>79.803498</td>\n",
       "      <td>2.627038</td>\n",
       "    </tr>\n",
       "    <tr>\n",
       "      <th>std</th>\n",
       "      <td>50.213646</td>\n",
       "      <td>19.452057</td>\n",
       "      <td>4.295442</td>\n",
       "      <td>17.956342</td>\n",
       "      <td>2.461268</td>\n",
       "      <td>9.550241</td>\n",
       "      <td>347.338749</td>\n",
       "      <td>154.066896</td>\n",
       "      <td>0.726921</td>\n",
       "    </tr>\n",
       "    <tr>\n",
       "      <th>min</th>\n",
       "      <td>0.000000</td>\n",
       "      <td>0.000000</td>\n",
       "      <td>0.300000</td>\n",
       "      <td>1.000000</td>\n",
       "      <td>0.000000</td>\n",
       "      <td>0.000000</td>\n",
       "      <td>1.000000</td>\n",
       "      <td>0.000000</td>\n",
       "      <td>1.000000</td>\n",
       "    </tr>\n",
       "    <tr>\n",
       "      <th>25%</th>\n",
       "      <td>0.000000</td>\n",
       "      <td>1.000000</td>\n",
       "      <td>97.600000</td>\n",
       "      <td>72.000000</td>\n",
       "      <td>16.000000</td>\n",
       "      <td>98.000000</td>\n",
       "      <td>120.000000</td>\n",
       "      <td>69.000000</td>\n",
       "      <td>2.000000</td>\n",
       "    </tr>\n",
       "    <tr>\n",
       "      <th>50%</th>\n",
       "      <td>3.000000</td>\n",
       "      <td>3.000000</td>\n",
       "      <td>98.000000</td>\n",
       "      <td>83.000000</td>\n",
       "      <td>18.000000</td>\n",
       "      <td>99.000000</td>\n",
       "      <td>132.000000</td>\n",
       "      <td>78.000000</td>\n",
       "      <td>3.000000</td>\n",
       "    </tr>\n",
       "    <tr>\n",
       "      <th>75%</th>\n",
       "      <td>12.000000</td>\n",
       "      <td>8.000000</td>\n",
       "      <td>98.600000</td>\n",
       "      <td>95.000000</td>\n",
       "      <td>18.000000</td>\n",
       "      <td>100.000000</td>\n",
       "      <td>147.000000</td>\n",
       "      <td>87.000000</td>\n",
       "      <td>3.000000</td>\n",
       "    </tr>\n",
       "    <tr>\n",
       "      <th>max</th>\n",
       "      <td>3958.000000</td>\n",
       "      <td>1437.000000</td>\n",
       "      <td>986.000000</td>\n",
       "      <td>1109.000000</td>\n",
       "      <td>209.000000</td>\n",
       "      <td>2100.000000</td>\n",
       "      <td>151103.000000</td>\n",
       "      <td>51989.000000</td>\n",
       "      <td>5.000000</td>\n",
       "    </tr>\n",
       "  </tbody>\n",
       "</table>\n",
       "</div>"
      ],
      "text/plain": [
       "       existing_doses  medicine_dispensations    temperature      heartrate  \\\n",
       "count   205504.000000           205504.000000  191025.000000  194174.000000   \n",
       "mean        14.536661                7.717869      98.026788      84.680572   \n",
       "std         50.213646               19.452057       4.295442      17.956342   \n",
       "min          0.000000                0.000000       0.300000       1.000000   \n",
       "25%          0.000000                1.000000      97.600000      72.000000   \n",
       "50%          3.000000                3.000000      98.000000      83.000000   \n",
       "75%         12.000000                8.000000      98.600000      95.000000   \n",
       "max       3958.000000             1437.000000     986.000000    1109.000000   \n",
       "\n",
       "            resprate          o2sat            sbp            dbp  \\\n",
       "count  192573.000000  192534.000000  193632.000000  193241.000000   \n",
       "mean       17.414518      98.535019     135.276324      79.803498   \n",
       "std         2.461268       9.550241     347.338749     154.066896   \n",
       "min         0.000000       0.000000       1.000000       0.000000   \n",
       "25%        16.000000      98.000000     120.000000      69.000000   \n",
       "50%        18.000000      99.000000     132.000000      78.000000   \n",
       "75%        18.000000     100.000000     147.000000      87.000000   \n",
       "max       209.000000    2100.000000  151103.000000   51989.000000   \n",
       "\n",
       "              acuity  \n",
       "count  200428.000000  \n",
       "mean        2.627038  \n",
       "std         0.726921  \n",
       "min         1.000000  \n",
       "25%         2.000000  \n",
       "50%         3.000000  \n",
       "75%         3.000000  \n",
       "max         5.000000  "
      ]
     },
     "execution_count": 12,
     "metadata": {},
     "output_type": "execute_result"
    }
   ],
   "source": [
    "column_list=['existing_doses','medicine_dispensations','temperature','heartrate','resprate','o2sat','sbp','dbp','acuity']\n",
    "df[column_list].describe()"
   ]
  },
  {
   "cell_type": "markdown",
   "id": "df509fd3-ae8b-47e6-95bb-9d96afbc5155",
   "metadata": {},
   "source": [
    "#### Exploring categorical variables\n",
    "For the text-based columns, these analysis shows the different values that they contain. It is shown that the `pain` column has different values that what is described in the column definition"
   ]
  },
  {
   "cell_type": "code",
   "execution_count": 9,
   "id": "9c08386a-a91d-42d9-b5c4-ed505c1f4123",
   "metadata": {
    "collapsed": true,
    "jupyter": {
     "outputs_hidden": true
    },
    "tags": []
   },
   "outputs": [
    {
     "name": "stdout",
     "output_type": "stream",
     "text": [
      "WHITE                                        118962\n",
      "BLACK/AFRICAN AMERICAN                        25677\n",
      "OTHER                                         11875\n",
      "UNKNOWN                                        6409\n",
      "ASIAN                                          4955\n",
      "HISPANIC/LATINO - PUERTO RICAN                 4623\n",
      "WHITE - OTHER EUROPEAN                         4512\n",
      "ASIAN - CHINESE                                4159\n",
      "HISPANIC/LATINO - DOMINICAN                    3225\n",
      "BLACK/CAPE VERDEAN                             2789\n",
      "BLACK/AFRICAN                                  2405\n",
      "WHITE - RUSSIAN                                2213\n",
      "BLACK/CARIBBEAN ISLAND                         1667\n",
      "HISPANIC OR LATINO                             1328\n",
      "HISPANIC/LATINO - GUATEMALAN                   1070\n",
      "ASIAN - ASIAN INDIAN                            903\n",
      "ASIAN - SOUTH EAST ASIAN                        861\n",
      "WHITE - BRAZILIAN                               854\n",
      "HISPANIC/LATINO - MEXICAN                       694\n",
      "HISPANIC/LATINO - SALVADORAN                    682\n",
      "WHITE - EASTERN EUROPEAN                        664\n",
      "HISPANIC/LATINO - COLUMBIAN                     646\n",
      "PORTUGUESE                                      631\n",
      "AMERICAN INDIAN/ALASKA NATIVE                   528\n",
      "SOUTH AMERICAN                                  523\n",
      "ASIAN - KOREAN                                  522\n",
      "PATIENT DECLINED TO ANSWER                      451\n",
      "HISPANIC/LATINO - HONDURAN                      384\n",
      "HISPANIC/LATINO - CENTRAL AMERICAN              330\n",
      "NATIVE HAWAIIAN OR OTHER PACIFIC ISLANDER       309\n",
      "HISPANIC/LATINO - CUBAN                         284\n",
      "UNABLE TO OBTAIN                                210\n",
      "MULTIPLE RACE/ETHNICITY                         159\n",
      "Name: race, dtype: int64\n",
      "WALK IN       119599\n",
      "AMBULANCE      75745\n",
      "UNKNOWN         8741\n",
      "HELICOPTER       719\n",
      "OTHER            700\n",
      "Name: arrival_transport, dtype: int64\n",
      "0                                                      57501\n",
      "8                                                      18228\n",
      "5                                                      15339\n",
      "10                                                     15307\n",
      "7                                                      15193\n",
      "                                                       ...  \n",
      "u/'a                                                       1\n",
      "numb                                                       1\n",
      "nonw                                                       1\n",
      "lots                                                       1\n",
      "unable to give a number, says it's hard to describe        1\n",
      "Name: pain, Length: 566, dtype: int64\n"
     ]
    }
   ],
   "source": [
    "for column in ['race','arrival_transport', 'pain']:\n",
    "    print(df[column].value_counts())"
   ]
  },
  {
   "cell_type": "code",
   "execution_count": 11,
   "id": "8be4a6b2-1266-46e5-b4b0-b8adca21f1df",
   "metadata": {
    "collapsed": true,
    "jupyter": {
     "outputs_hidden": true
    },
    "tags": []
   },
   "outputs": [
    {
     "name": "stdout",
     "output_type": "stream",
     "text": [
      "[nan '&' ')' '+' '-' '.' '0' 0 1 2 3 4 5 6 '6' '7' '8' '9' '?' 'C' 'T' 'U'\n",
      " 'c' 'i' 'o' 's' 't' 'u' ' 0' ' 4' ' 6' ' c' '++' '-0' '.0' '.3' '.5' '/?'\n",
      " '0 ' '0-' '0.' '0/' '00' '01' '03' '06' '07' '08' '09' '10' '11' '12'\n",
      " '13' '14' '15' '16' '18' '19' '2,' '2.' '20' '23' '3 ' '3t' '5 ' '51'\n",
      " '54' '56' '6 ' '61' '68' '6`' '7/' '70' '73' '75' '8 ' '8,' '8.' '8/'\n",
      " '88' '9 ' '9+' '90' '95' '97' '98' '<1' '?/' '??' 'CP' 'RA' 'UA' 'Ua'\n",
      " 'na' 'no' 'o3' 'ok' 'ph' 'ra' 'uA' 'ua' 'un' 'ut' ' 10' '0  ' '0, ' '0-1'\n",
      " '0-2' '0-5' '0-7' '0-8' '0-9' '0..' '0.5' '069' '1 0' '1-2' '1-3' '1-7'\n",
      " '1.2' '1.5' '1/2' '10 ' '10+' '10.' '10/' '100' '134' '180' '1`0' '2-3'\n",
      " '2-4' '2-6' '2-7' '2-8' '2-9' '2. ' '2.5' '3  ' '3-4' '3-5' '3-6' '3-7'\n",
      " '3.5' '4-5' '4-8' '4. ' '4.5' '4/9' '5-6' '5-8' '5-9' '5.5' '5.8' '5/7'\n",
      " '5/8' '5/9' '6-7' '6-8' '6-9' '6.5' '7-6' '7-8' '7-9' '7.5' '7/8' '8  '\n",
      " '8-9' '8.5' '8.6' '8.7' '8/6' '8/9' '9  ' '9-8' '9.4' '9.5' '9.7' '9.9'\n",
      " '9/6' '>10' 'AMS' 'Bad' 'ETT' 'INT' 'NAD' 'Pt ' 'Ref' 'U.A' 'U/A' 'UTA'\n",
      " 'UTa' '___' '`10' 'bad' 'ett' 'low' 'mod' 'nha' 'pta' 'red' 'u/a' 'uTA'\n",
      " 'unk' 'uta' 'utd' 'uti' 'uto' 'uts' 'yes' '\"11\"' '\"12\"' '\"13\"' '\"15\"'\n",
      " '\"20\"' '\"60\"' '\"no\"' '0-10' '0pcn' '1/10' '10. ' '10/5' '2-10' '3, 7'\n",
      " '3-10' '3-11' '3/10' '4  H' '4-10' '5-10' '5/10' '6-10' '6/10' '7-10'\n",
      " '7.  ' '8,10' '8-10' '8.59' '8/10' '81/2' '9-10' '9/10' 'Mild' 'UTA '\n",
      " 'ache' 'achy' 'alot' 'cirt' 'crit' 'dull' 'fine' 'good' 'lots' 'mild'\n",
      " 'none' 'nonw' 'numb' 'pain' 'some' 'sore' \"u/'a\" 'u/a ' 'urta' 'uta '\n",
      " 'utts' 'vent' 'very' 'yes ' 'yes.' '  6-9' '\"10+\"' '\"110\"' '\"bad\"'\n",
      " '\"yes\"' '098.6' '10...' '10/10' '30-40' '5 1/2' '7-7.5' '7.235' '7.5-8'\n",
      " '8.5-9' '9 1.2' '98.60' 'a lot' 'achey' 'awful' 'balit' 'bipap' 'criot'\n",
      " 'crit ' 'criut' 'dont ' 'error' 'hurts' 'itchy' 'minor' 'mucho' 'pain '\n",
      " 'right' 'scary' 'sharp' 'sleep' 'small' 'so so' 'tight' 'u/a. ' 'uable'\n",
      " 'unabe' 'unale' 'unbel' 'unble' '\"1000\"' '\"Alot\"' '\"alot\"' '\"pain\"'\n",
      " '0-8/10' '0no nf' '8.5-10' '9.5-10' 'ASLEEP' 'UNABLE' 'Unable' 'asleep'\n",
      " 'better' 'cramps' 'crying' 'denies' 'inable' 'little' 'medium' 'middle'\n",
      " 'other ' 'pehosp' 'prehsp' 'severe' 'sleepy' 'slight' 'stings' 'strong'\n",
      " 'tender' 'throbs' 'trauma' 'twingy' 'uanble' 'uanlbe' 'unabke' 'unabl3'\n",
      " 'unable' 'unablw' 'unalbe' 'unale ' 'unbale' 'uncoop' 'unknwn' 'unqble'\n",
      " 'unresp' 'varies' '\"a lot\"' '\"heavy\"' 'FACES 4' 'L chest' 'REFUSED'\n",
      " 'Refused' 'Unable ' 'aphasic' 'asleep ' 'bloated' 'burning' 'critcal'\n",
      " 'denies ' 'diffuse' 'moaning' 'no pain' 'not bac' 'not bad' 'over 10'\n",
      " 'painful' 'poquito' 'prehosp' 'prehsop' 'reduced' 'refused' 'refuses'\n",
      " 'sedated' 'trauma ' 'trigger' 'un able' 'unabale' 'unabkle' 'unabl e'\n",
      " 'unable ' 'unable.' 'unablwe' 'unalb e' 'unclear' 'unjable' 'unknown'\n",
      " 'untabl ' '\"little\"' ':unable\"' 'CRITICAL' 'Critical' 'Moderate'\n",
      " 'Refusing' 'a little' 'all over' 'annoying' 'constant' 'cramping'\n",
      " 'critcal ' 'critial ' 'critica;' 'critical' 'crtiical' 'declined'\n",
      " 'gi upset' 'it hurts' 'leg pain' 'moaning ' 'moderate' 'not able'\n",
      " 'not much' 'pinching' 'pre hosp' 'pre-hosp' 'prehosp ' 'pressure'\n",
      " 'real bad' 'refused ' 'refusing' 'sleeping' 'somulent' 'tiny bit'\n",
      " 'too much' 'unaknown' 'unknow n' 'unknown ' 'variable' 'very bad'\n",
      " ' a little' '\"alittle\"' '\"painful\"' '\"so much\"' '\"tension\"' 'INTUBATED'\n",
      " 'Intubated' 'agitated ' 'bone pain' 'critical ' 'criticial' 'dull achy'\n",
      " 'grimacing' 'heartburn' 'heaviness' 'intubated' 'nonverbal' 'refusing '\n",
      " 'see below' 'stiffness' 'throbbing' 'tightness' 'tolerable' 'uncomfort'\n",
      " '\" alittle\"' '\"Too much\"' '\"a little\"' '\"moderate\"' '\"not much\"'\n",
      " '\"real bad\"' 'Non-verbal' 'controlled' 'critical; ' 'discomfort'\n",
      " 'everywhere' 'hurts alot' 'intubuated' 'less sharp' 'little bit'\n",
      " 'manageable' 'non verbal' 'not normal' 'not really' 'not to bad'\n",
      " 'pretty bad' 'unable 97/' 'when i pee' '\"litte bit\"' '\"up there\" '\n",
      " 'mild aches ' 'not too bad' 'pretty badf' 'wont answer' '\"discomfort\"'\n",
      " 'Unresponsive' 'chronic pain' 'excrutiating' \"i don't know\"\n",
      " 'intermittent' 'not that bad' 'not too bad.' 'pre-hospital'\n",
      " 'really hurts' 'very painful' '\"borderline\" ' '\"negligible\" '\n",
      " '\"pretty high\"' '\"slight pain\"' '10 w/ walking' 'achy all over'\n",
      " 'not much pain' 'too much pain' 'unable trauma' 'uncomfortable'\n",
      " '10 w/ movement' 'almost nothing' 'hurts to touch' 'it is up there'\n",
      " 'just bodyaches' 'quite p ainful' '\"a little bit.\"' '\"a little more\"'\n",
      " '0sent  for  lab' 'mild discomfort' 'slight pressure' 'total body pain'\n",
      " 'unable to score' '\"maybe a little\"' 'intense pressure'\n",
      " 'not comfortable.' 'not very painful' 'through the roof'\n",
      " 'uanble to answer' 'unable d/t intox' 'unable to access'\n",
      " 'unable to assess' 'unable to give #' 'unable to obtain'\n",
      " 'constant pressure' 'hurts when moving' 'no pain if seated'\n",
      " 'not strong at all' 'only a little bit' 'refused to answer'\n",
      " 'refuses to answer' 'unable - sleeping' '\"hurts everywhere\"'\n",
      " 'constant discomfort' 'FACES pain scale of 7' 'no pain if not moving'\n",
      " 'when i touch it hurts' 'CP 4/10 and groin 7/10' 'little bit of pressure'\n",
      " 'c/o severe HA since mon' 'did not give pain scale'\n",
      " 'refusing to give a number' '\"I dont do the pain scale\"'\n",
      " 'unable to report (aphasic)' '7 chronic back and neck pain'\n",
      " \"it doesn't hurt unless i move it\" '8/ paronychia lanced   3  days  ago'\n",
      " '\"not as bad not, they gave me tylenol\"'\n",
      " '10 (but dozing off during questioning)'\n",
      " 'Pt states he is unable to give me a number '\n",
      " \"unable to give a number, says it's hard to describe\"]\n"
     ]
    }
   ],
   "source": [
    "print(df['pain'].unique())"
   ]
  },
  {
   "cell_type": "markdown",
   "id": "d99ecc6a-0fcf-425c-aeb1-f256ec918cd6",
   "metadata": {},
   "source": [
    "### Exploratory Visualization"
   ]
  },
  {
   "cell_type": "markdown",
   "id": "c25bf4cc-1f52-4575-9584-884bb164720d",
   "metadata": {},
   "source": [
    "The following plot demostrates the skew of the target column, where the majority of the patients survived the ED visit."
   ]
  },
  {
   "cell_type": "code",
   "execution_count": 10,
   "id": "6d14a5bb-efe5-48e7-8fd7-839771879420",
   "metadata": {
    "tags": []
   },
   "outputs": [
    {
     "data": {
      "text/plain": [
       "<AxesSubplot:xlabel='deceased', ylabel='count'>"
      ]
     },
     "execution_count": 10,
     "metadata": {},
     "output_type": "execute_result"
    },
    {
     "data": {
      "image/png": "[encoded data removed]",
      "text/plain": [
       "<Figure size 640x480 with 1 Axes>"
      ]
     },
     "metadata": {},
     "output_type": "display_data"
    }
   ],
   "source": [
    "sns.countplot(x=df['deceased'])"
   ]
  },
  {
   "cell_type": "markdown",
   "id": "1d944208-9a5f-405f-b1c6-0afbdeffa67f",
   "metadata": {
    "tags": []
   },
   "source": [
    "## III. Methodology"
   ]
  },
  {
   "cell_type": "markdown",
   "id": "18b19a4a-1a74-493d-8a2d-08c6adad4d77",
   "metadata": {
    "tags": []
   },
   "source": [
    "### Data Preprocessing"
   ]
  },
  {
   "cell_type": "markdown",
   "id": "178eeeca-1bcb-4d61-b168-70288cd6f1db",
   "metadata": {
    "tags": []
   },
   "source": [
    "This section addresses the abnormaalities identified in the previous section. At the end, a cleaned dataframe will be stoored in S3 for the use of training and refinement processes."
   ]
  },
  {
   "cell_type": "markdown",
   "id": "20e93396",
   "metadata": {},
   "source": [
    "Drop unused columns"
   ]
  },
  {
   "cell_type": "code",
   "execution_count": 13,
   "id": "e6b94523-65d0-45a8-9d16-510e33400bda",
   "metadata": {
    "tags": []
   },
   "outputs": [],
   "source": [
    "df = df.drop(axis=1, columns=['subject_id', 'pain'])"
   ]
  },
  {
   "cell_type": "markdown",
   "id": "63670e12-d6c4-4231-a98c-b97e9e8ac2a4",
   "metadata": {},
   "source": [
    "Drop null values"
   ]
  },
  {
   "cell_type": "code",
   "execution_count": 14,
   "id": "2de1d991-2034-415f-a689-b1e803cd4f17",
   "metadata": {
    "tags": []
   },
   "outputs": [],
   "source": [
    "df = df.dropna()"
   ]
  },
  {
   "cell_type": "markdown",
   "id": "e0754164",
   "metadata": {
    "tags": []
   },
   "source": [
    "Encode categorical variables"
   ]
  },
  {
   "cell_type": "code",
   "execution_count": 13,
   "id": "5d846fdb",
   "metadata": {
    "tags": []
   },
   "outputs": [
    {
     "data": {
      "text/plain": [
       "''"
      ]
     },
     "execution_count": 13,
     "metadata": {},
     "output_type": "execute_result"
    }
   ],
   "source": [
    "dummies = pd.get_dummies(df['arrival_transport'], prefix='arrival_transport', drop_first=True)\n",
    "df = df.join(dummies)\n",
    "df = df.drop('arrival_transport', axis=1)\n",
    "\n",
    "\n",
    "df = BinaryEncoder(cols=['race'], drop_invariant=True).fit_transform(df)"
   ]
  },
  {
   "cell_type": "markdown",
   "id": "c81de5ae",
   "metadata": {},
   "source": [
    "Scale these two columns"
   ]
  },
  {
   "cell_type": "code",
   "execution_count": 16,
   "id": "469fabe4",
   "metadata": {
    "tags": []
   },
   "outputs": [],
   "source": [
    "from sklearn.preprocessing import MinMaxScaler\n",
    "\n",
    "scaler = MinMaxScaler()\n",
    "df[ ['existing_doses', 'medicine_dispensations'] ] = scaler.fit_transform(\n",
    "    df[ ['existing_doses', 'medicine_dispensations'] ])"
   ]
  },
  {
   "cell_type": "markdown",
   "id": "59389d33",
   "metadata": {},
   "source": [
    "Drop erroneous readings"
   ]
  },
  {
   "cell_type": "code",
   "execution_count": 17,
   "id": "efc43a90",
   "metadata": {
    "tags": []
   },
   "outputs": [],
   "source": [
    "# sbp - drop values higher than 300 (even then, these are extreme)\n",
    "# dbp - drop values higher than 300 (even then, these are extreme)\n",
    "df = df[ (df['sbp'] <= 300) & (df['dbp'] <= 300) ]"
   ]
  },
  {
   "cell_type": "markdown",
   "id": "eca69203",
   "metadata": {},
   "source": [
    "Define column types"
   ]
  },
  {
   "cell_type": "code",
   "execution_count": 18,
   "id": "7aad7271-8b40-48ac-943f-d97874a01b47",
   "metadata": {
    "tags": []
   },
   "outputs": [],
   "source": [
    "int_columns=['race_0','race_1','race_2','race_3','race_4','race_5','arrival_transport_HELICOPTER',\n",
    "            'arrival_transport_OTHER','arrival_transport_UNKNOWN','arrival_transport_WALK IN']\n",
    "float_columns=['existing_doses','medicine_dispensations','temperature','heartrate','resprate','o2sat','sbp','dbp','acuity']\n",
    "df['deceased']=df['deceased'].astype('bool')\n",
    "df[int_columns]=df[int_columns].astype('int')\n",
    "df[float_columns]=df[float_columns].astype('float')"
   ]
  },
  {
   "cell_type": "markdown",
   "id": "13404a49-ebfb-4995-a466-d25d4f315d71",
   "metadata": {},
   "source": [
    "#### Overview of the cleaned dataframe\n",
    "It can be seen that the resulting dataset has a low number of columns, and that the number of samples is low as well. Both of these characteristics improve the performance of the LightGBM model"
   ]
  },
  {
   "cell_type": "code",
   "execution_count": 19,
   "id": "d7b30c4f-8f8f-4e0c-8069-37c12a26f2d0",
   "metadata": {
    "tags": []
   },
   "outputs": [
    {
     "name": "stdout",
     "output_type": "stream",
     "text": [
      "<class 'pandas.core.frame.DataFrame'>\n",
      "Int64Index: 186540 entries, 6267 to 205503\n",
      "Data columns (total 21 columns):\n",
      " #   Column                        Non-Null Count   Dtype  \n",
      "---  ------                        --------------   -----  \n",
      " 0   deceased                      186540 non-null  bool   \n",
      " 1   gender                        186540 non-null  int64  \n",
      " 2   race_0                        186540 non-null  int64  \n",
      " 3   race_1                        186540 non-null  int64  \n",
      " 4   race_2                        186540 non-null  int64  \n",
      " 5   race_3                        186540 non-null  int64  \n",
      " 6   race_4                        186540 non-null  int64  \n",
      " 7   race_5                        186540 non-null  int64  \n",
      " 8   existing_doses                186540 non-null  float64\n",
      " 9   medicine_dispensations        186540 non-null  float64\n",
      " 10  temperature                   186540 non-null  float64\n",
      " 11  heartrate                     186540 non-null  float64\n",
      " 12  resprate                      186540 non-null  float64\n",
      " 13  o2sat                         186540 non-null  float64\n",
      " 14  sbp                           186540 non-null  float64\n",
      " 15  dbp                           186540 non-null  float64\n",
      " 16  acuity                        186540 non-null  float64\n",
      " 17  arrival_transport_HELICOPTER  186540 non-null  int64  \n",
      " 18  arrival_transport_OTHER       186540 non-null  int64  \n",
      " 19  arrival_transport_UNKNOWN     186540 non-null  int64  \n",
      " 20  arrival_transport_WALK IN     186540 non-null  int64  \n",
      "dtypes: bool(1), float64(9), int64(11)\n",
      "memory usage: 30.1 MB\n"
     ]
    }
   ],
   "source": [
    "#Overview of the cleaned dataset\n",
    "df.info() "
   ]
  },
  {
   "cell_type": "markdown",
   "id": "1aaf6314-7ec8-4962-a3e7-e154928e6d97",
   "metadata": {},
   "source": [
    "Save the corrected dataframe to s3"
   ]
  },
  {
   "cell_type": "code",
   "execution_count": 55,
   "id": "d9a957be",
   "metadata": {
    "tags": []
   },
   "outputs": [],
   "source": [
    "file_name='cleaned_data.csv'\n",
    "s3_prefix='data'\n",
    "object_name=os.path.join(s3_prefix, file_name)\n",
    "#Create csv from cleaned dataframe\n",
    "df.to_csv(file_name,index=False)\n",
    "#Save csv on s3 bucket\n",
    "try:\n",
    "    response = s3_client.upload_file(file_name, bucket, object_name)\n",
    "except ClientError as e:\n",
    "    print(e)"
   ]
  },
  {
   "cell_type": "markdown",
   "id": "6aa19b2a-87ef-48c7-9795-91e610a819ea",
   "metadata": {},
   "source": [
    "### Refinement"
   ]
  },
  {
   "cell_type": "markdown",
   "id": "403d8fd9-6371-465a-9e36-ad87aa33e7b2",
   "metadata": {},
   "source": [
    "#### Hyperparameter tuning\n",
    "This section is completed before the model training, in order to be able to train a model with the optimal combination of parameters."
   ]
  },
  {
   "cell_type": "code",
   "execution_count": 56,
   "id": "9f94b930",
   "metadata": {
    "tags": []
   },
   "outputs": [],
   "source": [
    "hyperparameter_ranges = {\n",
    "    \"learning_rate\": ContinuousParameter(1e-4, 1, scaling_type=\"Logarithmic\"),\n",
    "    \"num_iterations\": IntegerParameter(2, 30),\n",
    "    \"early_stopping_rounds\": IntegerParameter(2, 30),\n",
    "    \"num_leaves\": IntegerParameter(10, 50),\n",
    "    \"max_depth\": IntegerParameter(5, 30),\n",
    "}\n",
    "objective_metric_name = \"Test Accuracy\"\n",
    "objective_type=\"Maximize\"\n",
    "metric_definitions=[{\"Name\": \"Test Accuracy\", \"Regex\": \"Testing Accuracy: ([0-9\\\\.]+)\"}]"
   ]
  },
  {
   "cell_type": "markdown",
   "id": "9f920c3d-612d-49d8-8afe-e380040b0a4b",
   "metadata": {},
   "source": [
    "Download the predefined, specialized training image for the LightGBM model"
   ]
  },
  {
   "cell_type": "code",
   "execution_count": 57,
   "id": "285eac6f-4058-4b11-bc7e-2f7a181eb725",
   "metadata": {
    "tags": []
   },
   "outputs": [],
   "source": [
    "# Currently, not all the object detection models in jumpstart support finetuning. Thus, we manually select a model\n",
    "# which supports finetuning.\n",
    "\n",
    "train_model_id, train_model_version, train_scope = \"lightgbm-classification-model\", \"*\", \"training\"\n",
    "training_instance_type = \"ml.m5.xlarge\"\n",
    "\n",
    "# Retrieve the docker image\n",
    "train_image_uri = image_uris.retrieve(\n",
    "    region=None,\n",
    "    framework=None,\n",
    "    model_id=train_model_id,\n",
    "    model_version=train_model_version,\n",
    "    image_scope=train_scope,\n",
    "    instance_type=training_instance_type,\n",
    ")\n",
    "\n",
    "#Looking at the example project\n",
    "# print(train_source_uri)\n",
    "# response = s3_client.get_object(Bucket='jumpstart-cache-prod-us-east-1', Key='source-directory-tarballs/lightgbm/transfer_learning/classification/v2.1.1/sourcedir.tar.gz')\n",
    "# body=response['Body']\n",
    "# with open('sourcedir.tar.gz','wb') as f:\n",
    "#     f.write(body.read())"
   ]
  },
  {
   "cell_type": "code",
   "execution_count": 62,
   "id": "634c5f18",
   "metadata": {
    "tags": []
   },
   "outputs": [],
   "source": [
    "estimator = Estimator(\n",
    "    role=role,\n",
    "    image_uri=train_image_uri,\n",
    "    source_dir=\"code/\",\n",
    "    entry_point=\"hpo.py\",\n",
    "    instance_count=1,\n",
    "    instance_type=training_instance_type,\n",
    "    max_run=360000,\n",
    "    output_path='s3://'+bucket+'/hpo/'\n",
    ")\n",
    "tuner = HyperparameterTuner(\n",
    "    estimator,\n",
    "    objective_metric_name,\n",
    "    hyperparameter_ranges,\n",
    "    metric_definitions,\n",
    "    max_jobs=2,\n",
    "    max_parallel_jobs=2,\n",
    "    objective_type=objective_type\n",
    ")"
   ]
  },
  {
   "cell_type": "code",
   "execution_count": 25,
   "id": "6c73dd38-010e-4105-b9db-a8080cde4232",
   "metadata": {
    "tags": []
   },
   "outputs": [],
   "source": [
    "base_path = os.path.join('s3://', bucket)\n",
    "# os.environ['SM_CHANNEL_TRAINING']=os.path.join(base_path,'data')\n",
    "# os.environ['SM_MODEL_DIR']=os.path.join(base_path,'model')\n",
    "# os.environ['SM_OUTPUT_DATA_DIR']=os.path.join(base_path,'output')\n",
    "#Setting varibles here doesnt affect the training (hyperparmeter tuning) environment. Research how to change default values"
   ]
  },
  {
   "cell_type": "code",
   "execution_count": 63,
   "id": "422d5030-6339-4129-9c58-19e09c219df5",
   "metadata": {
    "tags": []
   },
   "outputs": [
    {
     "name": "stderr",
     "output_type": "stream",
     "text": [
      "No finished training job found associated with this estimator. Please make sure this estimator is only used for building workflow config\n",
      "No finished training job found associated with this estimator. Please make sure this estimator is only used for building workflow config\n"
     ]
    },
    {
     "name": "stdout",
     "output_type": "stream",
     "text": [
      ".................................!\n"
     ]
    }
   ],
   "source": [
    "tuner.fit({\"training\": base_path}, logs=True)"
   ]
  },
  {
   "cell_type": "markdown",
   "id": "82536d4b",
   "metadata": {},
   "source": [
    "Describe the tuning results"
   ]
  },
  {
   "cell_type": "code",
   "execution_count": 64,
   "id": "40cd5262",
   "metadata": {
    "tags": []
   },
   "outputs": [
    {
     "data": {
      "text/html": [
       "<div>\n",
       "<style scoped>\n",
       "    .dataframe tbody tr th:only-of-type {\n",
       "        vertical-align: middle;\n",
       "    }\n",
       "\n",
       "    .dataframe tbody tr th {\n",
       "        vertical-align: top;\n",
       "    }\n",
       "\n",
       "    .dataframe thead th {\n",
       "        text-align: right;\n",
       "    }\n",
       "</style>\n",
       "<table border=\"1\" class=\"dataframe\">\n",
       "  <thead>\n",
       "    <tr style=\"text-align: right;\">\n",
       "      <th></th>\n",
       "      <th>batch_size</th>\n",
       "      <th>epochs</th>\n",
       "      <th>learning_rate</th>\n",
       "      <th>TrainingJobName</th>\n",
       "      <th>TrainingJobStatus</th>\n",
       "      <th>FinalObjectiveValue</th>\n",
       "      <th>TrainingStartTime</th>\n",
       "      <th>TrainingEndTime</th>\n",
       "      <th>TrainingElapsedTimeSeconds</th>\n",
       "    </tr>\n",
       "  </thead>\n",
       "  <tbody>\n",
       "    <tr>\n",
       "      <th>0</th>\n",
       "      <td>\"1024\"</td>\n",
       "      <td>\"15\"</td>\n",
       "      <td>0.001354</td>\n",
       "      <td>pytorch-training-230402-1939-002-4b5b409a</td>\n",
       "      <td>Completed</td>\n",
       "      <td>0.914841</td>\n",
       "      <td>2023-04-02 19:40:23+00:00</td>\n",
       "      <td>2023-04-02 19:42:25+00:00</td>\n",
       "      <td>122.0</td>\n",
       "    </tr>\n",
       "    <tr>\n",
       "      <th>1</th>\n",
       "      <td>\"1024\"</td>\n",
       "      <td>\"10\"</td>\n",
       "      <td>0.033328</td>\n",
       "      <td>pytorch-training-230402-1939-001-e5e8c553</td>\n",
       "      <td>Completed</td>\n",
       "      <td>0.914841</td>\n",
       "      <td>2023-04-02 19:40:18+00:00</td>\n",
       "      <td>2023-04-02 19:42:26+00:00</td>\n",
       "      <td>128.0</td>\n",
       "    </tr>\n",
       "  </tbody>\n",
       "</table>\n",
       "</div>"
      ],
      "text/plain": [
       "  batch_size epochs  learning_rate                            TrainingJobName  \\\n",
       "0     \"1024\"   \"15\"       0.001354  pytorch-training-230402-1939-002-4b5b409a   \n",
       "1     \"1024\"   \"10\"       0.033328  pytorch-training-230402-1939-001-e5e8c553   \n",
       "\n",
       "  TrainingJobStatus  FinalObjectiveValue         TrainingStartTime  \\\n",
       "0         Completed             0.914841 2023-04-02 19:40:23+00:00   \n",
       "1         Completed             0.914841 2023-04-02 19:40:18+00:00   \n",
       "\n",
       "            TrainingEndTime  TrainingElapsedTimeSeconds  \n",
       "0 2023-04-02 19:42:25+00:00                       122.0  \n",
       "1 2023-04-02 19:42:26+00:00                       128.0  "
      ]
     },
     "execution_count": 64,
     "metadata": {},
     "output_type": "execute_result"
    }
   ],
   "source": [
    "exp = HyperparameterTuningJobAnalytics(\n",
    "  hyperparameter_tuning_job_name='pytorch-training-230402-1939')\n",
    "\n",
    "jobs = exp.dataframe()\n",
    "\n",
    "jobs.sort_values('FinalObjectiveValue', ascending=0)"
   ]
  },
  {
   "cell_type": "code",
   "execution_count": 65,
   "id": "0f7bda4c-4a8b-4563-be79-06a0d30137e6",
   "metadata": {
    "tags": []
   },
   "outputs": [
    {
     "name": "stdout",
     "output_type": "stream",
     "text": [
      "\n",
      "2023-04-03 05:19:42 Starting - Preparing the instances for training\n",
      "2023-04-03 05:19:42 Downloading - Downloading input data\n",
      "2023-04-03 05:19:42 Training - Training image download completed. Training in progress.\n",
      "2023-04-03 05:19:42 Uploading - Uploading generated training model\n",
      "2023-04-03 05:19:42 Completed - Resource retained for reuse\n"
     ]
    },
    {
     "data": {
      "text/plain": [
       "{'_tuning_objective_metric': 'Test Accuracy',\n",
       " 'early_stopping_rounds': '25',\n",
       " 'learning_rate': '0.4921729293048727',\n",
       " 'max_depth': '15',\n",
       " 'num_iterations': '29',\n",
       " 'num_leaves': '10',\n",
       " 'sagemaker_container_log_level': '20',\n",
       " 'sagemaker_job_name': '\"pytorch-training-2023-04-03-05-16-20-121\"',\n",
       " 'sagemaker_program': '\"hpo.py\"',\n",
       " 'sagemaker_region': '\"us-east-1\"',\n",
       " 'sagemaker_submit_directory': '\"s3://sagemaker-us-east-1-927441871693/pytorch-training-2023-04-03-05-16-20-121/source/sourcedir.tar.gz\"'}"
      ]
     },
     "execution_count": 65,
     "metadata": {},
     "output_type": "execute_result"
    }
   ],
   "source": [
    "#Get the hyperparameters of the best trained model\n",
    "best_estimator = tuner.best_estimator()\n",
    "best_estimator.hyperparameters()"
   ]
  },
  {
   "cell_type": "markdown",
   "id": "25cccc98-9546-4195-bdc4-d6b6df8f1188",
   "metadata": {},
   "source": [
    "### Implementation"
   ]
  },
  {
   "cell_type": "markdown",
   "id": "1abac048-8240-4661-ac85-273ddc165a99",
   "metadata": {},
   "source": [
    "Once the best hyperparameters are selected, the model is traine once withe these optimal configuration, and an endpoint is deployed. This endpoint copies the trained model to serve predictions with an API"
   ]
  },
  {
   "cell_type": "code",
   "execution_count": 22,
   "id": "234383e3-43ae-44fc-8e26-0e8624261c41",
   "metadata": {
    "tags": []
   },
   "outputs": [],
   "source": [
    "best_hyperparameters = {\n",
    "    'early_stopping_rounds': '25',\n",
    "    'learning_rate': '0.4921729293048727',\n",
    "    'max_depth': '15',\n",
    "    'num_iterations': '29',\n",
    "    'num_leaves': '10',\n",
    "}"
   ]
  },
  {
   "cell_type": "code",
   "execution_count": 68,
   "id": "9fe39cee-5418-440a-bb31-6fb41b666bc9",
   "metadata": {
    "tags": []
   },
   "outputs": [],
   "source": [
    "inference_instance_type = \"ml.m5.large\"\n",
    "\n",
    "# Retrieve the inference docker container uri\n",
    "deploy_image_uri = image_uris.retrieve(\n",
    "    region=None,\n",
    "    framework=None,\n",
    "    image_scope=\"inference\",\n",
    "    model_id=train_model_id,\n",
    "    model_version=train_model_version,\n",
    "    instance_type=inference_instance_type,\n",
    ")"
   ]
  },
  {
   "cell_type": "code",
   "execution_count": 23,
   "id": "dd9fc8d7-306c-41e2-813d-a9b7c1246f6b",
   "metadata": {
    "tags": []
   },
   "outputs": [],
   "source": [
    "deploy_estimator = PyTorch(\n",
    "    entry_point=\"train_and_deploy.py\",\n",
    "    role=role,\n",
    "    instance_count=1,\n",
    "    instance_type=\"ml.m5.xlarge\",\n",
    "    framework_version=\"1.12.0\",\n",
    "    py_version='py38',\n",
    "    source_dir='code/',\n",
    "    hyperparameters=best_hyperparameters,\n",
    ")"
   ]
  },
  {
   "cell_type": "code",
   "execution_count": 26,
   "id": "af7ba2d4-1ee7-4829-8925-88ec632e7a2f",
   "metadata": {
    "tags": []
   },
   "outputs": [
    {
     "name": "stderr",
     "output_type": "stream",
     "text": [
      "INFO:sagemaker.image_uris:image_uri is not presented, retrieving image_uri based on instance_type, framework etc.\n",
      "INFO:sagemaker:Creating training-job with name: pytorch-training-2023-04-03-14-34-56-234\n"
     ]
    },
    {
     "name": "stdout",
     "output_type": "stream",
     "text": [
      "2023-04-03 14:35:33 Starting - Starting the training job...\n",
      "2023-04-03 14:35:51 Starting - Preparing the instances for training......\n",
      "2023-04-03 14:37:03 Downloading - Downloading input data\n",
      "2023-04-03 14:37:03 Training - Downloading the training image.....\u001b[34mbash: cannot set terminal process group (-1): Inappropriate ioctl for device\u001b[0m\n",
      "\u001b[34mbash: no job control in this shell\u001b[0m\n",
      "\u001b[34m2023-04-03 14:37:46,382 sagemaker-training-toolkit INFO     Imported framework sagemaker_pytorch_container.training\u001b[0m\n",
      "\u001b[34m2023-04-03 14:37:46,384 sagemaker-training-toolkit INFO     No GPUs detected (normal if no gpus installed)\u001b[0m\n",
      "\u001b[34m2023-04-03 14:37:46,391 sagemaker_pytorch_container.training INFO     Block until all host DNS lookups succeed.\u001b[0m\n",
      "\u001b[34m2023-04-03 14:37:46,393 sagemaker_pytorch_container.training INFO     Invoking user training script.\u001b[0m\n",
      "\u001b[34m2023-04-03 14:37:47,987 sagemaker-training-toolkit INFO     Installing dependencies from requirements.txt:\u001b[0m\n",
      "\u001b[34m/opt/conda/bin/python3.8 -m pip install -r requirements.txt\u001b[0m\n",
      "\u001b[34mCollecting lightgbm==3.3.5\u001b[0m\n",
      "\u001b[34mDownloading lightgbm-3.3.5-py3-none-manylinux1_x86_64.whl (2.0 MB)\u001b[0m\n",
      "\u001b[34m━━━━━━━━━━━━━━━━━━━━━━━━━━━━━━━━━━━━━━━━ 2.0/2.0 MB 77.7 MB/s eta 0:00:00\u001b[0m\n",
      "\u001b[34mCollecting joblib==1.2.0\u001b[0m\n",
      "\u001b[34mDownloading joblib-1.2.0-py3-none-any.whl (297 kB)\u001b[0m\n",
      "\u001b[34m━━━━━━━━━━━━━━━━━━━━━━━━━━━━━━━━━━━━━━ 298.0/298.0 kB 38.7 MB/s eta 0:00:00\u001b[0m\n",
      "\u001b[34mRequirement already satisfied: wheel in /opt/conda/lib/python3.8/site-packages (from lightgbm==3.3.5->-r requirements.txt (line 1)) (0.37.1)\u001b[0m\n",
      "\u001b[34mRequirement already satisfied: numpy in /opt/conda/lib/python3.8/site-packages (from lightgbm==3.3.5->-r requirements.txt (line 1)) (1.22.2)\u001b[0m\n",
      "\u001b[34mRequirement already satisfied: scipy in /opt/conda/lib/python3.8/site-packages (from lightgbm==3.3.5->-r requirements.txt (line 1)) (1.9.1)\u001b[0m\n",
      "\u001b[34mRequirement already satisfied: scikit-learn!=0.22.0 in /opt/conda/lib/python3.8/site-packages (from lightgbm==3.3.5->-r requirements.txt (line 1)) (1.1.2)\u001b[0m\n",
      "\u001b[34mRequirement already satisfied: threadpoolctl>=2.0.0 in /opt/conda/lib/python3.8/site-packages (from scikit-learn!=0.22.0->lightgbm==3.3.5->-r requirements.txt (line 1)) (3.1.0)\u001b[0m\n",
      "\u001b[34mInstalling collected packages: joblib, lightgbm\u001b[0m\n",
      "\u001b[34mAttempting uninstall: joblib\u001b[0m\n",
      "\u001b[34mFound existing installation: joblib 1.1.0\u001b[0m\n",
      "\u001b[34mUninstalling joblib-1.1.0:\u001b[0m\n",
      "\u001b[34mSuccessfully uninstalled joblib-1.1.0\u001b[0m\n",
      "\u001b[34mSuccessfully installed joblib-1.2.0 lightgbm-3.3.5\u001b[0m\n",
      "\u001b[34mWARNING: Running pip as the 'root' user can result in broken permissions and conflicting behaviour with the system package manager. It is recommended to use a virtual environment instead: https://pip.pypa.io/warnings/venv\u001b[0m\n",
      "\u001b[34m[notice] A new release of pip available: 22.2.2 -> 23.0.1\u001b[0m\n",
      "\u001b[34m[notice] To update, run: pip install --upgrade pip\u001b[0m\n",
      "\u001b[34m2023-04-03 14:37:49,609 sagemaker-training-toolkit INFO     Waiting for the process to finish and give a return code.\u001b[0m\n",
      "\u001b[34m2023-04-03 14:37:49,609 sagemaker-training-toolkit INFO     Done waiting for a return code. Received 0 from exiting process.\u001b[0m\n",
      "\u001b[34m2023-04-03 14:37:49,612 sagemaker-training-toolkit INFO     No GPUs detected (normal if no gpus installed)\u001b[0m\n",
      "\u001b[34m2023-04-03 14:37:49,622 sagemaker-training-toolkit INFO     No GPUs detected (normal if no gpus installed)\u001b[0m\n",
      "\u001b[34m2023-04-03 14:37:49,632 sagemaker-training-toolkit INFO     No GPUs detected (normal if no gpus installed)\u001b[0m\n",
      "\u001b[34m2023-04-03 14:37:49,640 sagemaker-training-toolkit INFO     Invoking user script\u001b[0m\n",
      "\u001b[34mTraining Env:\u001b[0m\n",
      "\u001b[34m{\n",
      "    \"additional_framework_parameters\": {},\n",
      "    \"channel_input_dirs\": {\n",
      "        \"training\": \"/opt/ml/input/data/training\"\n",
      "    },\n",
      "    \"current_host\": \"algo-1\",\n",
      "    \"current_instance_group\": \"homogeneousCluster\",\n",
      "    \"current_instance_group_hosts\": [\n",
      "        \"algo-1\"\n",
      "    ],\n",
      "    \"current_instance_type\": \"ml.m5.xlarge\",\n",
      "    \"distribution_hosts\": [],\n",
      "    \"distribution_instance_groups\": [],\n",
      "    \"framework_module\": \"sagemaker_pytorch_container.training:main\",\n",
      "    \"hosts\": [\n",
      "        \"algo-1\"\n",
      "    ],\n",
      "    \"hyperparameters\": {\n",
      "        \"early_stopping_rounds\": \"25\",\n",
      "        \"learning_rate\": \"0.4921729293048727\",\n",
      "        \"max_depth\": \"15\",\n",
      "        \"num_iterations\": \"29\",\n",
      "        \"num_leaves\": \"10\"\n",
      "    },\n",
      "    \"input_config_dir\": \"/opt/ml/input/config\",\n",
      "    \"input_data_config\": {\n",
      "        \"training\": {\n",
      "            \"TrainingInputMode\": \"File\",\n",
      "            \"S3DistributionType\": \"FullyReplicated\",\n",
      "            \"RecordWrapperType\": \"None\"\n",
      "        }\n",
      "    },\n",
      "    \"input_dir\": \"/opt/ml/input\",\n",
      "    \"instance_groups\": [\n",
      "        \"homogeneousCluster\"\n",
      "    ],\n",
      "    \"instance_groups_dict\": {\n",
      "        \"homogeneousCluster\": {\n",
      "            \"instance_group_name\": \"homogeneousCluster\",\n",
      "            \"instance_type\": \"ml.m5.xlarge\",\n",
      "            \"hosts\": [\n",
      "                \"algo-1\"\n",
      "            ]\n",
      "        }\n",
      "    },\n",
      "    \"is_hetero\": false,\n",
      "    \"is_master\": true,\n",
      "    \"is_modelparallel_enabled\": null,\n",
      "    \"job_name\": \"pytorch-training-2023-04-03-14-34-56-234\",\n",
      "    \"log_level\": 20,\n",
      "    \"master_hostname\": \"algo-1\",\n",
      "    \"model_dir\": \"/opt/ml/model\",\n",
      "    \"module_dir\": \"s3://sagemaker-us-east-1-927441871693/pytorch-training-2023-04-03-14-34-56-234/source/sourcedir.tar.gz\",\n",
      "    \"module_name\": \"train_and_deploy\",\n",
      "    \"network_interface_name\": \"eth0\",\n",
      "    \"num_cpus\": 4,\n",
      "    \"num_gpus\": 0,\n",
      "    \"output_data_dir\": \"/opt/ml/output/data\",\n",
      "    \"output_dir\": \"/opt/ml/output\",\n",
      "    \"output_intermediate_dir\": \"/opt/ml/output/intermediate\",\n",
      "    \"resource_config\": {\n",
      "        \"current_host\": \"algo-1\",\n",
      "        \"current_instance_type\": \"ml.m5.xlarge\",\n",
      "        \"current_group_name\": \"homogeneousCluster\",\n",
      "        \"hosts\": [\n",
      "            \"algo-1\"\n",
      "        ],\n",
      "        \"instance_groups\": [\n",
      "            {\n",
      "                \"instance_group_name\": \"homogeneousCluster\",\n",
      "                \"instance_type\": \"ml.m5.xlarge\",\n",
      "                \"hosts\": [\n",
      "                    \"algo-1\"\n",
      "                ]\n",
      "            }\n",
      "        ],\n",
      "        \"network_interface_name\": \"eth0\"\n",
      "    },\n",
      "    \"user_entry_point\": \"train_and_deploy.py\"\u001b[0m\n",
      "\u001b[34m}\u001b[0m\n",
      "\u001b[34mEnvironment variables:\u001b[0m\n",
      "\u001b[34mSM_HOSTS=[\"algo-1\"]\u001b[0m\n",
      "\u001b[34mSM_NETWORK_INTERFACE_NAME=eth0\u001b[0m\n",
      "\u001b[34mSM_HPS={\"early_stopping_rounds\":\"25\",\"learning_rate\":\"0.4921729293048727\",\"max_depth\":\"15\",\"num_iterations\":\"29\",\"num_leaves\":\"10\"}\u001b[0m\n",
      "\u001b[34mSM_USER_ENTRY_POINT=train_and_deploy.py\u001b[0m\n",
      "\u001b[34mSM_FRAMEWORK_PARAMS={}\u001b[0m\n",
      "\u001b[34mSM_RESOURCE_CONFIG={\"current_group_name\":\"homogeneousCluster\",\"current_host\":\"algo-1\",\"current_instance_type\":\"ml.m5.xlarge\",\"hosts\":[\"algo-1\"],\"instance_groups\":[{\"hosts\":[\"algo-1\"],\"instance_group_name\":\"homogeneousCluster\",\"instance_type\":\"ml.m5.xlarge\"}],\"network_interface_name\":\"eth0\"}\u001b[0m\n",
      "\u001b[34mSM_INPUT_DATA_CONFIG={\"training\":{\"RecordWrapperType\":\"None\",\"S3DistributionType\":\"FullyReplicated\",\"TrainingInputMode\":\"File\"}}\u001b[0m\n",
      "\u001b[34mSM_OUTPUT_DATA_DIR=/opt/ml/output/data\u001b[0m\n",
      "\u001b[34mSM_CHANNELS=[\"training\"]\u001b[0m\n",
      "\u001b[34mSM_CURRENT_HOST=algo-1\u001b[0m\n",
      "\u001b[34mSM_CURRENT_INSTANCE_TYPE=ml.m5.xlarge\u001b[0m\n",
      "\u001b[34mSM_CURRENT_INSTANCE_GROUP=homogeneousCluster\u001b[0m\n",
      "\u001b[34mSM_CURRENT_INSTANCE_GROUP_HOSTS=[\"algo-1\"]\u001b[0m\n",
      "\u001b[34mSM_INSTANCE_GROUPS=[\"homogeneousCluster\"]\u001b[0m\n",
      "\u001b[34mSM_INSTANCE_GROUPS_DICT={\"homogeneousCluster\":{\"hosts\":[\"algo-1\"],\"instance_group_name\":\"homogeneousCluster\",\"instance_type\":\"ml.m5.xlarge\"}}\u001b[0m\n",
      "\u001b[34mSM_DISTRIBUTION_INSTANCE_GROUPS=[]\u001b[0m\n",
      "\u001b[34mSM_IS_HETERO=false\u001b[0m\n",
      "\u001b[34mSM_MODULE_NAME=train_and_deploy\u001b[0m\n",
      "\u001b[34mSM_LOG_LEVEL=20\u001b[0m\n",
      "\u001b[34mSM_FRAMEWORK_MODULE=sagemaker_pytorch_container.training:main\u001b[0m\n",
      "\u001b[34mSM_INPUT_DIR=/opt/ml/input\u001b[0m\n",
      "\u001b[34mSM_INPUT_CONFIG_DIR=/opt/ml/input/config\u001b[0m\n",
      "\u001b[34mSM_OUTPUT_DIR=/opt/ml/output\u001b[0m\n",
      "\u001b[34mSM_NUM_CPUS=4\u001b[0m\n",
      "\u001b[34mSM_NUM_GPUS=0\u001b[0m\n",
      "\u001b[34mSM_MODEL_DIR=/opt/ml/model\u001b[0m\n",
      "\u001b[34mSM_MODULE_DIR=s3://sagemaker-us-east-1-927441871693/pytorch-training-2023-04-03-14-34-56-234/source/sourcedir.tar.gz\u001b[0m\n",
      "\u001b[34mSM_TRAINING_ENV={\"additional_framework_parameters\":{},\"channel_input_dirs\":{\"training\":\"/opt/ml/input/data/training\"},\"current_host\":\"algo-1\",\"current_instance_group\":\"homogeneousCluster\",\"current_instance_group_hosts\":[\"algo-1\"],\"current_instance_type\":\"ml.m5.xlarge\",\"distribution_hosts\":[],\"distribution_instance_groups\":[],\"framework_module\":\"sagemaker_pytorch_container.training:main\",\"hosts\":[\"algo-1\"],\"hyperparameters\":{\"early_stopping_rounds\":\"25\",\"learning_rate\":\"0.4921729293048727\",\"max_depth\":\"15\",\"num_iterations\":\"29\",\"num_leaves\":\"10\"},\"input_config_dir\":\"/opt/ml/input/config\",\"input_data_config\":{\"training\":{\"RecordWrapperType\":\"None\",\"S3DistributionType\":\"FullyReplicated\",\"TrainingInputMode\":\"File\"}},\"input_dir\":\"/opt/ml/input\",\"instance_groups\":[\"homogeneousCluster\"],\"instance_groups_dict\":{\"homogeneousCluster\":{\"hosts\":[\"algo-1\"],\"instance_group_name\":\"homogeneousCluster\",\"instance_type\":\"ml.m5.xlarge\"}},\"is_hetero\":false,\"is_master\":true,\"is_modelparallel_enabled\":null,\"job_name\":\"pytorch-training-2023-04-03-14-34-56-234\",\"log_level\":20,\"master_hostname\":\"algo-1\",\"model_dir\":\"/opt/ml/model\",\"module_dir\":\"s3://sagemaker-us-east-1-927441871693/pytorch-training-2023-04-03-14-34-56-234/source/sourcedir.tar.gz\",\"module_name\":\"train_and_deploy\",\"network_interface_name\":\"eth0\",\"num_cpus\":4,\"num_gpus\":0,\"output_data_dir\":\"/opt/ml/output/data\",\"output_dir\":\"/opt/ml/output\",\"output_intermediate_dir\":\"/opt/ml/output/intermediate\",\"resource_config\":{\"current_group_name\":\"homogeneousCluster\",\"current_host\":\"algo-1\",\"current_instance_type\":\"ml.m5.xlarge\",\"hosts\":[\"algo-1\"],\"instance_groups\":[{\"hosts\":[\"algo-1\"],\"instance_group_name\":\"homogeneousCluster\",\"instance_type\":\"ml.m5.xlarge\"}],\"network_interface_name\":\"eth0\"},\"user_entry_point\":\"train_and_deploy.py\"}\u001b[0m\n",
      "\u001b[34mSM_USER_ARGS=[\"--early_stopping_rounds\",\"25\",\"--learning_rate\",\"0.4921729293048727\",\"--max_depth\",\"15\",\"--num_iterations\",\"29\",\"--num_leaves\",\"10\"]\u001b[0m\n",
      "\u001b[34mSM_OUTPUT_INTERMEDIATE_DIR=/opt/ml/output/intermediate\u001b[0m\n",
      "\u001b[34mSM_CHANNEL_TRAINING=/opt/ml/input/data/training\u001b[0m\n",
      "\u001b[34mSM_HP_EARLY_STOPPING_ROUNDS=25\u001b[0m\n",
      "\u001b[34mSM_HP_LEARNING_RATE=0.4921729293048727\u001b[0m\n",
      "\u001b[34mSM_HP_MAX_DEPTH=15\u001b[0m\n",
      "\u001b[34mSM_HP_NUM_ITERATIONS=29\u001b[0m\n",
      "\u001b[34mSM_HP_NUM_LEAVES=10\u001b[0m\n",
      "\u001b[34mPYTHONPATH=/opt/ml/code:/opt/conda/bin:/opt/conda/lib/python38.zip:/opt/conda/lib/python3.8:/opt/conda/lib/python3.8/lib-dynload:/opt/conda/lib/python3.8/site-packages:/opt/conda/lib/python3.8/site-packages/smdebug-1.0.19b20220829-py3.8.egg:/opt/conda/lib/python3.8/site-packages/pyinstrument-3.4.2-py3.8.egg:/opt/conda/lib/python3.8/site-packages/pyinstrument_cext-0.2.4-py3.8-linux-x86_64.egg\u001b[0m\n",
      "\u001b[34mInvoking script with the following command:\u001b[0m\n",
      "\u001b[34m/opt/conda/bin/python3.8 train_and_deploy.py --early_stopping_rounds 25 --learning_rate 0.4921729293048727 --max_depth 15 --num_iterations 29 --num_leaves 10\u001b[0m\n",
      "\u001b[34mNamespace(data='/opt/ml/input/data/training', early_stopping_rounds=25, learning_rate=0.4921729293048727, max_depth=15, model_dir='/opt/ml/model', num_iterations=29, num_leaves=10, output_dir='/opt/ml/output/data', test=0)\u001b[0m\n",
      "\n",
      "2023-04-03 14:37:59 Uploading - Uploading generated training model\u001b[34m/opt/conda/lib/python3.8/site-packages/lightgbm/engine.py:177: UserWarning: Found `num_iterations` in params. Will use it instead of argument\n",
      "  _log_warning(f\"Found `{alias}` in params. Will use it instead of argument\")\u001b[0m\n",
      "\u001b[34m[LightGBM] [Warning] Found whitespace in feature_names, replace with underlines\u001b[0m\n",
      "\u001b[34m[LightGBM] [Warning] Auto-choosing row-wise multi-threading, the overhead of testing was 0.008072 seconds.\u001b[0m\n",
      "\u001b[34mYou can set `force_row_wise=true` to remove the overhead.\u001b[0m\n",
      "\u001b[34mAnd if memory is not enough, you can set `force_col_wise=true`.\u001b[0m\n",
      "\u001b[34m[LightGBM] [Info] Total Bins 1243\u001b[0m\n",
      "\u001b[34m[LightGBM] [Info] Number of data points in the train set: 149232, number of used features: 20\u001b[0m\n",
      "\u001b[34m[LightGBM] [Warning] Found whitespace in feature_names, replace with underlines\u001b[0m\n",
      "\u001b[34m[LightGBM] [Info] Start training from score -0.086492\u001b[0m\n",
      "\u001b[34m[LightGBM] [Info] Start training from score -2.490632\u001b[0m\n",
      "\u001b[34m[1]#011valid_0's multi_logloss: 0.245735\u001b[0m\n",
      "\u001b[34mTraining until validation scores don't improve for 25 rounds\u001b[0m\n",
      "\u001b[34m[2]#011valid_0's multi_logloss: 0.234339\u001b[0m\n",
      "\u001b[34m[3]#011valid_0's multi_logloss: 0.228702\u001b[0m\n",
      "\u001b[34m[4]#011valid_0's multi_logloss: 0.225306\u001b[0m\n",
      "\u001b[34m[5]#011valid_0's multi_logloss: 0.223338\u001b[0m\n",
      "\u001b[34m[6]#011valid_0's multi_logloss: 0.222115\u001b[0m\n",
      "\u001b[34m[7]#011valid_0's multi_logloss: 0.22122\u001b[0m\n",
      "\u001b[34m[8]#011valid_0's multi_logloss: 0.220586\u001b[0m\n",
      "\u001b[34m[9]#011valid_0's multi_logloss: 0.220256\u001b[0m\n",
      "\u001b[34m[10]#011valid_0's multi_logloss: 0.219683\u001b[0m\n",
      "\u001b[34m[11]#011valid_0's multi_logloss: 0.219445\u001b[0m\n",
      "\u001b[34m[12]#011valid_0's multi_logloss: 0.218909\u001b[0m\n",
      "\u001b[34m[13]#011valid_0's multi_logloss: 0.219102\u001b[0m\n",
      "\u001b[34m[14]#011valid_0's multi_logloss: 0.2189\u001b[0m\n",
      "\u001b[34m[15]#011valid_0's multi_logloss: 0.218502\u001b[0m\n",
      "\u001b[34m[16]#011valid_0's multi_logloss: 0.218417\u001b[0m\n",
      "\u001b[34m[17]#011valid_0's multi_logloss: 0.218388\u001b[0m\n",
      "\u001b[34m[18]#011valid_0's multi_logloss: 0.218123\u001b[0m\n",
      "\u001b[34m[19]#011valid_0's multi_logloss: 0.21813\u001b[0m\n",
      "\u001b[34m[20]#011valid_0's multi_logloss: 0.218169\u001b[0m\n",
      "\u001b[34m[21]#011valid_0's multi_logloss: 0.218191\u001b[0m\n",
      "\u001b[34m[22]#011valid_0's multi_logloss: 0.218136\u001b[0m\n",
      "\u001b[34m[23]#011valid_0's multi_logloss: 0.218182\u001b[0m\n",
      "\u001b[34m[24]#011valid_0's multi_logloss: 0.218302\u001b[0m\n",
      "\u001b[34m[25]#011valid_0's multi_logloss: 0.218268\u001b[0m\n",
      "\u001b[34m[26]#011valid_0's multi_logloss: 0.218165\u001b[0m\n",
      "\u001b[34m[27]#011valid_0's multi_logloss: 0.218359\u001b[0m\n",
      "\u001b[34m[28]#011valid_0's multi_logloss: 0.218465\u001b[0m\n",
      "\u001b[34m[29]#011valid_0's multi_logloss: 0.21859\u001b[0m\n",
      "\u001b[34mDid not meet early stopping. Best iteration is:\u001b[0m\n",
      "\u001b[34m[18]#011valid_0's multi_logloss: 0.218123\u001b[0m\n",
      "\u001b[34mTesting Accuracy: 0.916237804224295\u001b[0m\n",
      "\u001b[34mSaving Model\u001b[0m\n",
      "\u001b[34m2023-04-03 14:37:52,284 sagemaker-training-toolkit INFO     Waiting for the process to finish and give a return code.\u001b[0m\n",
      "\u001b[34m2023-04-03 14:37:52,284 sagemaker-training-toolkit INFO     Done waiting for a return code. Received 0 from exiting process.\u001b[0m\n",
      "\u001b[34m2023-04-03 14:37:52,285 sagemaker-training-toolkit INFO     Reporting training SUCCESS\u001b[0m\n",
      "\n",
      "2023-04-03 14:38:09 Completed - Training job completed\n",
      "Training seconds: 92\n",
      "Billable seconds: 92\n"
     ]
    }
   ],
   "source": [
    "deploy_estimator.fit({\"training\": base_path})"
   ]
  },
  {
   "cell_type": "code",
   "execution_count": 27,
   "id": "f2cd7ec1-7aa3-4f79-8b20-a89ff2338e5d",
   "metadata": {
    "tags": []
   },
   "outputs": [
    {
     "name": "stderr",
     "output_type": "stream",
     "text": [
      "INFO:sagemaker:Creating model with name: pytorch-training-2023-04-03-14-47-56-259\n",
      "INFO:sagemaker:Creating endpoint-config with name pytorch-training-2023-04-03-14-47-56-259\n",
      "INFO:sagemaker:Creating endpoint with name pytorch-training-2023-04-03-14-47-56-259\n"
     ]
    },
    {
     "name": "stdout",
     "output_type": "stream",
     "text": [
      "------!"
     ]
    }
   ],
   "source": [
    "predictor = deploy_estimator.deploy(initial_instance_count=1, instance_type='ml.m5.xlarge')"
   ]
  },
  {
   "cell_type": "code",
   "execution_count": 32,
   "id": "bdca50f6-8206-454f-854c-c2ea9c2c023f",
   "metadata": {
    "tags": []
   },
   "outputs": [
    {
     "name": "stdout",
     "output_type": "stream",
     "text": [
      "[0]\n"
     ]
    }
   ],
   "source": [
    "#Randomly select a sample (row) from the entire dataset, and make a prediction\n",
    "# import torch\n",
    "test_sample = df.sample()\n",
    "# tensors = torch.tensor(test_sample.to_numpy())\n",
    "response = predictor.predict(test_sample.drop(columns='deceased'))\n",
    "\n",
    "# tensors = torch.tensor(test_sample.to_numpy())\n",
    "    # prediction = retreived_model.predict(tensors)\n",
    "print(response)"
   ]
  },
  {
   "cell_type": "code",
   "execution_count": 37,
   "id": "bb60b738-5162-401b-a1ce-8d8b8945a46f",
   "metadata": {
    "tags": []
   },
   "outputs": [
    {
     "name": "stdout",
     "output_type": "stream",
     "text": [
      "The correct label was: 137500    False\n",
      "Name: deceased, dtype: bool. The predicted label was: False\n"
     ]
    }
   ],
   "source": [
    "print(f'''The correct label was: {test_sample['deceased']}. The predicted label was: {bool(response[0])}''')"
   ]
  },
  {
   "cell_type": "markdown",
   "id": "6e206471-319b-4ecb-8a2c-58e46449596a",
   "metadata": {},
   "source": [
    "## IV. Results"
   ]
  },
  {
   "cell_type": "markdown",
   "id": "6d31bfc4-57ef-495a-9460-1259cae2cbf8",
   "metadata": {},
   "source": [
    "### Model Evaluation and Validation"
   ]
  },
  {
   "cell_type": "markdown",
   "id": "25361bb4-9742-485c-9f55-2281f6663fe4",
   "metadata": {},
   "source": [
    "The accuracy was 91.4%, being lower than the benchmark metric of 93.6%. These numbers can be compared directly, since the authors of the research paper used the same model  and dataset as this project.\n",
    "The performance of the model developed here was inferior to the benchmark, but the difference is 2% of the benchmark value, which points to a satisfactory performance of the model developed in this project.\n",
    "Perhaps the difference is explained by the feature engineering that was done in this project, and the limitation of the data that was considered for this project."
   ]
  }
 ],
 "metadata": {
  "kernelspec": {
   "display_name": "conda_pytorch_p39",
   "language": "python",
   "name": "conda_pytorch_p39"
  },
  "language_info": {
   "codemirror_mode": {
    "name": "ipython",
    "version": 3
   },
   "file_extension": ".py",
   "mimetype": "text/x-python",
   "name": "python",
   "nbconvert_exporter": "python",
   "pygments_lexer": "ipython3",
   "version": "3.9.15"
  }
 },
 "nbformat": 4,
 "nbformat_minor": 5
}
