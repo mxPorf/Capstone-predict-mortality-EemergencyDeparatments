{
 "cells": [
  {
   "cell_type": "markdown",
   "id": "09225a2c-0cd6-4073-97d0-2dd2a3aa100e",
   "metadata": {},
   "source": [
    "# Machine Learning Engineer Nanodegree"
   ]
  },
  {
   "cell_type": "markdown",
   "id": "69edfd9c-adc0-4ab5-b7a2-828e8d0d79a8",
   "metadata": {},
   "source": [
    "## Capstone Project"
   ]
  },
  {
   "cell_type": "markdown",
   "id": "71fd43ec-abad-4256-8298-59d609304bb0",
   "metadata": {},
   "source": [
    "Joe Udacity  \n",
    "December 31st, 2050"
   ]
  },
  {
   "cell_type": "markdown",
   "id": "639a59c3-88c2-40c0-998a-377dd39d6e37",
   "metadata": {},
   "source": [
    "## I. Definition"
   ]
  },
  {
   "cell_type": "markdown",
   "id": "8a169148-1884-4a79-a4f3-69099ff0ca5a",
   "metadata": {},
   "source": [
    "_(approx. 1-2 pages)_"
   ]
  },
  {
   "cell_type": "markdown",
   "id": "931343f0-60fb-435b-aafe-f3f6a36cf232",
   "metadata": {},
   "source": [
    "### Project Overview"
   ]
  },
  {
   "cell_type": "markdown",
   "id": "3f79ef2d-64ec-40f0-b378-8533d51ae49e",
   "metadata": {},
   "source": [
    "In this section, look to provide a high-level overview of the project in layman’s terms. Questions to ask yourself when writing this section:\n",
    "- _Has an overview of the project been provided, such as the problem domain, project origin, and related datasets or input data?_\n",
    "- _Has enough background information been given so that an uninformed reader would understand the problem domain and following problem statement?_"
   ]
  },
  {
   "cell_type": "markdown",
   "id": "a4d07e44-72d3-423c-90e1-4334b658530f",
   "metadata": {},
   "source": [
    "### Problem Statement"
   ]
  },
  {
   "cell_type": "markdown",
   "id": "b3a57890-e8a7-4543-b484-43ebe192f7f1",
   "metadata": {},
   "source": [
    "In this section, you will want to clearly define the problem that you are trying to solve, including the strategy (outline of tasks) you will use to achieve the desired solution. You should also thoroughly discuss what the intended solution will be for this problem. Questions to ask yourself when writing this section:\n",
    "- _Is the problem statement clearly defined? Will the reader understand what you are expecting to solve?_\n",
    "- _Have you thoroughly discussed how you will attempt to solve the problem?_\n",
    "- _Is an anticipated solution clearly defined? Will the reader understand what results you are looking for?_"
   ]
  },
  {
   "cell_type": "markdown",
   "id": "0e9208a4-e972-4305-b289-9d16b661919e",
   "metadata": {},
   "source": [
    "### Metrics"
   ]
  },
  {
   "cell_type": "markdown",
   "id": "1fe1ee74-b45d-408c-9b1c-e43799501ba8",
   "metadata": {},
   "source": [
    "In this section, you will need to clearly define the metrics or calculations you will use to measure performance of a model or result in your project. These calculations and metrics should be justified based on the characteristics of the problem and problem domain. Questions to ask yourself when writing this section:\n",
    "- _Are the metrics you’ve chosen to measure the performance of your models clearly discussed and defined?_\n",
    "- _Have you provided reasonable justification for the metrics chosen based on the problem and solution?_"
   ]
  },
  {
   "cell_type": "markdown",
   "id": "3492fa19-9680-49ec-978c-e9c1374cb11e",
   "metadata": {},
   "source": [
    "## II. Analysis"
   ]
  },
  {
   "cell_type": "markdown",
   "id": "08daa600-2a70-412d-af8f-9e48c24104d8",
   "metadata": {},
   "source": [
    "_(approx. 2-4 pages)_"
   ]
  },
  {
   "cell_type": "markdown",
   "id": "5d80e37f-2c61-4a5b-975e-0f98ff34d09b",
   "metadata": {},
   "source": [
    "### Data Exploration"
   ]
  },
  {
   "cell_type": "markdown",
   "id": "9fca1004-bb1c-4c25-aedf-30409d13adbc",
   "metadata": {},
   "source": [
    "In this section, you will be expected to analyze the data you are using for the problem. This data can either be in the form of a dataset (or datasets), input data (or input files), or even an environment. The type of data should be thoroughly described and, if possible, have basic statistics and information presented (such as discussion of input features or defining characteristics about the input or environment). Any abnormalities or interesting qualities about the data that may need to be addressed have been identified (such as features that need to be transformed or the possibility of outliers). Questions to ask yourself when writing this section:\n",
    "- _If a dataset is present for this problem, have you thoroughly discussed certain features about the dataset? Has a data sample been provided to the reader?_\n",
    "- _If a dataset is present for this problem, are statistics about the dataset calculated and reported? Have any relevant results from this calculation been discussed?_\n",
    "- _If a dataset is **not** present for this problem, has discussion been made about the input space or input data for your problem?_\n",
    "- _Are there any abnormalities or characteristics about the input space or dataset that need to be addressed? (categorical variables, missing values, outliers, etc.)_"
   ]
  },
  {
   "cell_type": "code",
   "execution_count": null,
   "id": "ec04af59-695e-470f-9657-5c118ee1ba40",
   "metadata": {},
   "outputs": [],
   "source": []
  },
  {
   "cell_type": "markdown",
   "id": "d99ecc6a-0fcf-425c-aeb1-f256ec918cd6",
   "metadata": {},
   "source": [
    "### Exploratory Visualization"
   ]
  },
  {
   "cell_type": "markdown",
   "id": "c25bf4cc-1f52-4575-9584-884bb164720d",
   "metadata": {},
   "source": [
    "In this section, you will need to provide some form of visualization that summarizes or extracts a relevant characteristic or feature about the data. The visualization should adequately support the data being used. Discuss why this visualization was chosen and how it is relevant. Questions to ask yourself when writing this section:\n",
    "- _Have you visualized a relevant characteristic or feature about the dataset or input data?_\n",
    "- _Is the visualization thoroughly analyzed and discussed?_\n",
    "- _If a plot is provided, are the axes, title, and datum clearly defined?_"
   ]
  },
  {
   "cell_type": "markdown",
   "id": "d047cedf-401c-4c71-ba59-7e20b59b9f78",
   "metadata": {},
   "source": [
    "### Algorithms and Techniques"
   ]
  },
  {
   "cell_type": "markdown",
   "id": "9a0dc699-7c70-460a-b207-e76495f51732",
   "metadata": {},
   "source": [
    "In this section, you will need to discuss the algorithms and techniques you intend to use for solving the problem. You should justify the use of each one based on the characteristics of the problem and the problem domain. Questions to ask yourself when writing this section:\n",
    "- _Are the algorithms you will use, including any default variables/parameters in the project clearly defined?_\n",
    "- _Are the techniques to be used thoroughly discussed and justified?_\n",
    "- _Is it made clear how the input data or datasets will be handled by the algorithms and techniques chosen?_"
   ]
  },
  {
   "cell_type": "markdown",
   "id": "2137b9c1-84a4-4b81-8b71-6b3ef838fce3",
   "metadata": {},
   "source": [
    "### Benchmark"
   ]
  },
  {
   "cell_type": "markdown",
   "id": "10da5bb0-cd6c-4c0a-a2af-b342ed341216",
   "metadata": {},
   "source": [
    "In this section, you will need to provide a clearly defined benchmark result or threshold for comparing across performances obtained by your solution. The reasoning behind the benchmark (in the case where it is not an established result) should be discussed. Questions to ask yourself when writing this section:\n",
    "- _Has some result or value been provided that acts as a benchmark for measuring performance?_\n",
    "- _Is it clear how this result or value was obtained (whether by data or by hypothesis)?_"
   ]
  },
  {
   "cell_type": "markdown",
   "id": "1d944208-9a5f-405f-b1c6-0afbdeffa67f",
   "metadata": {},
   "source": [
    "## III. Methodology"
   ]
  },
  {
   "cell_type": "markdown",
   "id": "4bf54ec0-ca71-4003-9932-b0c95723f27c",
   "metadata": {},
   "source": [
    "_(approx. 3-5 pages)_"
   ]
  },
  {
   "cell_type": "markdown",
   "id": "18b19a4a-1a74-493d-8a2d-08c6adad4d77",
   "metadata": {},
   "source": [
    "### Data Preprocessing"
   ]
  },
  {
   "cell_type": "markdown",
   "id": "178eeeca-1bcb-4d61-b168-70288cd6f1db",
   "metadata": {},
   "source": [
    "In this section, all of your preprocessing steps will need to be clearly documented, if any were necessary. From the previous section, any of the abnormalities or characteristics that you identified about the dataset will be addressed and corrected here. Questions to ask yourself when writing this section:\n",
    "- _If the algorithms chosen require preprocessing steps like feature selection or feature transformations, have they been properly documented?_\n",
    "- _Based on the **Data Exploration** section, if there were abnormalities or characteristics that needed to be addressed, have they been properly corrected?_\n",
    "- _If no preprocessing is needed, has it been made clear why?_"
   ]
  },
  {
   "cell_type": "code",
   "execution_count": null,
   "id": "e6b94523-65d0-45a8-9d16-510e33400bda",
   "metadata": {},
   "outputs": [],
   "source": []
  },
  {
   "cell_type": "markdown",
   "id": "6aa19b2a-87ef-48c7-9795-91e610a819ea",
   "metadata": {},
   "source": [
    "### Implementation"
   ]
  },
  {
   "cell_type": "markdown",
   "id": "403d8fd9-6371-465a-9e36-ad87aa33e7b2",
   "metadata": {},
   "source": [
    "In this section, the process for which metrics, algorithms, and techniques that you implemented for the given data will need to be clearly documented. It should be abundantly clear how the implementation was carried out, and discussion should be made regarding any complications that occurred during this process. Questions to ask yourself when writing this section:\n",
    "- _Is it made clear how the algorithms and techniques were implemented with the given datasets or input data?_\n",
    "- _Were there any complications with the original metrics or techniques that required changing prior to acquiring a solution?_\n",
    "- _Was there any part of the coding process (e.g., writing complicated functions) that should be documented?_"
   ]
  },
  {
   "cell_type": "markdown",
   "id": "25cccc98-9546-4195-bdc4-d6b6df8f1188",
   "metadata": {},
   "source": [
    "### Refinement"
   ]
  },
  {
   "cell_type": "markdown",
   "id": "1abac048-8240-4661-ac85-273ddc165a99",
   "metadata": {},
   "source": [
    "In this section, you will need to discuss the process of improvement you made upon the algorithms and techniques you used in your implementation. For example, adjusting parameters for certain models to acquire improved solutions would fall under the refinement category. Your initial and final solutions should be reported, as well as any significant intermediate results as necessary. Questions to ask yourself when writing this section:\n",
    "- _Has an initial solution been found and clearly reported?_\n",
    "- _Is the process of improvement clearly documented, such as what techniques were used?_\n",
    "- _Are intermediate and final solutions clearly reported as the process is improved?_"
   ]
  },
  {
   "cell_type": "markdown",
   "id": "6e206471-319b-4ecb-8a2c-58e46449596a",
   "metadata": {},
   "source": [
    "## IV. Results"
   ]
  },
  {
   "cell_type": "markdown",
   "id": "1e4e1d99-4d99-4f6e-906b-c7f694ceede6",
   "metadata": {},
   "source": [
    "_(approx. 2-3 pages)_"
   ]
  },
  {
   "cell_type": "markdown",
   "id": "6d31bfc4-57ef-495a-9460-1259cae2cbf8",
   "metadata": {},
   "source": [
    "### Model Evaluation and Validation"
   ]
  },
  {
   "cell_type": "markdown",
   "id": "25361bb4-9742-485c-9f55-2281f6663fe4",
   "metadata": {},
   "source": [
    "In this section, the final model and any supporting qualities should be evaluated in detail. It should be clear how the final model was derived and why this model was chosen. In addition, some type of analysis should be used to validate the robustness of this model and its solution, such as manipulating the input data or environment to see how the model’s solution is affected (this is called sensitivity analysis). Questions to ask yourself when writing this section:\n",
    "- _Is the final model reasonable and aligning with solution expectations? Are the final parameters of the model appropriate?_\n",
    "- _Has the final model been tested with various inputs to evaluate whether the model generalizes well to unseen data?_\n",
    "- _Is the model robust enough for the problem? Do small perturbations (changes) in training data or the input space greatly affect the results?_\n",
    "- _Can results found from the model be trusted?_"
   ]
  },
  {
   "cell_type": "markdown",
   "id": "ea58da0c-71bf-4536-87f8-360986ee6138",
   "metadata": {},
   "source": [
    "### Justification"
   ]
  },
  {
   "cell_type": "markdown",
   "id": "d55f8f8b-2aac-44c4-852a-4b6793133522",
   "metadata": {},
   "source": [
    "In this section, your model’s final solution and its results should be compared to the benchmark you established earlier in the project using some type of statistical analysis. You should also justify whether these results and the solution are significant enough to have solved the problem posed in the project. Questions to ask yourself when writing this section:\n",
    "- _Are the final results found stronger than the benchmark result reported earlier?_\n",
    "- _Have you thoroughly analyzed and discussed the final solution?_\n",
    "- _Is the final solution significant enough to have solved the problem?_"
   ]
  },
  {
   "cell_type": "markdown",
   "id": "f73d857b-c98f-4670-87f8-225e547c0020",
   "metadata": {},
   "source": [
    "## V. Conclusion"
   ]
  },
  {
   "cell_type": "markdown",
   "id": "f6b56aad-8da4-422d-985e-535d3018ab95",
   "metadata": {},
   "source": [
    "_(approx. 1-2 pages)_"
   ]
  },
  {
   "cell_type": "markdown",
   "id": "37db7fab-9bae-4987-bef0-4517da2e0660",
   "metadata": {},
   "source": [
    "### Free-Form Visualization"
   ]
  },
  {
   "cell_type": "markdown",
   "id": "bb5c3fad-9f20-4a01-8213-3745d9cf8e92",
   "metadata": {},
   "source": [
    "In this section, you will need to provide some form of visualization that emphasizes an important quality about the project. It is much more free-form, but should reasonably support a significant result or characteristic about the problem that you want to discuss. Questions to ask yourself when writing this section:\n",
    "- _Have you visualized a relevant or important quality about the problem, dataset, input data, or results?_\n",
    "- _Is the visualization thoroughly analyzed and discussed?_\n",
    "- _If a plot is provided, are the axes, title, and datum clearly defined?_"
   ]
  },
  {
   "cell_type": "markdown",
   "id": "bf54477d-e695-46a8-bc87-7caf04cae91e",
   "metadata": {},
   "source": [
    "### Reflection"
   ]
  },
  {
   "cell_type": "markdown",
   "id": "f93e86c7-46d6-4097-a7f5-5a9487750d0f",
   "metadata": {},
   "source": [
    "In this section, you will summarize the entire end-to-end problem solution and discuss one or two particular aspects of the project you found interesting or difficult. You are expected to reflect on the project as a whole to show that you have a firm understanding of the entire process employed in your work. Questions to ask yourself when writing this section:\n",
    "- _Have you thoroughly summarized the entire process you used for this project?_\n",
    "- _Were there any interesting aspects of the project?_\n",
    "- _Were there any difficult aspects of the project?_\n",
    "- _Does the final model and solution fit your expectations for the problem, and should it be used in a general setting to solve these types of problems?_"
   ]
  },
  {
   "cell_type": "markdown",
   "id": "edc7db32-cbe7-4110-a9d2-e249fd1b95d4",
   "metadata": {},
   "source": [
    "### Improvement"
   ]
  },
  {
   "cell_type": "markdown",
   "id": "541295a5-2dbc-43d3-98c5-7b19b8f3b86f",
   "metadata": {},
   "source": [
    "In this section, you will need to provide discussion as to how one aspect of the implementation you designed could be improved. As an example, consider ways your implementation can be made more general, and what would need to be modified. You do not need to make this improvement, but the potential solutions resulting from these changes are considered and compared/contrasted to your current solution. Questions to ask yourself when writing this section:\n",
    "- _Are there further improvements that could be made on the algorithms or techniques you used in this project?_\n",
    "- _Were there algorithms or techniques you researched that you did not know how to implement, but would consider using if you knew how?_\n",
    "- _If you used your final solution as the new benchmark, do you think an even better solution exists?_"
   ]
  },
  {
   "cell_type": "markdown",
   "id": "93a1e0d1-5b5e-4585-a5e7-fe42376a1203",
   "metadata": {},
   "source": [
    "-----------"
   ]
  },
  {
   "cell_type": "markdown",
   "id": "1205a9a2-6cd4-4f66-bdcb-b997a0d5435d",
   "metadata": {},
   "source": [
    "**Before submitting, ask yourself. . .**\n",
    "\n",
    "- Does the project report you’ve written follow a well-organized structure similar to that of the project template?\n",
    "- Is each section (particularly **Analysis** and **Methodology**) written in a clear, concise and specific fashion? Are there any ambiguous terms or phrases that need clarification?\n",
    "- Would the intended audience of your project be able to understand your analysis, methods, and results?\n",
    "- Have you properly proof-read your project report to assure there are minimal grammatical and spelling mistakes?\n",
    "- Are all the resources used for this project correctly cited and referenced?\n",
    "- Is the code that implements your solution easily readable and properly commented?\n",
    "- Does the code execute without error and produce results similar to those reported?"
   ]
  }
 ],
 "metadata": {
  "kernelspec": {
   "display_name": "Python 3 (ipykernel)",
   "language": "python",
   "name": "python3"
  },
  "language_info": {
   "codemirror_mode": {
    "name": "ipython",
    "version": 3
   },
   "file_extension": ".py",
   "mimetype": "text/x-python",
   "name": "python",
   "nbconvert_exporter": "python",
   "pygments_lexer": "ipython3",
   "version": "3.10.9"
  }
 },
 "nbformat": 4,
 "nbformat_minor": 5
}
