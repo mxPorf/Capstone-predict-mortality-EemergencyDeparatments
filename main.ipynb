{
 "cells": [
  {
   "cell_type": "code",
   "execution_count": 2,
   "id": "8a0c3276",
   "metadata": {},
   "outputs": [],
   "source": [
    "# import sagemaker\n",
    "import pandas as pd\n",
    "from io import StringIO\n",
    "import boto3"
   ]
  },
  {
   "cell_type": "code",
   "execution_count": 9,
   "id": "b6ab8a5f",
   "metadata": {
    "scrolled": true
   },
   "outputs": [
    {
     "name": "stdout",
     "output_type": "stream",
     "text": [
      "   deceased  subject_id  gender   race arrival_transport  existing_doses  \\\n",
      "0         0    14188788       1  OTHER         AMBULANCE               0   \n",
      "1         0    19659841       1  OTHER         AMBULANCE               1   \n",
      "2         0    11074777       1  WHITE           WALK IN               4   \n",
      "3         0    11075647       0  WHITE           WALK IN               1   \n",
      "4         0    11858930       1  WHITE        HELICOPTER               0   \n",
      "\n",
      "   medicine_dispensations  temperature  heartrate  resprate  o2sat  sbp  dbp  \\\n",
      "0                       6          NaN        NaN       NaN    NaN  NaN  NaN   \n",
      "1                      12          NaN        NaN       NaN    NaN  NaN  NaN   \n",
      "2                       0          NaN        NaN       NaN    NaN  NaN  NaN   \n",
      "3                       0          NaN        NaN       NaN    NaN  NaN  NaN   \n",
      "4                       6          NaN        NaN       NaN    NaN  NaN  NaN   \n",
      "\n",
      "  pain  acuity  \n",
      "0  NaN     NaN  \n",
      "1  NaN     NaN  \n",
      "2  NaN     NaN  \n",
      "3  NaN     NaN  \n",
      "4  NaN     NaN  \n"
     ]
    },
    {
     "name": "stderr",
     "output_type": "stream",
     "text": [
      "/tmp/ipykernel_10837/2122273395.py:15: DtypeWarning: Columns (13) have mixed types. Specify dtype option on import or set low_memory=False.\n",
      "  df = pd.read_csv(StringIO(data))\n"
     ]
    }
   ],
   "source": [
    "session = sagemaker.session.Session()\n",
    "bucket = session.default_bucket()\n",
    "client = boto3.client('s3')\n",
    "response = client.get_object(Bucket=bucket, Key='data/data.csv')\n",
    "body=response['Body']\n",
    "\n",
    "data = body.read().decode('utf-8')\n",
    "df = pd.read_csv(StringIO(data))\n",
    "print(df.head())"
   ]
  },
  {
   "cell_type": "code",
   "execution_count": 4,
   "id": "83b1dec0",
   "metadata": {},
   "outputs": [
    {
     "name": "stderr",
     "output_type": "stream",
     "text": [
      "/tmp/ipykernel_144024/1507164070.py:1: DtypeWarning: Columns (13) have mixed types. Specify dtype option on import or set low_memory=False.\n",
      "  df = pd.read_csv('data.csv')\n"
     ]
    }
   ],
   "source": [
    "df = pd.read_csv('data.csv')"
   ]
  },
  {
   "cell_type": "code",
   "execution_count": 5,
   "id": "851a1885",
   "metadata": {},
   "outputs": [
    {
     "name": "stdout",
     "output_type": "stream",
     "text": [
      "<class 'pandas.core.frame.DataFrame'>\n",
      "RangeIndex: 205504 entries, 0 to 205503\n",
      "Data columns (total 15 columns):\n",
      " #   Column                  Non-Null Count   Dtype  \n",
      "---  ------                  --------------   -----  \n",
      " 0   deceased                205504 non-null  int64  \n",
      " 1   subject_id              205504 non-null  int64  \n",
      " 2   gender                  205504 non-null  int64  \n",
      " 3   race                    205504 non-null  object \n",
      " 4   arrival_transport       205504 non-null  object \n",
      " 5   existing_doses          205504 non-null  int64  \n",
      " 6   medicine_dispensations  205504 non-null  int64  \n",
      " 7   temperature             191025 non-null  float64\n",
      " 8   heartrate               194174 non-null  float64\n",
      " 9   resprate                192573 non-null  float64\n",
      " 10  o2sat                   192534 non-null  float64\n",
      " 11  sbp                     193632 non-null  float64\n",
      " 12  dbp                     193241 non-null  float64\n",
      " 13  pain                    197462 non-null  object \n",
      " 14  acuity                  200428 non-null  float64\n",
      "dtypes: float64(7), int64(5), object(3)\n",
      "memory usage: 23.5+ MB\n"
     ]
    }
   ],
   "source": [
    "df.info()"
   ]
  },
  {
   "cell_type": "code",
   "execution_count": 6,
   "id": "5f49b546",
   "metadata": {},
   "outputs": [
    {
     "name": "stdout",
     "output_type": "stream",
     "text": [
      "deceased\n",
      "Missing values: 0\n",
      "Percentage missing values:  0.00% \n",
      "\n",
      "subject_id\n",
      "Missing values: 0\n",
      "Percentage missing values:  0.00% \n",
      "\n",
      "gender\n",
      "Missing values: 0\n",
      "Percentage missing values:  0.00% \n",
      "\n",
      "race\n",
      "Missing values: 0\n",
      "Percentage missing values:  0.00% \n",
      "\n",
      "arrival_transport\n",
      "Missing values: 0\n",
      "Percentage missing values:  0.00% \n",
      "\n",
      "existing_doses\n",
      "Missing values: 0\n",
      "Percentage missing values:  0.00% \n",
      "\n",
      "medicine_dispensations\n",
      "Missing values: 0\n",
      "Percentage missing values:  0.00% \n",
      "\n",
      "temperature\n",
      "Missing values: 14479\n",
      "Percentage missing values:  7.05% \n",
      "\n",
      "heartrate\n",
      "Missing values: 11330\n",
      "Percentage missing values:  5.51% \n",
      "\n",
      "resprate\n",
      "Missing values: 12931\n",
      "Percentage missing values:  6.29% \n",
      "\n",
      "o2sat\n",
      "Missing values: 12970\n",
      "Percentage missing values:  6.31% \n",
      "\n",
      "sbp\n",
      "Missing values: 11872\n",
      "Percentage missing values:  5.78% \n",
      "\n",
      "dbp\n",
      "Missing values: 12263\n",
      "Percentage missing values:  5.97% \n",
      "\n",
      "pain\n",
      "Missing values: 8042\n",
      "Percentage missing values:  3.91% \n",
      "\n",
      "acuity\n",
      "Missing values: 5076\n",
      "Percentage missing values:  2.47% \n",
      "\n"
     ]
    }
   ],
   "source": [
    "for column in df.columns:\n",
    "    print(column)\n",
    "    missing_values = df[column].isna().sum()\n",
    "    print(f'Missing values: {missing_values}')\n",
    "    print(f'Percentage missing values: {missing_values / len(df[column]) : .2%}', '\\n')"
   ]
  },
  {
   "cell_type": "code",
   "execution_count": 7,
   "id": "778aa629",
   "metadata": {},
   "outputs": [],
   "source": [
    "df = df.dropna()"
   ]
  },
  {
   "cell_type": "code",
   "execution_count": 8,
   "id": "285310f3",
   "metadata": {},
   "outputs": [
    {
     "name": "stdout",
     "output_type": "stream",
     "text": [
      "<class 'pandas.core.frame.DataFrame'>\n",
      "Int64Index: 185294 entries, 8025 to 205503\n",
      "Data columns (total 15 columns):\n",
      " #   Column                  Non-Null Count   Dtype  \n",
      "---  ------                  --------------   -----  \n",
      " 0   deceased                185294 non-null  int64  \n",
      " 1   subject_id              185294 non-null  int64  \n",
      " 2   gender                  185294 non-null  int64  \n",
      " 3   race                    185294 non-null  object \n",
      " 4   arrival_transport       185294 non-null  object \n",
      " 5   existing_doses          185294 non-null  int64  \n",
      " 6   medicine_dispensations  185294 non-null  int64  \n",
      " 7   temperature             185294 non-null  float64\n",
      " 8   heartrate               185294 non-null  float64\n",
      " 9   resprate                185294 non-null  float64\n",
      " 10  o2sat                   185294 non-null  float64\n",
      " 11  sbp                     185294 non-null  float64\n",
      " 12  dbp                     185294 non-null  float64\n",
      " 13  pain                    185294 non-null  object \n",
      " 14  acuity                  185294 non-null  float64\n",
      "dtypes: float64(7), int64(5), object(3)\n",
      "memory usage: 22.6+ MB\n"
     ]
    }
   ],
   "source": [
    "df.info()"
   ]
  },
  {
   "cell_type": "markdown",
   "id": "9ba61563",
   "metadata": {},
   "source": [
    "deceased - cleaned before loading\n",
    "subject_id - drop, not relevant to the prediction model\n",
    "race - encode multi class (binary encoder)\n",
    "arrival transport - encode multi class (one hot encoder)\n",
    "existing doses - rescale (min max scaler)\n",
    "medicine dispensations - rescale(min max scaler)\n",
    "temperature - good\n",
    "heartrate - good\n",
    "resprate - good\n",
    "o2sat - good\n",
    "sbp - drop values higher than 300 (even then, these are extreme)\n",
    "dbp - drop values higher than 300 (even then, these are extreme)\n",
    "pain - drop because there are a lot of unusable values\n",
    "acuity - good"
   ]
  },
  {
   "cell_type": "code",
   "execution_count": 9,
   "id": "24be5198",
   "metadata": {
    "scrolled": true
   },
   "outputs": [
    {
     "name": "stdout",
     "output_type": "stream",
     "text": [
      "0    170049\n",
      "1     15245\n",
      "Name: deceased, dtype: int64\n",
      "19903802    1\n",
      "19976339    1\n",
      "10590663    1\n",
      "13041508    1\n",
      "14044558    1\n",
      "           ..\n",
      "10554304    1\n",
      "11062044    1\n",
      "14462434    1\n",
      "14714653    1\n",
      "13716295    1\n",
      "Name: subject_id, Length: 185294, dtype: int64\n",
      "0    100296\n",
      "1     84998\n",
      "Name: gender, dtype: int64\n",
      "WHITE                                        108247\n",
      "BLACK/AFRICAN AMERICAN                        23823\n",
      "OTHER                                         10808\n",
      "ASIAN                                          4601\n",
      "HISPANIC/LATINO - PUERTO RICAN                 4293\n",
      "WHITE - OTHER EUROPEAN                         4190\n",
      "ASIAN - CHINESE                                3880\n",
      "UNKNOWN                                        3142\n",
      "HISPANIC/LATINO - DOMINICAN                    3008\n",
      "BLACK/CAPE VERDEAN                             2610\n",
      "BLACK/AFRICAN                                  2250\n",
      "WHITE - RUSSIAN                                2006\n",
      "BLACK/CARIBBEAN ISLAND                         1535\n",
      "HISPANIC OR LATINO                             1186\n",
      "HISPANIC/LATINO - GUATEMALAN                    988\n",
      "ASIAN - ASIAN INDIAN                            846\n",
      "ASIAN - SOUTH EAST ASIAN                        792\n",
      "WHITE - BRAZILIAN                               789\n",
      "HISPANIC/LATINO - MEXICAN                       636\n",
      "HISPANIC/LATINO - SALVADORAN                    631\n",
      "WHITE - EASTERN EUROPEAN                        616\n",
      "HISPANIC/LATINO - COLUMBIAN                     607\n",
      "PORTUGUESE                                      573\n",
      "SOUTH AMERICAN                                  496\n",
      "ASIAN - KOREAN                                  486\n",
      "AMERICAN INDIAN/ALASKA NATIVE                   474\n",
      "PATIENT DECLINED TO ANSWER                      384\n",
      "HISPANIC/LATINO - HONDURAN                      356\n",
      "HISPANIC/LATINO - CENTRAL AMERICAN              305\n",
      "HISPANIC/LATINO - CUBAN                         262\n",
      "NATIVE HAWAIIAN OR OTHER PACIFIC ISLANDER       256\n",
      "MULTIPLE RACE/ETHNICITY                         141\n",
      "UNABLE TO OBTAIN                                 77\n",
      "Name: race, dtype: int64\n",
      "WALK IN       114230\n",
      "AMBULANCE      64553\n",
      "UNKNOWN         5819\n",
      "OTHER            640\n",
      "HELICOPTER        52\n",
      "Name: arrival_transport, dtype: int64\n",
      "0       54692\n",
      "1       17581\n",
      "2       12459\n",
      "3        9729\n",
      "4        7910\n",
      "        ...  \n",
      "811         1\n",
      "434         1\n",
      "1673        1\n",
      "1261        1\n",
      "847         1\n",
      "Name: existing_doses, Length: 727, dtype: int64\n",
      "0      44948\n",
      "1      20859\n",
      "2      19860\n",
      "3      14748\n",
      "4      12993\n",
      "       ...  \n",
      "826        1\n",
      "420        1\n",
      "451        1\n",
      "183        1\n",
      "298        1\n",
      "Name: medicine_dispensations, Length: 384, dtype: int64\n",
      "98.00     14259\n",
      "97.80     12524\n",
      "98.20     11106\n",
      "98.40      9546\n",
      "97.60      9215\n",
      "          ...  \n",
      "100.89        1\n",
      "99.02         1\n",
      "56.00         1\n",
      "90.80         1\n",
      "86.40         1\n",
      "Name: temperature, Length: 357, dtype: int64\n",
      "80.0     7575\n",
      "88.0     6247\n",
      "72.0     5124\n",
      "90.0     5103\n",
      "78.0     5022\n",
      "         ... \n",
      "173.0       1\n",
      "250.0       1\n",
      "10.0        1\n",
      "8.0         1\n",
      "98.5        1\n",
      "Name: heartrate, Length: 182, dtype: int64\n",
      "18.0     72581\n",
      "16.0     67263\n",
      "20.0     17476\n",
      "14.0      7752\n",
      "17.0      5042\n",
      "         ...  \n",
      "67.0         1\n",
      "4.0          1\n",
      "97.0         1\n",
      "158.0        1\n",
      "31.0         1\n",
      "Name: resprate, Length: 61, dtype: int64\n",
      "100.0    81231\n",
      "99.0     30319\n",
      "98.0     29209\n",
      "97.0     18276\n",
      "96.0     12113\n",
      "         ...  \n",
      "188.0        1\n",
      "98.1         1\n",
      "2.0          1\n",
      "104.0        1\n",
      "60.0         1\n",
      "Name: o2sat, Length: 64, dtype: int64\n",
      "130.0    4290\n",
      "128.0    3956\n",
      "132.0    3902\n",
      "124.0    3787\n",
      "126.0    3740\n",
      "         ... \n",
      "261.0       1\n",
      "946.0       1\n",
      "52.0        1\n",
      "260.0       1\n",
      "51.0        1\n",
      "Name: sbp, Length: 222, dtype: int64\n",
      "80.0      6233\n",
      "78.0      5867\n",
      "76.0      5759\n",
      "70.0      5751\n",
      "74.0      5475\n",
      "          ... \n",
      "7102.0       1\n",
      "152.0        1\n",
      "395.0        1\n",
      "683.0        1\n",
      "796.0        1\n",
      "Name: dbp, Length: 351, dtype: int64\n",
      "0                                                      54358\n",
      "8                                                      17631\n",
      "5                                                      14811\n",
      "7                                                      14678\n",
      "10                                                     14581\n",
      "                                                       ...  \n",
      "0-8/10                                                     1\n",
      "10/                                                        1\n",
      "100                                                        1\n",
      "134                                                        1\n",
      "unable to give a number, says it's hard to describe        1\n",
      "Name: pain, Length: 478, dtype: int64\n",
      "3.0    101853\n",
      "2.0     61678\n",
      "4.0     14934\n",
      "1.0      6339\n",
      "5.0       490\n",
      "Name: acuity, dtype: int64\n"
     ]
    }
   ],
   "source": [
    "for column in df.columns:\n",
    "    print(df[column].value_counts())"
   ]
  },
  {
   "cell_type": "code",
   "execution_count": 10,
   "id": "2041a1b6",
   "metadata": {
    "scrolled": true
   },
   "outputs": [
    {
     "name": "stdout",
     "output_type": "stream",
     "text": [
      "[')' '+' '-' '.' '0' 0 1 2 3 4 5 6 '6' '7' '8' '9' '?' 'U' 'c' 'o' 's' 'u'\n",
      " ' 0' ' 4' ' 6' '++' '-0' '.0' '.3' '.5' '0 ' '0-' '0.' '0/' '00' '01'\n",
      " '03' '06' '07' '08' '09' '10' '11' '12' '13' '14' '15' '16' '18' '19'\n",
      " '2,' '2.' '20' '23' '3 ' '5 ' '51' '54' '56' '6 ' '61' '68' '6`' '7/'\n",
      " '73' '75' '8 ' '8,' '8/' '88' '9 ' '9+' '90' '95' '97' '98' '<1' '??'\n",
      " 'RA' 'UA' 'na' 'no' 'o3' 'ok' 'ua' 'un' 'ut' ' 10' '0  ' '0, ' '0-1'\n",
      " '0-2' '0-5' '0-7' '0-8' '0-9' '0..' '0.5' '1 0' '1-2' '1-3' '1-7' '1.2'\n",
      " '1.5' '1/2' '10 ' '10+' '10.' '10/' '100' '134' '1`0' '2-3' '2-4' '2-6'\n",
      " '2-7' '2-8' '2-9' '2. ' '2.5' '3  ' '3-4' '3-5' '3-6' '3-7' '3.5' '4-5'\n",
      " '4-8' '4. ' '4.5' '4/9' '5-6' '5-8' '5-9' '5.5' '5.8' '5/7' '5/8' '5/9'\n",
      " '6-7' '6-8' '6-9' '6.5' '7-6' '7-8' '7-9' '7.5' '7/8' '8  ' '8-9' '8.5'\n",
      " '8.6' '8.7' '8/6' '8/9' '9  ' '9-8' '9.4' '9.5' '9.7' '9.9' '9/6' '>10'\n",
      " 'AMS' 'Bad' 'NAD' 'Pt ' 'U.A' 'U/A' 'UTA' '___' '`10' 'bad' 'low' 'mod'\n",
      " 'pta' 'u/a' 'unk' 'uta' 'uto' 'uts' 'yes' '\"11\"' '\"12\"' '\"13\"' '\"15\"'\n",
      " '\"20\"' '\"60\"' '\"no\"' '0-10' '0pcn' '1/10' '10. ' '10/5' '2-10' '3, 7'\n",
      " '3-10' '3-11' '3/10' '4  H' '4-10' '5-10' '6-10' '6/10' '7-10' '7.  '\n",
      " '8,10' '8-10' '8.59' '8/10' '81/2' '9-10' '9/10' 'Mild' 'UTA ' 'ache'\n",
      " 'achy' 'alot' 'crit' 'dull' 'fine' 'good' 'lots' 'mild' 'none' 'nonw'\n",
      " 'numb' 'pain' 'some' 'sore' \"u/'a\" 'urta' 'uta ' 'very' 'yes ' 'yes.'\n",
      " '  6-9' '\"10+\"' '\"110\"' '\"bad\"' '\"yes\"' '098.6' '10...' '10/10' '30-40'\n",
      " '5 1/2' '7-7.5' '7.235' '7.5-8' '8.5-9' '9 1.2' 'a lot' 'achey' 'awful'\n",
      " 'balit' 'dont ' 'hurts' 'itchy' 'minor' 'mucho' 'pain ' 'right' 'scary'\n",
      " 'sharp' 'sleep' 'small' 'so so' 'tight' 'u/a. ' 'uable' 'unale' '\"1000\"'\n",
      " '\"Alot\"' '\"alot\"' '\"pain\"' '0-8/10' '0no nf' '8.5-10' '9.5-10' 'ASLEEP'\n",
      " 'UNABLE' 'Unable' 'asleep' 'better' 'cramps' 'crying' 'denies' 'little'\n",
      " 'medium' 'middle' 'severe' 'sleepy' 'slight' 'stings' 'strong' 'tender'\n",
      " 'throbs' 'twingy' 'uanble' 'uanlbe' 'unabke' 'unabl3' 'unable' 'unablw'\n",
      " 'unalbe' 'unale ' 'unbale' 'unqble' 'unresp' 'varies' '\"a lot\"' '\"heavy\"'\n",
      " 'FACES 4' 'L chest' 'Refused' 'Unable ' 'aphasic' 'asleep ' 'bloated'\n",
      " 'burning' 'diffuse' 'moaning' 'no pain' 'not bac' 'not bad' 'over 10'\n",
      " 'painful' 'poquito' 'reduced' 'refused' 'unabale' 'unable ' 'unable.'\n",
      " 'unablwe' 'unalb e' 'unclear' 'unjable' 'unknown' '\"little\"' ':unable\"'\n",
      " 'Critical' 'Moderate' 'a little' 'all over' 'annoying' 'constant'\n",
      " 'cramping' 'critical' 'declined' 'gi upset' 'it hurts' 'leg pain'\n",
      " 'moaning ' 'moderate' 'not able' 'not much' 'pinching' 'pressure'\n",
      " 'real bad' 'refused ' 'refusing' 'sleeping' 'somulent' 'tiny bit'\n",
      " 'too much' 'unknown ' 'variable' 'very bad' ' a little' '\"alittle\"'\n",
      " '\"painful\"' '\"so much\"' '\"tension\"' 'bone pain' 'critical ' 'dull achy'\n",
      " 'grimacing' 'heartburn' 'heaviness' 'nonverbal' 'refusing ' 'see below'\n",
      " 'stiffness' 'throbbing' 'tightness' 'tolerable' 'uncomfort' '\" alittle\"'\n",
      " '\"Too much\"' '\"a little\"' '\"moderate\"' '\"not much\"' '\"real bad\"'\n",
      " 'Non-verbal' 'controlled' 'discomfort' 'everywhere' 'hurts alot'\n",
      " 'less sharp' 'little bit' 'manageable' 'non verbal' 'not normal'\n",
      " 'not really' 'not to bad' 'pretty bad' 'unable 97/' 'when i pee'\n",
      " '\"litte bit\"' 'mild aches ' 'not too bad' 'pretty badf' '\"discomfort\"'\n",
      " 'Unresponsive' 'chronic pain' 'excrutiating' \"i don't know\"\n",
      " 'intermittent' 'not that bad' 'not too bad.' 'really hurts'\n",
      " 'very painful' '\"borderline\" ' '\"negligible\" ' '\"pretty high\"'\n",
      " '\"slight pain\"' '10 w/ walking' 'achy all over' 'too much pain'\n",
      " 'uncomfortable' '10 w/ movement' 'almost nothing' 'hurts to touch'\n",
      " 'it is up there' 'just bodyaches' 'quite p ainful' '\"a little bit.\"'\n",
      " '\"a little more\"' '0sent  for  lab' 'mild discomfort' 'slight pressure'\n",
      " 'total body pain' 'unable to score' 'intense pressure' 'not comfortable.'\n",
      " 'not very painful' 'through the roof' 'uanble to answer'\n",
      " 'unable d/t intox' 'unable to access' 'unable to assess'\n",
      " 'unable to give #' 'unable to obtain' 'constant pressure'\n",
      " 'hurts when moving' 'no pain if seated' 'not strong at all'\n",
      " 'only a little bit' 'refused to answer' 'unable - sleeping'\n",
      " '\"hurts everywhere\"' 'constant discomfort' 'FACES pain scale of 7'\n",
      " 'no pain if not moving' 'when i touch it hurts' 'CP 4/10 and groin 7/10'\n",
      " 'little bit of pressure' 'c/o severe HA since mon'\n",
      " 'refusing to give a number' '\"I dont do the pain scale\"'\n",
      " 'unable to report (aphasic)' '7 chronic back and neck pain'\n",
      " \"it doesn't hurt unless i move it\" '8/ paronychia lanced   3  days  ago'\n",
      " '\"not as bad not, they gave me tylenol\"'\n",
      " '10 (but dozing off during questioning)'\n",
      " 'Pt states he is unable to give me a number '\n",
      " \"unable to give a number, says it's hard to describe\"]\n"
     ]
    }
   ],
   "source": [
    "print(df['pain'].unique())"
   ]
  },
  {
   "cell_type": "code",
   "execution_count": 11,
   "id": "9304f1b3",
   "metadata": {},
   "outputs": [],
   "source": [
    "df = df.drop(axis=1, columns=['subject_id', 'pain'])"
   ]
  },
  {
   "cell_type": "code",
   "execution_count": 12,
   "id": "2a5670f5",
   "metadata": {},
   "outputs": [],
   "source": [
    "dummies = pd.get_dummies(df['arrival_transport'], prefix='arrival_transport', drop_first=True)\n",
    "df = df.join(dummies)\n",
    "df = df.drop('arrival_transport', axis=1)"
   ]
  },
  {
   "cell_type": "code",
   "execution_count": 13,
   "id": "312a4f5d",
   "metadata": {},
   "outputs": [
    {
     "data": {
      "text/html": [
       "<div>\n",
       "<style scoped>\n",
       "    .dataframe tbody tr th:only-of-type {\n",
       "        vertical-align: middle;\n",
       "    }\n",
       "\n",
       "    .dataframe tbody tr th {\n",
       "        vertical-align: top;\n",
       "    }\n",
       "\n",
       "    .dataframe thead th {\n",
       "        text-align: right;\n",
       "    }\n",
       "</style>\n",
       "<table border=\"1\" class=\"dataframe\">\n",
       "  <thead>\n",
       "    <tr style=\"text-align: right;\">\n",
       "      <th></th>\n",
       "      <th>deceased</th>\n",
       "      <th>gender</th>\n",
       "      <th>race_0</th>\n",
       "      <th>race_1</th>\n",
       "      <th>race_2</th>\n",
       "      <th>race_3</th>\n",
       "      <th>race_4</th>\n",
       "      <th>race_5</th>\n",
       "      <th>existing_doses</th>\n",
       "      <th>medicine_dispensations</th>\n",
       "      <th>...</th>\n",
       "      <th>heartrate</th>\n",
       "      <th>resprate</th>\n",
       "      <th>o2sat</th>\n",
       "      <th>sbp</th>\n",
       "      <th>dbp</th>\n",
       "      <th>acuity</th>\n",
       "      <th>arrival_transport_HELICOPTER</th>\n",
       "      <th>arrival_transport_OTHER</th>\n",
       "      <th>arrival_transport_UNKNOWN</th>\n",
       "      <th>arrival_transport_WALK IN</th>\n",
       "    </tr>\n",
       "  </thead>\n",
       "  <tbody>\n",
       "    <tr>\n",
       "      <th>8025</th>\n",
       "      <td>0</td>\n",
       "      <td>1</td>\n",
       "      <td>0</td>\n",
       "      <td>0</td>\n",
       "      <td>0</td>\n",
       "      <td>0</td>\n",
       "      <td>0</td>\n",
       "      <td>1</td>\n",
       "      <td>0</td>\n",
       "      <td>0</td>\n",
       "      <td>...</td>\n",
       "      <td>92.0</td>\n",
       "      <td>16.0</td>\n",
       "      <td>98.0</td>\n",
       "      <td>100.0</td>\n",
       "      <td>66.0</td>\n",
       "      <td>3.0</td>\n",
       "      <td>0</td>\n",
       "      <td>0</td>\n",
       "      <td>0</td>\n",
       "      <td>0</td>\n",
       "    </tr>\n",
       "    <tr>\n",
       "      <th>8026</th>\n",
       "      <td>0</td>\n",
       "      <td>1</td>\n",
       "      <td>0</td>\n",
       "      <td>0</td>\n",
       "      <td>0</td>\n",
       "      <td>0</td>\n",
       "      <td>0</td>\n",
       "      <td>1</td>\n",
       "      <td>13</td>\n",
       "      <td>1</td>\n",
       "      <td>...</td>\n",
       "      <td>50.0</td>\n",
       "      <td>18.0</td>\n",
       "      <td>97.0</td>\n",
       "      <td>182.0</td>\n",
       "      <td>82.0</td>\n",
       "      <td>1.0</td>\n",
       "      <td>0</td>\n",
       "      <td>0</td>\n",
       "      <td>0</td>\n",
       "      <td>0</td>\n",
       "    </tr>\n",
       "    <tr>\n",
       "      <th>8028</th>\n",
       "      <td>0</td>\n",
       "      <td>1</td>\n",
       "      <td>0</td>\n",
       "      <td>0</td>\n",
       "      <td>0</td>\n",
       "      <td>0</td>\n",
       "      <td>1</td>\n",
       "      <td>0</td>\n",
       "      <td>0</td>\n",
       "      <td>7</td>\n",
       "      <td>...</td>\n",
       "      <td>71.0</td>\n",
       "      <td>16.0</td>\n",
       "      <td>97.0</td>\n",
       "      <td>143.0</td>\n",
       "      <td>83.0</td>\n",
       "      <td>2.0</td>\n",
       "      <td>0</td>\n",
       "      <td>0</td>\n",
       "      <td>0</td>\n",
       "      <td>0</td>\n",
       "    </tr>\n",
       "    <tr>\n",
       "      <th>8029</th>\n",
       "      <td>0</td>\n",
       "      <td>1</td>\n",
       "      <td>0</td>\n",
       "      <td>0</td>\n",
       "      <td>0</td>\n",
       "      <td>0</td>\n",
       "      <td>0</td>\n",
       "      <td>1</td>\n",
       "      <td>0</td>\n",
       "      <td>5</td>\n",
       "      <td>...</td>\n",
       "      <td>65.0</td>\n",
       "      <td>16.0</td>\n",
       "      <td>97.0</td>\n",
       "      <td>114.0</td>\n",
       "      <td>67.0</td>\n",
       "      <td>1.0</td>\n",
       "      <td>0</td>\n",
       "      <td>0</td>\n",
       "      <td>0</td>\n",
       "      <td>0</td>\n",
       "    </tr>\n",
       "    <tr>\n",
       "      <th>8030</th>\n",
       "      <td>0</td>\n",
       "      <td>0</td>\n",
       "      <td>0</td>\n",
       "      <td>0</td>\n",
       "      <td>0</td>\n",
       "      <td>0</td>\n",
       "      <td>1</td>\n",
       "      <td>0</td>\n",
       "      <td>3</td>\n",
       "      <td>1</td>\n",
       "      <td>...</td>\n",
       "      <td>76.0</td>\n",
       "      <td>16.0</td>\n",
       "      <td>100.0</td>\n",
       "      <td>130.0</td>\n",
       "      <td>76.0</td>\n",
       "      <td>3.0</td>\n",
       "      <td>0</td>\n",
       "      <td>0</td>\n",
       "      <td>0</td>\n",
       "      <td>0</td>\n",
       "    </tr>\n",
       "  </tbody>\n",
       "</table>\n",
       "<p>5 rows × 21 columns</p>\n",
       "</div>"
      ],
      "text/plain": [
       "      deceased  gender  race_0  race_1  race_2  race_3  race_4  race_5  \\\n",
       "8025         0       1       0       0       0       0       0       1   \n",
       "8026         0       1       0       0       0       0       0       1   \n",
       "8028         0       1       0       0       0       0       1       0   \n",
       "8029         0       1       0       0       0       0       0       1   \n",
       "8030         0       0       0       0       0       0       1       0   \n",
       "\n",
       "      existing_doses  medicine_dispensations  ...  heartrate  resprate  o2sat  \\\n",
       "8025               0                       0  ...       92.0      16.0   98.0   \n",
       "8026              13                       1  ...       50.0      18.0   97.0   \n",
       "8028               0                       7  ...       71.0      16.0   97.0   \n",
       "8029               0                       5  ...       65.0      16.0   97.0   \n",
       "8030               3                       1  ...       76.0      16.0  100.0   \n",
       "\n",
       "        sbp   dbp  acuity  arrival_transport_HELICOPTER  \\\n",
       "8025  100.0  66.0     3.0                             0   \n",
       "8026  182.0  82.0     1.0                             0   \n",
       "8028  143.0  83.0     2.0                             0   \n",
       "8029  114.0  67.0     1.0                             0   \n",
       "8030  130.0  76.0     3.0                             0   \n",
       "\n",
       "      arrival_transport_OTHER  arrival_transport_UNKNOWN  \\\n",
       "8025                        0                          0   \n",
       "8026                        0                          0   \n",
       "8028                        0                          0   \n",
       "8029                        0                          0   \n",
       "8030                        0                          0   \n",
       "\n",
       "      arrival_transport_WALK IN  \n",
       "8025                          0  \n",
       "8026                          0  \n",
       "8028                          0  \n",
       "8029                          0  \n",
       "8030                          0  \n",
       "\n",
       "[5 rows x 21 columns]"
      ]
     },
     "execution_count": 13,
     "metadata": {},
     "output_type": "execute_result"
    }
   ],
   "source": [
    "from category_encoders import BinaryEncoder\n",
    "df = BinaryEncoder(cols=['race'], drop_invariant=True).fit_transform(df)\n",
    "df.head()\n",
    "# df = df.drop('race', axis=1)"
   ]
  },
  {
   "cell_type": "code",
   "execution_count": 14,
   "id": "a978dce0",
   "metadata": {},
   "outputs": [],
   "source": [
    "from sklearn.preprocessing import MinMaxScaler\n",
    "\n",
    "scaler = MinMaxScaler()\n",
    "df[ ['existing_doses', 'medicine_dispensations'] ] = scaler.fit_transform(df[ ['existing_doses', 'medicine_dispensations'] ])\n"
   ]
  },
  {
   "cell_type": "code",
   "execution_count": 15,
   "id": "afc30aed",
   "metadata": {},
   "outputs": [],
   "source": [
    "# sbp - drop values higher than 300 (even then, these are extreme)\n",
    "# dbp - drop values higher than 300 (even then, these are extreme)\n",
    "df = df[ (df['sbp'] <= 300) & (df['dbp'] <= 300) ]"
   ]
  },
  {
   "cell_type": "code",
   "execution_count": null,
   "id": "e7e1924f",
   "metadata": {},
   "outputs": [],
   "source": []
  },
  {
   "cell_type": "code",
   "execution_count": 16,
   "id": "8a1c8ff2",
   "metadata": {},
   "outputs": [
    {
     "name": "stdout",
     "output_type": "stream",
     "text": [
      "0.08228036151282203\n"
     ]
    }
   ],
   "source": [
    "print(sum(df.deceased)/len(df.deceased))"
   ]
  },
  {
   "cell_type": "code",
   "execution_count": 17,
   "id": "4ab3ebcc",
   "metadata": {},
   "outputs": [
    {
     "data": {
      "text/plain": [
       "185111"
      ]
     },
     "execution_count": 17,
     "metadata": {},
     "output_type": "execute_result"
    }
   ],
   "source": [
    "len(df.deceased)"
   ]
  },
  {
   "cell_type": "code",
   "execution_count": 18,
   "id": "371c2f06",
   "metadata": {},
   "outputs": [
    {
     "data": {
      "text/plain": [
       "15231"
      ]
     },
     "execution_count": 18,
     "metadata": {},
     "output_type": "execute_result"
    }
   ],
   "source": [
    "sum(df['deceased'])"
   ]
  },
  {
   "cell_type": "code",
   "execution_count": 19,
   "id": "0382d588",
   "metadata": {},
   "outputs": [],
   "source": [
    "X = df.drop(columns='deceased')\n",
    "y = df['deceased']"
   ]
  },
  {
   "cell_type": "code",
   "execution_count": 20,
   "id": "b13f8819",
   "metadata": {},
   "outputs": [],
   "source": [
    "from sklearn.model_selection import train_test_split\n",
    "X_train, X_test, y_train, y_test = train_test_split(X, y, test_size=.2, stratify=y)"
   ]
  },
  {
   "cell_type": "code",
   "execution_count": 21,
   "id": "0ecbee64",
   "metadata": {},
   "outputs": [],
   "source": [
    "data_train, data_test = train_test_split(df, test_size=.2, stratify=df['deceased'])"
   ]
  },
  {
   "cell_type": "code",
   "execution_count": 22,
   "id": "b24d94b5",
   "metadata": {},
   "outputs": [
    {
     "name": "stdout",
     "output_type": "stream",
     "text": [
      "0.08228215655556156\n"
     ]
    }
   ],
   "source": [
    "print(sum(data_train.deceased)/len(data_train.deceased))"
   ]
  },
  {
   "cell_type": "code",
   "execution_count": 23,
   "id": "24489834",
   "metadata": {},
   "outputs": [
    {
     "name": "stdout",
     "output_type": "stream",
     "text": [
      "0.08227318153580207\n"
     ]
    }
   ],
   "source": [
    "print(sum(data_test.deceased)/len(data_test.deceased))"
   ]
  },
  {
   "cell_type": "code",
   "execution_count": 24,
   "id": "b8b735eb",
   "metadata": {},
   "outputs": [
    {
     "name": "stdout",
     "output_type": "stream",
     "text": [
      "0.08228215655556156\n"
     ]
    }
   ],
   "source": [
    "print(sum(y_train)/len(y_train))"
   ]
  },
  {
   "cell_type": "code",
   "execution_count": 25,
   "id": "7093cf93",
   "metadata": {},
   "outputs": [
    {
     "name": "stdout",
     "output_type": "stream",
     "text": [
      "0.08227318153580207\n"
     ]
    }
   ],
   "source": [
    "print(sum(y_test)/len(y_test))"
   ]
  },
  {
   "cell_type": "markdown",
   "id": "5769c56c",
   "metadata": {},
   "source": [
    "Elegi el pytorch tabular como libreria y modelo de prediccion (clasificacion con % de seguridad), porque de acuerdo a las notaas de la clase, los algoritmos de deep learning mejoran con mayores cantidades de datos, y para este prooyecto, esto puede ser unaa mejora a futuro. Tmbien va a ser interesaante revisar el desempe;o de este modelo frente al Boosting, que es ahora el estandar que elegi para comparar el proyecto. <br><br> Aqui un ejemplo de uso de la libreria https://analyticsindiamag.com/how-to-handle-tabular-data-for-deep-learning-using-pytorch-tabular/<br><br> Y la documentacion oficial de la libreria https://pytorch-tabular.readthedocs.io/en/latest/tabular_model/#pytorch_tabular.tabular_model.TabularModel.fit"
   ]
  },
  {
   "cell_type": "code",
   "execution_count": 26,
   "id": "5c5512e3",
   "metadata": {},
   "outputs": [
    {
     "name": "stdout",
     "output_type": "stream",
     "text": [
      "Requirement already satisfied: pytorch_tabular in /home/fillo/anaconda3/lib/python3.9/site-packages (1.0.1)\n",
      "Requirement already satisfied: torch>=1.8.1 in /home/fillo/anaconda3/lib/python3.9/site-packages (from pytorch_tabular) (1.12.1)\n",
      "Requirement already satisfied: tensorboard!=2.5.0,>=2.2.0 in /home/fillo/anaconda3/lib/python3.9/site-packages (from pytorch_tabular) (2.11.0)\n",
      "Requirement already satisfied: pandas>=1.1.5 in /home/fillo/anaconda3/lib/python3.9/site-packages (from pytorch_tabular) (1.4.4)\n",
      "Requirement already satisfied: protobuf<=3.20.* in /home/fillo/anaconda3/lib/python3.9/site-packages (from pytorch_tabular) (3.19.6)\n",
      "Requirement already satisfied: omegaconf>=2.0.1 in /home/fillo/anaconda3/lib/python3.9/site-packages (from pytorch_tabular) (2.1.2)\n",
      "Requirement already satisfied: matplotlib>3.1 in /home/fillo/anaconda3/lib/python3.9/site-packages (from pytorch_tabular) (3.5.2)\n",
      "Requirement already satisfied: scikit-learn>=1.0.0 in /home/fillo/anaconda3/lib/python3.9/site-packages (from pytorch_tabular) (1.0.2)\n",
      "Requirement already satisfied: category-encoders==2.5.* in /home/fillo/anaconda3/lib/python3.9/site-packages (from pytorch_tabular) (2.5.1.post0)\n",
      "Requirement already satisfied: pytorch-tabnet==4.0 in /home/fillo/anaconda3/lib/python3.9/site-packages (from pytorch_tabular) (4.0)\n",
      "Requirement already satisfied: rich>=10.2.2 in /home/fillo/anaconda3/lib/python3.9/site-packages (from pytorch_tabular) (12.6.0)\n",
      "Requirement already satisfied: pytorch-lightning==1.8.* in /home/fillo/anaconda3/lib/python3.9/site-packages (from pytorch_tabular) (1.8.6)\n",
      "Requirement already satisfied: numpy>=1.17.2 in /home/fillo/anaconda3/lib/python3.9/site-packages (from pytorch_tabular) (1.21.5)\n",
      "Requirement already satisfied: ipywidgets in /home/fillo/anaconda3/lib/python3.9/site-packages (from pytorch_tabular) (7.6.5)\n",
      "Requirement already satisfied: torchmetrics==0.11.* in /home/fillo/anaconda3/lib/python3.9/site-packages (from pytorch_tabular) (0.11.4)\n",
      "Requirement already satisfied: einops==0.6.* in /home/fillo/anaconda3/lib/python3.9/site-packages (from pytorch_tabular) (0.6.0)\n",
      "Requirement already satisfied: PyYAML<=5.4.1,>=5.1 in /home/fillo/anaconda3/lib/python3.9/site-packages (from pytorch_tabular) (5.4.1)\n",
      "Requirement already satisfied: scipy>=1.0.0 in /home/fillo/anaconda3/lib/python3.9/site-packages (from category-encoders==2.5.*->pytorch_tabular) (1.8.1)\n",
      "Requirement already satisfied: patsy>=0.5.1 in /home/fillo/anaconda3/lib/python3.9/site-packages (from category-encoders==2.5.*->pytorch_tabular) (0.5.2)\n",
      "Requirement already satisfied: statsmodels>=0.9.0 in /home/fillo/anaconda3/lib/python3.9/site-packages (from category-encoders==2.5.*->pytorch_tabular) (0.13.2)\n",
      "Requirement already satisfied: tensorboardX>=2.2 in /home/fillo/anaconda3/lib/python3.9/site-packages (from pytorch-lightning==1.8.*->pytorch_tabular) (2.5.1)\n",
      "Requirement already satisfied: lightning-utilities!=0.4.0,>=0.3.0 in /home/fillo/anaconda3/lib/python3.9/site-packages (from pytorch-lightning==1.8.*->pytorch_tabular) (0.8.0)\n",
      "Requirement already satisfied: tqdm>=4.57.0 in /home/fillo/anaconda3/lib/python3.9/site-packages (from pytorch-lightning==1.8.*->pytorch_tabular) (4.64.1)\n",
      "Requirement already satisfied: typing-extensions>=4.0.0 in /home/fillo/anaconda3/lib/python3.9/site-packages (from pytorch-lightning==1.8.*->pytorch_tabular) (4.3.0)\n",
      "Requirement already satisfied: packaging>=17.0 in /home/fillo/anaconda3/lib/python3.9/site-packages (from pytorch-lightning==1.8.*->pytorch_tabular) (21.3)\n",
      "Requirement already satisfied: fsspec[http]>2021.06.0 in /home/fillo/anaconda3/lib/python3.9/site-packages (from pytorch-lightning==1.8.*->pytorch_tabular) (2022.7.1)\n",
      "Requirement already satisfied: python-dateutil>=2.7 in /home/fillo/anaconda3/lib/python3.9/site-packages (from matplotlib>3.1->pytorch_tabular) (2.8.2)\n",
      "Requirement already satisfied: kiwisolver>=1.0.1 in /home/fillo/anaconda3/lib/python3.9/site-packages (from matplotlib>3.1->pytorch_tabular) (1.4.2)\n",
      "Requirement already satisfied: cycler>=0.10 in /home/fillo/anaconda3/lib/python3.9/site-packages (from matplotlib>3.1->pytorch_tabular) (0.11.0)\n",
      "Requirement already satisfied: fonttools>=4.22.0 in /home/fillo/anaconda3/lib/python3.9/site-packages (from matplotlib>3.1->pytorch_tabular) (4.25.0)\n",
      "Requirement already satisfied: pillow>=6.2.0 in /home/fillo/anaconda3/lib/python3.9/site-packages (from matplotlib>3.1->pytorch_tabular) (9.3.0)\n",
      "Requirement already satisfied: pyparsing>=2.2.1 in /home/fillo/anaconda3/lib/python3.9/site-packages (from matplotlib>3.1->pytorch_tabular) (3.0.9)\n",
      "Requirement already satisfied: antlr4-python3-runtime==4.8 in /home/fillo/anaconda3/lib/python3.9/site-packages (from omegaconf>=2.0.1->pytorch_tabular) (4.8)\n",
      "Requirement already satisfied: pytz>=2020.1 in /home/fillo/anaconda3/lib/python3.9/site-packages (from pandas>=1.1.5->pytorch_tabular) (2022.1)\n",
      "Requirement already satisfied: pygments<3.0.0,>=2.6.0 in /home/fillo/anaconda3/lib/python3.9/site-packages (from rich>=10.2.2->pytorch_tabular) (2.11.2)\n",
      "Requirement already satisfied: commonmark<0.10.0,>=0.9.0 in /home/fillo/anaconda3/lib/python3.9/site-packages (from rich>=10.2.2->pytorch_tabular) (0.9.1)\n",
      "Requirement already satisfied: joblib>=0.11 in /home/fillo/anaconda3/lib/python3.9/site-packages (from scikit-learn>=1.0.0->pytorch_tabular) (1.1.0)\n",
      "Requirement already satisfied: threadpoolctl>=2.0.0 in /home/fillo/anaconda3/lib/python3.9/site-packages (from scikit-learn>=1.0.0->pytorch_tabular) (2.2.0)\n",
      "Requirement already satisfied: absl-py>=0.4 in /home/fillo/anaconda3/lib/python3.9/site-packages (from tensorboard!=2.5.0,>=2.2.0->pytorch_tabular) (1.3.0)\n",
      "Requirement already satisfied: markdown>=2.6.8 in /home/fillo/anaconda3/lib/python3.9/site-packages (from tensorboard!=2.5.0,>=2.2.0->pytorch_tabular) (3.3.4)\n",
      "Requirement already satisfied: setuptools>=41.0.0 in /home/fillo/anaconda3/lib/python3.9/site-packages (from tensorboard!=2.5.0,>=2.2.0->pytorch_tabular) (63.4.1)\n",
      "Requirement already satisfied: google-auth-oauthlib<0.5,>=0.4.1 in /home/fillo/anaconda3/lib/python3.9/site-packages (from tensorboard!=2.5.0,>=2.2.0->pytorch_tabular) (0.4.6)\n",
      "Requirement already satisfied: requests<3,>=2.21.0 in /home/fillo/anaconda3/lib/python3.9/site-packages (from tensorboard!=2.5.0,>=2.2.0->pytorch_tabular) (2.28.1)\n",
      "Requirement already satisfied: tensorboard-data-server<0.7.0,>=0.6.0 in /home/fillo/anaconda3/lib/python3.9/site-packages (from tensorboard!=2.5.0,>=2.2.0->pytorch_tabular) (0.6.1)\n",
      "Requirement already satisfied: werkzeug>=1.0.1 in /home/fillo/anaconda3/lib/python3.9/site-packages (from tensorboard!=2.5.0,>=2.2.0->pytorch_tabular) (2.0.3)\n",
      "Requirement already satisfied: wheel>=0.26 in /home/fillo/anaconda3/lib/python3.9/site-packages (from tensorboard!=2.5.0,>=2.2.0->pytorch_tabular) (0.37.1)\n",
      "Requirement already satisfied: google-auth<3,>=1.6.3 in /home/fillo/anaconda3/lib/python3.9/site-packages (from tensorboard!=2.5.0,>=2.2.0->pytorch_tabular) (2.15.0)\n",
      "Requirement already satisfied: tensorboard-plugin-wit>=1.6.0 in /home/fillo/anaconda3/lib/python3.9/site-packages (from tensorboard!=2.5.0,>=2.2.0->pytorch_tabular) (1.8.1)\n",
      "Requirement already satisfied: grpcio>=1.24.3 in /home/fillo/anaconda3/lib/python3.9/site-packages (from tensorboard!=2.5.0,>=2.2.0->pytorch_tabular) (1.43.0)\n",
      "Requirement already satisfied: nbformat>=4.2.0 in /home/fillo/anaconda3/lib/python3.9/site-packages (from ipywidgets->pytorch_tabular) (5.5.0)\n",
      "Requirement already satisfied: ipython>=4.0.0 in /home/fillo/anaconda3/lib/python3.9/site-packages (from ipywidgets->pytorch_tabular) (7.31.1)\n",
      "Requirement already satisfied: jupyterlab-widgets>=1.0.0 in /home/fillo/anaconda3/lib/python3.9/site-packages (from ipywidgets->pytorch_tabular) (1.0.0)\n",
      "Requirement already satisfied: traitlets>=4.3.1 in /home/fillo/anaconda3/lib/python3.9/site-packages (from ipywidgets->pytorch_tabular) (5.1.1)\n",
      "Requirement already satisfied: widgetsnbextension~=3.5.0 in /home/fillo/anaconda3/lib/python3.9/site-packages (from ipywidgets->pytorch_tabular) (3.5.2)\n",
      "Requirement already satisfied: ipykernel>=4.5.1 in /home/fillo/anaconda3/lib/python3.9/site-packages (from ipywidgets->pytorch_tabular) (6.15.2)\n",
      "Requirement already satisfied: ipython-genutils~=0.2.0 in /home/fillo/anaconda3/lib/python3.9/site-packages (from ipywidgets->pytorch_tabular) (0.2.0)\n"
     ]
    },
    {
     "name": "stdout",
     "output_type": "stream",
     "text": [
      "Requirement already satisfied: aiohttp in /home/fillo/anaconda3/lib/python3.9/site-packages (from fsspec[http]>2021.06.0->pytorch-lightning==1.8.*->pytorch_tabular) (3.8.3)\n",
      "Requirement already satisfied: six>=1.9.0 in /home/fillo/anaconda3/lib/python3.9/site-packages (from google-auth<3,>=1.6.3->tensorboard!=2.5.0,>=2.2.0->pytorch_tabular) (1.16.0)\n",
      "Requirement already satisfied: pyasn1-modules>=0.2.1 in /home/fillo/anaconda3/lib/python3.9/site-packages (from google-auth<3,>=1.6.3->tensorboard!=2.5.0,>=2.2.0->pytorch_tabular) (0.2.8)\n",
      "Requirement already satisfied: cachetools<6.0,>=2.0.0 in /home/fillo/anaconda3/lib/python3.9/site-packages (from google-auth<3,>=1.6.3->tensorboard!=2.5.0,>=2.2.0->pytorch_tabular) (5.2.0)\n",
      "Requirement already satisfied: rsa<5,>=3.1.4 in /home/fillo/anaconda3/lib/python3.9/site-packages (from google-auth<3,>=1.6.3->tensorboard!=2.5.0,>=2.2.0->pytorch_tabular) (4.9)\n",
      "Requirement already satisfied: requests-oauthlib>=0.7.0 in /home/fillo/anaconda3/lib/python3.9/site-packages (from google-auth-oauthlib<0.5,>=0.4.1->tensorboard!=2.5.0,>=2.2.0->pytorch_tabular) (1.3.1)\n",
      "Requirement already satisfied: matplotlib-inline>=0.1 in /home/fillo/anaconda3/lib/python3.9/site-packages (from ipykernel>=4.5.1->ipywidgets->pytorch_tabular) (0.1.6)\n",
      "Requirement already satisfied: debugpy>=1.0 in /home/fillo/anaconda3/lib/python3.9/site-packages (from ipykernel>=4.5.1->ipywidgets->pytorch_tabular) (1.5.1)\n",
      "Requirement already satisfied: nest-asyncio in /home/fillo/anaconda3/lib/python3.9/site-packages (from ipykernel>=4.5.1->ipywidgets->pytorch_tabular) (1.5.5)\n",
      "Requirement already satisfied: tornado>=6.1 in /home/fillo/anaconda3/lib/python3.9/site-packages (from ipykernel>=4.5.1->ipywidgets->pytorch_tabular) (6.1)\n",
      "Requirement already satisfied: psutil in /home/fillo/anaconda3/lib/python3.9/site-packages (from ipykernel>=4.5.1->ipywidgets->pytorch_tabular) (5.8.0)\n",
      "Requirement already satisfied: pyzmq>=17 in /home/fillo/anaconda3/lib/python3.9/site-packages (from ipykernel>=4.5.1->ipywidgets->pytorch_tabular) (23.2.0)\n",
      "Requirement already satisfied: jupyter-client>=6.1.12 in /home/fillo/anaconda3/lib/python3.9/site-packages (from ipykernel>=4.5.1->ipywidgets->pytorch_tabular) (7.3.4)\n",
      "Requirement already satisfied: decorator in /home/fillo/anaconda3/lib/python3.9/site-packages (from ipython>=4.0.0->ipywidgets->pytorch_tabular) (5.1.1)\n",
      "Requirement already satisfied: pexpect>4.3 in /home/fillo/anaconda3/lib/python3.9/site-packages (from ipython>=4.0.0->ipywidgets->pytorch_tabular) (4.8.0)\n",
      "Requirement already satisfied: backcall in /home/fillo/anaconda3/lib/python3.9/site-packages (from ipython>=4.0.0->ipywidgets->pytorch_tabular) (0.2.0)\n",
      "Requirement already satisfied: jedi>=0.16 in /home/fillo/anaconda3/lib/python3.9/site-packages (from ipython>=4.0.0->ipywidgets->pytorch_tabular) (0.18.1)\n",
      "Requirement already satisfied: pickleshare in /home/fillo/anaconda3/lib/python3.9/site-packages (from ipython>=4.0.0->ipywidgets->pytorch_tabular) (0.7.5)\n",
      "Requirement already satisfied: prompt-toolkit!=3.0.0,!=3.0.1,<3.1.0,>=2.0.0 in /home/fillo/anaconda3/lib/python3.9/site-packages (from ipython>=4.0.0->ipywidgets->pytorch_tabular) (3.0.20)\n",
      "Requirement already satisfied: jupyter_core in /home/fillo/anaconda3/lib/python3.9/site-packages (from nbformat>=4.2.0->ipywidgets->pytorch_tabular) (4.11.1)\n",
      "Requirement already satisfied: jsonschema>=2.6 in /home/fillo/anaconda3/lib/python3.9/site-packages (from nbformat>=4.2.0->ipywidgets->pytorch_tabular) (4.8.0)\n",
      "Requirement already satisfied: fastjsonschema in /home/fillo/anaconda3/lib/python3.9/site-packages (from nbformat>=4.2.0->ipywidgets->pytorch_tabular) (2.16.2)\n",
      "Requirement already satisfied: certifi>=2017.4.17 in /home/fillo/anaconda3/lib/python3.9/site-packages (from requests<3,>=2.21.0->tensorboard!=2.5.0,>=2.2.0->pytorch_tabular) (2022.9.14)\n",
      "Requirement already satisfied: idna<4,>=2.5 in /home/fillo/anaconda3/lib/python3.9/site-packages (from requests<3,>=2.21.0->tensorboard!=2.5.0,>=2.2.0->pytorch_tabular) (3.3)\n",
      "Requirement already satisfied: urllib3<1.27,>=1.21.1 in /home/fillo/anaconda3/lib/python3.9/site-packages (from requests<3,>=2.21.0->tensorboard!=2.5.0,>=2.2.0->pytorch_tabular) (1.26.11)\n",
      "Requirement already satisfied: charset-normalizer<3,>=2 in /home/fillo/anaconda3/lib/python3.9/site-packages (from requests<3,>=2.21.0->tensorboard!=2.5.0,>=2.2.0->pytorch_tabular) (2.0.4)\n",
      "Requirement already satisfied: notebook>=4.4.1 in /home/fillo/anaconda3/lib/python3.9/site-packages (from widgetsnbextension~=3.5.0->ipywidgets->pytorch_tabular) (6.4.12)\n",
      "Requirement already satisfied: parso<0.9.0,>=0.8.0 in /home/fillo/anaconda3/lib/python3.9/site-packages (from jedi>=0.16->ipython>=4.0.0->ipywidgets->pytorch_tabular) (0.8.3)\n",
      "Requirement already satisfied: attrs>=17.4.0 in /home/fillo/anaconda3/lib/python3.9/site-packages (from jsonschema>=2.6->nbformat>=4.2.0->ipywidgets->pytorch_tabular) (21.4.0)\n",
      "Requirement already satisfied: pyrsistent!=0.17.0,!=0.17.1,!=0.17.2,>=0.14.0 in /home/fillo/anaconda3/lib/python3.9/site-packages (from jsonschema>=2.6->nbformat>=4.2.0->ipywidgets->pytorch_tabular) (0.18.0)\n",
      "Requirement already satisfied: entrypoints in /home/fillo/anaconda3/lib/python3.9/site-packages (from jupyter-client>=6.1.12->ipykernel>=4.5.1->ipywidgets->pytorch_tabular) (0.4)\n",
      "Requirement already satisfied: terminado>=0.8.3 in /home/fillo/anaconda3/lib/python3.9/site-packages (from notebook>=4.4.1->widgetsnbextension~=3.5.0->ipywidgets->pytorch_tabular) (0.13.1)\n",
      "Requirement already satisfied: jinja2 in /home/fillo/anaconda3/lib/python3.9/site-packages (from notebook>=4.4.1->widgetsnbextension~=3.5.0->ipywidgets->pytorch_tabular) (2.11.3)\n",
      "Requirement already satisfied: nbconvert>=5 in /home/fillo/anaconda3/lib/python3.9/site-packages (from notebook>=4.4.1->widgetsnbextension~=3.5.0->ipywidgets->pytorch_tabular) (6.4.4)\n",
      "Requirement already satisfied: Send2Trash>=1.8.0 in /home/fillo/anaconda3/lib/python3.9/site-packages (from notebook>=4.4.1->widgetsnbextension~=3.5.0->ipywidgets->pytorch_tabular) (1.8.0)\n",
      "Requirement already satisfied: argon2-cffi in /home/fillo/anaconda3/lib/python3.9/site-packages (from notebook>=4.4.1->widgetsnbextension~=3.5.0->ipywidgets->pytorch_tabular) (21.3.0)\n",
      "Requirement already satisfied: prometheus-client in /home/fillo/anaconda3/lib/python3.9/site-packages (from notebook>=4.4.1->widgetsnbextension~=3.5.0->ipywidgets->pytorch_tabular) (0.14.1)\n",
      "Requirement already satisfied: ptyprocess>=0.5 in /home/fillo/anaconda3/lib/python3.9/site-packages (from pexpect>4.3->ipython>=4.0.0->ipywidgets->pytorch_tabular) (0.7.0)\n",
      "Requirement already satisfied: wcwidth in /home/fillo/anaconda3/lib/python3.9/site-packages (from prompt-toolkit!=3.0.0,!=3.0.1,<3.1.0,>=2.0.0->ipython>=4.0.0->ipywidgets->pytorch_tabular) (0.2.5)\n",
      "Requirement already satisfied: pyasn1<0.5.0,>=0.4.6 in /home/fillo/anaconda3/lib/python3.9/site-packages (from pyasn1-modules>=0.2.1->google-auth<3,>=1.6.3->tensorboard!=2.5.0,>=2.2.0->pytorch_tabular) (0.4.8)\n",
      "Requirement already satisfied: oauthlib>=3.0.0 in /home/fillo/anaconda3/lib/python3.9/site-packages (from requests-oauthlib>=0.7.0->google-auth-oauthlib<0.5,>=0.4.1->tensorboard!=2.5.0,>=2.2.0->pytorch_tabular) (3.2.2)\n",
      "Requirement already satisfied: frozenlist>=1.1.1 in /home/fillo/anaconda3/lib/python3.9/site-packages (from aiohttp->fsspec[http]>2021.06.0->pytorch-lightning==1.8.*->pytorch_tabular) (1.3.3)\n",
      "Requirement already satisfied: aiosignal>=1.1.2 in /home/fillo/anaconda3/lib/python3.9/site-packages (from aiohttp->fsspec[http]>2021.06.0->pytorch-lightning==1.8.*->pytorch_tabular) (1.3.1)\n",
      "Requirement already satisfied: yarl<2.0,>=1.0 in /home/fillo/anaconda3/lib/python3.9/site-packages (from aiohttp->fsspec[http]>2021.06.0->pytorch-lightning==1.8.*->pytorch_tabular) (1.8.2)\n",
      "Requirement already satisfied: async-timeout<5.0,>=4.0.0a3 in /home/fillo/anaconda3/lib/python3.9/site-packages (from aiohttp->fsspec[http]>2021.06.0->pytorch-lightning==1.8.*->pytorch_tabular) (4.0.2)\n",
      "Requirement already satisfied: multidict<7.0,>=4.5 in /home/fillo/anaconda3/lib/python3.9/site-packages (from aiohttp->fsspec[http]>2021.06.0->pytorch-lightning==1.8.*->pytorch_tabular) (6.0.3)\n",
      "Requirement already satisfied: beautifulsoup4 in /home/fillo/anaconda3/lib/python3.9/site-packages (from nbconvert>=5->notebook>=4.4.1->widgetsnbextension~=3.5.0->ipywidgets->pytorch_tabular) (4.11.1)\n",
      "Requirement already satisfied: nbclient<0.6.0,>=0.5.0 in /home/fillo/anaconda3/lib/python3.9/site-packages (from nbconvert>=5->notebook>=4.4.1->widgetsnbextension~=3.5.0->ipywidgets->pytorch_tabular) (0.5.13)\n",
      "Requirement already satisfied: bleach in /home/fillo/anaconda3/lib/python3.9/site-packages (from nbconvert>=5->notebook>=4.4.1->widgetsnbextension~=3.5.0->ipywidgets->pytorch_tabular) (4.1.0)\n",
      "Requirement already satisfied: testpath in /home/fillo/anaconda3/lib/python3.9/site-packages (from nbconvert>=5->notebook>=4.4.1->widgetsnbextension~=3.5.0->ipywidgets->pytorch_tabular) (0.6.0)\n",
      "Requirement already satisfied: defusedxml in /home/fillo/anaconda3/lib/python3.9/site-packages (from nbconvert>=5->notebook>=4.4.1->widgetsnbextension~=3.5.0->ipywidgets->pytorch_tabular) (0.7.1)\n",
      "Requirement already satisfied: pandocfilters>=1.4.1 in /home/fillo/anaconda3/lib/python3.9/site-packages (from nbconvert>=5->notebook>=4.4.1->widgetsnbextension~=3.5.0->ipywidgets->pytorch_tabular) (1.5.0)\n",
      "Requirement already satisfied: jupyterlab-pygments in /home/fillo/anaconda3/lib/python3.9/site-packages (from nbconvert>=5->notebook>=4.4.1->widgetsnbextension~=3.5.0->ipywidgets->pytorch_tabular) (0.1.2)\n",
      "Requirement already satisfied: mistune<2,>=0.8.1 in /home/fillo/anaconda3/lib/python3.9/site-packages (from nbconvert>=5->notebook>=4.4.1->widgetsnbextension~=3.5.0->ipywidgets->pytorch_tabular) (0.8.4)\n"
     ]
    },
    {
     "name": "stdout",
     "output_type": "stream",
     "text": [
      "Requirement already satisfied: MarkupSafe>=0.23 in /home/fillo/anaconda3/lib/python3.9/site-packages (from jinja2->notebook>=4.4.1->widgetsnbextension~=3.5.0->ipywidgets->pytorch_tabular) (2.0.1)\n",
      "Requirement already satisfied: argon2-cffi-bindings in /home/fillo/anaconda3/lib/python3.9/site-packages (from argon2-cffi->notebook>=4.4.1->widgetsnbextension~=3.5.0->ipywidgets->pytorch_tabular) (21.2.0)\n",
      "Requirement already satisfied: cffi>=1.0.1 in /home/fillo/anaconda3/lib/python3.9/site-packages (from argon2-cffi-bindings->argon2-cffi->notebook>=4.4.1->widgetsnbextension~=3.5.0->ipywidgets->pytorch_tabular) (1.15.1)\n",
      "Requirement already satisfied: soupsieve>1.2 in /home/fillo/anaconda3/lib/python3.9/site-packages (from beautifulsoup4->nbconvert>=5->notebook>=4.4.1->widgetsnbextension~=3.5.0->ipywidgets->pytorch_tabular) (2.3.1)\n",
      "Requirement already satisfied: webencodings in /home/fillo/anaconda3/lib/python3.9/site-packages (from bleach->nbconvert>=5->notebook>=4.4.1->widgetsnbextension~=3.5.0->ipywidgets->pytorch_tabular) (0.5.1)\n",
      "Requirement already satisfied: pycparser in /home/fillo/anaconda3/lib/python3.9/site-packages (from cffi>=1.0.1->argon2-cffi-bindings->argon2-cffi->notebook>=4.4.1->widgetsnbextension~=3.5.0->ipywidgets->pytorch_tabular) (2.21)\n"
     ]
    }
   ],
   "source": [
    "!pip install pytorch_tabular"
   ]
  },
  {
   "cell_type": "code",
   "execution_count": 39,
   "id": "054c01e7",
   "metadata": {},
   "outputs": [],
   "source": [
    "from pytorch_tabular import TabularModel\n",
    "from pytorch_tabular.models import CategoryEmbeddingModelConfig\n",
    "from pytorch_tabular.config import DataConfig, OptimizerConfig, TrainerConfig, ExperimentConfig\n",
    " \n",
    "from sklearn.metrics import accuracy_score"
   ]
  },
  {
   "cell_type": "code",
   "execution_count": 40,
   "id": "dc2cd019",
   "metadata": {},
   "outputs": [
    {
     "name": "stderr",
     "output_type": "stream",
     "text": [
      "2023-03-30 15:15:12,335 - {pytorch_tabular.tabular_model:102} - INFO - Experiment Tracking is turned off\n"
     ]
    }
   ],
   "source": [
    "features = df.drop(columns='deceased')\n",
    "data_config = DataConfig(\n",
    "    target=['deceased'],\n",
    "    continuous_cols=list(features.columns),\n",
    "    categorical_cols=[]\n",
    ")\n",
    "trainer_config=TrainerConfig()\n",
    "optimizer_config=OptimizerConfig()\n",
    "model_config = CategoryEmbeddingModelConfig(\n",
    "    task=\"classification\",\n",
    "    layers=\"1024-512-512\",  \n",
    "    activation=\"LeakyReLU\", \n",
    "    learning_rate = 1e-3\n",
    ")\n",
    "tabular_model = TabularModel(\n",
    "    data_config=data_config,\n",
    "    model_config=model_config,\n",
    "    optimizer_config=optimizer_config,\n",
    "    trainer_config=trainer_config,\n",
    ")"
   ]
  },
  {
   "cell_type": "code",
   "execution_count": 41,
   "id": "8b59a4ac",
   "metadata": {},
   "outputs": [
    {
     "name": "stderr",
     "output_type": "stream",
     "text": [
      "Global seed set to 42\n",
      "2023-03-30 15:18:19,779 - {pytorch_tabular.tabular_model:465} - INFO - Preparing the DataLoaders\n",
      "2023-03-30 15:18:19,785 - {pytorch_tabular.tabular_datamodule:286} - INFO - Setting up the datamodule for classification task\n",
      "2023-03-30 15:18:20,399 - {pytorch_tabular.tabular_model:508} - INFO - Preparing the Model: CategoryEmbeddingModel\n",
      "/home/fillo/anaconda3/lib/python3.9/site-packages/pytorch_tabular/models/base_model.py:126: UserWarning: Wandb is not installed. Please install wandb to log logits. You can install wandb using pip install wandb or install PyTorch Tabular using pip install pytorch-tabular[all]\n",
      "  warnings.warn(\n",
      "2023-03-30 15:18:20,451 - {pytorch_tabular.tabular_model:264} - INFO - Preparing the Trainer\n",
      "GPU available: False, used: False\n",
      "TPU available: False, using: 0 TPU cores\n",
      "IPU available: False, using: 0 IPUs\n",
      "HPU available: False, using: 0 HPUs\n",
      "2023-03-30 15:18:20,577 - {pytorch_tabular.tabular_model:566} - INFO - Training Started\n"
     ]
    },
    {
     "data": {
      "text/html": [
       "<pre style=\"white-space:pre;overflow-x:auto;line-height:normal;font-family:Menlo,'DejaVu Sans Mono',consolas,'Courier New',monospace\">┏━━━┳━━━━━━━━━━━━━━━━━━┳━━━━━━━━━━━━━━━━━━━━━━━━━━━┳━━━━━━━━┓\n",
       "┃<span style=\"color: #800080; text-decoration-color: #800080; font-weight: bold\">   </span>┃<span style=\"color: #800080; text-decoration-color: #800080; font-weight: bold\"> Name             </span>┃<span style=\"color: #800080; text-decoration-color: #800080; font-weight: bold\"> Type                      </span>┃<span style=\"color: #800080; text-decoration-color: #800080; font-weight: bold\"> Params </span>┃\n",
       "┡━━━╇━━━━━━━━━━━━━━━━━━╇━━━━━━━━━━━━━━━━━━━━━━━━━━━╇━━━━━━━━┩\n",
       "│<span style=\"color: #7f7f7f; text-decoration-color: #7f7f7f\"> 0 </span>│ _backbone        │ CategoryEmbeddingBackbone │  808 K │\n",
       "│<span style=\"color: #7f7f7f; text-decoration-color: #7f7f7f\"> 1 </span>│ _embedding_layer │ Embedding1dLayer          │     40 │\n",
       "│<span style=\"color: #7f7f7f; text-decoration-color: #7f7f7f\"> 2 </span>│ head             │ LinearHead                │  1.0 K │\n",
       "│<span style=\"color: #7f7f7f; text-decoration-color: #7f7f7f\"> 3 </span>│ loss             │ CrossEntropyLoss          │      0 │\n",
       "└───┴──────────────────┴───────────────────────────┴────────┘\n",
       "</pre>\n"
      ],
      "text/plain": [
       "┏━━━┳━━━━━━━━━━━━━━━━━━┳━━━━━━━━━━━━━━━━━━━━━━━━━━━┳━━━━━━━━┓\n",
       "┃\u001b[1;35m \u001b[0m\u001b[1;35m \u001b[0m\u001b[1;35m \u001b[0m┃\u001b[1;35m \u001b[0m\u001b[1;35mName            \u001b[0m\u001b[1;35m \u001b[0m┃\u001b[1;35m \u001b[0m\u001b[1;35mType                     \u001b[0m\u001b[1;35m \u001b[0m┃\u001b[1;35m \u001b[0m\u001b[1;35mParams\u001b[0m\u001b[1;35m \u001b[0m┃\n",
       "┡━━━╇━━━━━━━━━━━━━━━━━━╇━━━━━━━━━━━━━━━━━━━━━━━━━━━╇━━━━━━━━┩\n",
       "│\u001b[2m \u001b[0m\u001b[2m0\u001b[0m\u001b[2m \u001b[0m│ _backbone        │ CategoryEmbeddingBackbone │  808 K │\n",
       "│\u001b[2m \u001b[0m\u001b[2m1\u001b[0m\u001b[2m \u001b[0m│ _embedding_layer │ Embedding1dLayer          │     40 │\n",
       "│\u001b[2m \u001b[0m\u001b[2m2\u001b[0m\u001b[2m \u001b[0m│ head             │ LinearHead                │  1.0 K │\n",
       "│\u001b[2m \u001b[0m\u001b[2m3\u001b[0m\u001b[2m \u001b[0m│ loss             │ CrossEntropyLoss          │      0 │\n",
       "└───┴──────────────────┴───────────────────────────┴────────┘\n"
      ]
     },
     "metadata": {},
     "output_type": "display_data"
    },
    {
     "data": {
      "text/html": [
       "<pre style=\"white-space:pre;overflow-x:auto;line-height:normal;font-family:Menlo,'DejaVu Sans Mono',consolas,'Courier New',monospace\"><span style=\"font-weight: bold\">Trainable params</span>: 810 K                                                                                            \n",
       "<span style=\"font-weight: bold\">Non-trainable params</span>: 0                                                                                            \n",
       "<span style=\"font-weight: bold\">Total params</span>: 810 K                                                                                                \n",
       "<span style=\"font-weight: bold\">Total estimated model params size (MB)</span>: 3                                                                          \n",
       "</pre>\n"
      ],
      "text/plain": [
       "\u001b[1mTrainable params\u001b[0m: 810 K                                                                                            \n",
       "\u001b[1mNon-trainable params\u001b[0m: 0                                                                                            \n",
       "\u001b[1mTotal params\u001b[0m: 810 K                                                                                                \n",
       "\u001b[1mTotal estimated model params size (MB)\u001b[0m: 3                                                                          \n"
      ]
     },
     "metadata": {},
     "output_type": "display_data"
    },
    {
     "data": {
      "application/vnd.jupyter.widget-view+json": {
       "model_id": "9f52512b0c534cb4b535bc5e7fd6794b",
       "version_major": 2,
       "version_minor": 0
      },
      "text/plain": [
       "Output()"
      ]
     },
     "metadata": {},
     "output_type": "display_data"
    },
    {
     "data": {
      "text/html": [
       "<pre style=\"white-space:pre;overflow-x:auto;line-height:normal;font-family:Menlo,'DejaVu Sans Mono',consolas,'Courier New',monospace\">/home/fillo/anaconda3/lib/python3.9/site-packages/pytorch_lightning/trainer/connectors/data_connector.py:224: \n",
       "PossibleUserWarning: The dataloader, val_dataloader 0, does not have many workers which may be a bottleneck. \n",
       "Consider increasing the value of the `num_workers` argument` (try 8 which is the number of cpus on this machine) in\n",
       "the `DataLoader` init to improve performance.\n",
       "  rank_zero_warn(\n",
       "</pre>\n"
      ],
      "text/plain": [
       "/home/fillo/anaconda3/lib/python3.9/site-packages/pytorch_lightning/trainer/connectors/data_connector.py:224: \n",
       "PossibleUserWarning: The dataloader, val_dataloader 0, does not have many workers which may be a bottleneck. \n",
       "Consider increasing the value of the `num_workers` argument` (try 8 which is the number of cpus on this machine) in\n",
       "the `DataLoader` init to improve performance.\n",
       "  rank_zero_warn(\n"
      ]
     },
     "metadata": {},
     "output_type": "display_data"
    },
    {
     "data": {
      "text/html": [
       "<pre style=\"white-space:pre;overflow-x:auto;line-height:normal;font-family:Menlo,'DejaVu Sans Mono',consolas,'Courier New',monospace\">/home/fillo/anaconda3/lib/python3.9/site-packages/pytorch_lightning/trainer/connectors/data_connector.py:224: \n",
       "PossibleUserWarning: The dataloader, train_dataloader, does not have many workers which may be a bottleneck. \n",
       "Consider increasing the value of the `num_workers` argument` (try 8 which is the number of cpus on this machine) in\n",
       "the `DataLoader` init to improve performance.\n",
       "  rank_zero_warn(\n",
       "</pre>\n"
      ],
      "text/plain": [
       "/home/fillo/anaconda3/lib/python3.9/site-packages/pytorch_lightning/trainer/connectors/data_connector.py:224: \n",
       "PossibleUserWarning: The dataloader, train_dataloader, does not have many workers which may be a bottleneck. \n",
       "Consider increasing the value of the `num_workers` argument` (try 8 which is the number of cpus on this machine) in\n",
       "the `DataLoader` init to improve performance.\n",
       "  rank_zero_warn(\n"
      ]
     },
     "metadata": {},
     "output_type": "display_data"
    },
    {
     "data": {
      "text/html": [
       "<pre style=\"white-space:pre;overflow-x:auto;line-height:normal;font-family:Menlo,'DejaVu Sans Mono',consolas,'Courier New',monospace\"></pre>\n"
      ],
      "text/plain": []
     },
     "metadata": {},
     "output_type": "display_data"
    },
    {
     "data": {
      "text/html": [
       "<pre style=\"white-space:pre;overflow-x:auto;line-height:normal;font-family:Menlo,'DejaVu Sans Mono',consolas,'Courier New',monospace\">\n",
       "</pre>\n"
      ],
      "text/plain": [
       "\n"
      ]
     },
     "metadata": {},
     "output_type": "display_data"
    },
    {
     "name": "stderr",
     "output_type": "stream",
     "text": [
      "2023-03-30 15:28:34,659 - {pytorch_tabular.tabular_model:568} - INFO - Training the model completed\n",
      "2023-03-30 15:28:34,660 - {pytorch_tabular.tabular_model:1207} - INFO - Loading the best model\n"
     ]
    },
    {
     "data": {
      "text/plain": [
       "<pytorch_lightning.trainer.trainer.Trainer at 0x7fa59d2b3550>"
      ]
     },
     "execution_count": 41,
     "metadata": {},
     "output_type": "execute_result"
    }
   ],
   "source": [
    "tabular_model.fit(train=data_train, validation=data_test)"
   ]
  },
  {
   "cell_type": "code",
   "execution_count": 42,
   "id": "7448905f",
   "metadata": {},
   "outputs": [
    {
     "data": {
      "application/vnd.jupyter.widget-view+json": {
       "model_id": "2eefea81043c4603b5b031bd3b6a3e72",
       "version_major": 2,
       "version_minor": 0
      },
      "text/plain": [
       "Output()"
      ]
     },
     "metadata": {},
     "output_type": "display_data"
    },
    {
     "data": {
      "text/html": [
       "<pre style=\"white-space:pre;overflow-x:auto;line-height:normal;font-family:Menlo,'DejaVu Sans Mono',consolas,'Courier New',monospace\"></pre>\n"
      ],
      "text/plain": []
     },
     "metadata": {},
     "output_type": "display_data"
    },
    {
     "data": {
      "text/html": [
       "<pre style=\"white-space:pre;overflow-x:auto;line-height:normal;font-family:Menlo,'DejaVu Sans Mono',consolas,'Courier New',monospace\">\n",
       "</pre>\n"
      ],
      "text/plain": [
       "\n"
      ]
     },
     "metadata": {},
     "output_type": "display_data"
    }
   ],
   "source": [
    "features = data_test.drop(columns='deceased')\n",
    "pred_df = tabular_model.predict(features)"
   ]
  },
  {
   "cell_type": "code",
   "execution_count": 45,
   "id": "26225886",
   "metadata": {},
   "outputs": [
    {
     "data": {
      "text/plain": [
       "65831     0.0\n",
       "172731    0.0\n",
       "196958    0.0\n",
       "170602    0.0\n",
       "135242    0.0\n",
       "         ... \n",
       "55732     0.0\n",
       "53706     0.0\n",
       "176398    0.0\n",
       "107575    0.0\n",
       "191723    1.0\n",
       "Name: deceased, Length: 37023, dtype: float64"
      ]
     },
     "execution_count": 45,
     "metadata": {},
     "output_type": "execute_result"
    }
   ],
   "source": [
    "data_test['deceased'].astype('float')"
   ]
  },
  {
   "cell_type": "code",
   "execution_count": 46,
   "id": "76674a51",
   "metadata": {},
   "outputs": [
    {
     "data": {
      "text/html": [
       "<div>\n",
       "<style scoped>\n",
       "    .dataframe tbody tr th:only-of-type {\n",
       "        vertical-align: middle;\n",
       "    }\n",
       "\n",
       "    .dataframe tbody tr th {\n",
       "        vertical-align: top;\n",
       "    }\n",
       "\n",
       "    .dataframe thead th {\n",
       "        text-align: right;\n",
       "    }\n",
       "</style>\n",
       "<table border=\"1\" class=\"dataframe\">\n",
       "  <thead>\n",
       "    <tr style=\"text-align: right;\">\n",
       "      <th></th>\n",
       "      <th>gender</th>\n",
       "      <th>race_0</th>\n",
       "      <th>race_1</th>\n",
       "      <th>race_2</th>\n",
       "      <th>race_3</th>\n",
       "      <th>race_4</th>\n",
       "      <th>race_5</th>\n",
       "      <th>existing_doses</th>\n",
       "      <th>medicine_dispensations</th>\n",
       "      <th>temperature</th>\n",
       "      <th>...</th>\n",
       "      <th>sbp</th>\n",
       "      <th>dbp</th>\n",
       "      <th>acuity</th>\n",
       "      <th>arrival_transport_HELICOPTER</th>\n",
       "      <th>arrival_transport_OTHER</th>\n",
       "      <th>arrival_transport_UNKNOWN</th>\n",
       "      <th>arrival_transport_WALK IN</th>\n",
       "      <th>0_probability</th>\n",
       "      <th>1_probability</th>\n",
       "      <th>prediction</th>\n",
       "    </tr>\n",
       "  </thead>\n",
       "  <tbody>\n",
       "    <tr>\n",
       "      <th>65831</th>\n",
       "      <td>0</td>\n",
       "      <td>0</td>\n",
       "      <td>0</td>\n",
       "      <td>0</td>\n",
       "      <td>1</td>\n",
       "      <td>1</td>\n",
       "      <td>0</td>\n",
       "      <td>0.002527</td>\n",
       "      <td>0.010438</td>\n",
       "      <td>97.2</td>\n",
       "      <td>...</td>\n",
       "      <td>128.0</td>\n",
       "      <td>72.0</td>\n",
       "      <td>3.0</td>\n",
       "      <td>0</td>\n",
       "      <td>0</td>\n",
       "      <td>0</td>\n",
       "      <td>0</td>\n",
       "      <td>0.932386</td>\n",
       "      <td>0.067614</td>\n",
       "      <td>0</td>\n",
       "    </tr>\n",
       "    <tr>\n",
       "      <th>172731</th>\n",
       "      <td>1</td>\n",
       "      <td>0</td>\n",
       "      <td>0</td>\n",
       "      <td>0</td>\n",
       "      <td>0</td>\n",
       "      <td>0</td>\n",
       "      <td>1</td>\n",
       "      <td>0.029055</td>\n",
       "      <td>0.050800</td>\n",
       "      <td>97.2</td>\n",
       "      <td>...</td>\n",
       "      <td>142.0</td>\n",
       "      <td>82.0</td>\n",
       "      <td>3.0</td>\n",
       "      <td>0</td>\n",
       "      <td>0</td>\n",
       "      <td>0</td>\n",
       "      <td>1</td>\n",
       "      <td>0.783774</td>\n",
       "      <td>0.216226</td>\n",
       "      <td>0</td>\n",
       "    </tr>\n",
       "    <tr>\n",
       "      <th>196958</th>\n",
       "      <td>0</td>\n",
       "      <td>0</td>\n",
       "      <td>0</td>\n",
       "      <td>0</td>\n",
       "      <td>0</td>\n",
       "      <td>0</td>\n",
       "      <td>1</td>\n",
       "      <td>0.000000</td>\n",
       "      <td>0.001392</td>\n",
       "      <td>97.6</td>\n",
       "      <td>...</td>\n",
       "      <td>116.0</td>\n",
       "      <td>80.0</td>\n",
       "      <td>2.0</td>\n",
       "      <td>0</td>\n",
       "      <td>0</td>\n",
       "      <td>0</td>\n",
       "      <td>0</td>\n",
       "      <td>0.965210</td>\n",
       "      <td>0.034790</td>\n",
       "      <td>0</td>\n",
       "    </tr>\n",
       "    <tr>\n",
       "      <th>170602</th>\n",
       "      <td>0</td>\n",
       "      <td>0</td>\n",
       "      <td>0</td>\n",
       "      <td>0</td>\n",
       "      <td>0</td>\n",
       "      <td>1</td>\n",
       "      <td>0</td>\n",
       "      <td>0.000000</td>\n",
       "      <td>0.000000</td>\n",
       "      <td>97.9</td>\n",
       "      <td>...</td>\n",
       "      <td>171.0</td>\n",
       "      <td>86.0</td>\n",
       "      <td>3.0</td>\n",
       "      <td>0</td>\n",
       "      <td>0</td>\n",
       "      <td>0</td>\n",
       "      <td>0</td>\n",
       "      <td>0.974910</td>\n",
       "      <td>0.025090</td>\n",
       "      <td>0</td>\n",
       "    </tr>\n",
       "    <tr>\n",
       "      <th>135242</th>\n",
       "      <td>0</td>\n",
       "      <td>0</td>\n",
       "      <td>0</td>\n",
       "      <td>0</td>\n",
       "      <td>0</td>\n",
       "      <td>0</td>\n",
       "      <td>1</td>\n",
       "      <td>0.000000</td>\n",
       "      <td>0.001392</td>\n",
       "      <td>97.4</td>\n",
       "      <td>...</td>\n",
       "      <td>118.0</td>\n",
       "      <td>87.0</td>\n",
       "      <td>3.0</td>\n",
       "      <td>0</td>\n",
       "      <td>0</td>\n",
       "      <td>0</td>\n",
       "      <td>1</td>\n",
       "      <td>0.966558</td>\n",
       "      <td>0.033442</td>\n",
       "      <td>0</td>\n",
       "    </tr>\n",
       "    <tr>\n",
       "      <th>...</th>\n",
       "      <td>...</td>\n",
       "      <td>...</td>\n",
       "      <td>...</td>\n",
       "      <td>...</td>\n",
       "      <td>...</td>\n",
       "      <td>...</td>\n",
       "      <td>...</td>\n",
       "      <td>...</td>\n",
       "      <td>...</td>\n",
       "      <td>...</td>\n",
       "      <td>...</td>\n",
       "      <td>...</td>\n",
       "      <td>...</td>\n",
       "      <td>...</td>\n",
       "      <td>...</td>\n",
       "      <td>...</td>\n",
       "      <td>...</td>\n",
       "      <td>...</td>\n",
       "      <td>...</td>\n",
       "      <td>...</td>\n",
       "      <td>...</td>\n",
       "    </tr>\n",
       "    <tr>\n",
       "      <th>55732</th>\n",
       "      <td>1</td>\n",
       "      <td>0</td>\n",
       "      <td>0</td>\n",
       "      <td>0</td>\n",
       "      <td>0</td>\n",
       "      <td>1</td>\n",
       "      <td>0</td>\n",
       "      <td>0.001769</td>\n",
       "      <td>0.001392</td>\n",
       "      <td>97.4</td>\n",
       "      <td>...</td>\n",
       "      <td>152.0</td>\n",
       "      <td>71.0</td>\n",
       "      <td>3.0</td>\n",
       "      <td>0</td>\n",
       "      <td>0</td>\n",
       "      <td>0</td>\n",
       "      <td>1</td>\n",
       "      <td>0.985780</td>\n",
       "      <td>0.014220</td>\n",
       "      <td>0</td>\n",
       "    </tr>\n",
       "    <tr>\n",
       "      <th>53706</th>\n",
       "      <td>1</td>\n",
       "      <td>0</td>\n",
       "      <td>0</td>\n",
       "      <td>1</td>\n",
       "      <td>0</td>\n",
       "      <td>1</td>\n",
       "      <td>1</td>\n",
       "      <td>0.000000</td>\n",
       "      <td>0.000696</td>\n",
       "      <td>98.4</td>\n",
       "      <td>...</td>\n",
       "      <td>158.0</td>\n",
       "      <td>76.0</td>\n",
       "      <td>3.0</td>\n",
       "      <td>0</td>\n",
       "      <td>0</td>\n",
       "      <td>0</td>\n",
       "      <td>0</td>\n",
       "      <td>0.987963</td>\n",
       "      <td>0.012038</td>\n",
       "      <td>0</td>\n",
       "    </tr>\n",
       "    <tr>\n",
       "      <th>176398</th>\n",
       "      <td>0</td>\n",
       "      <td>0</td>\n",
       "      <td>0</td>\n",
       "      <td>0</td>\n",
       "      <td>0</td>\n",
       "      <td>0</td>\n",
       "      <td>1</td>\n",
       "      <td>0.002021</td>\n",
       "      <td>0.000696</td>\n",
       "      <td>98.0</td>\n",
       "      <td>...</td>\n",
       "      <td>143.0</td>\n",
       "      <td>74.0</td>\n",
       "      <td>2.0</td>\n",
       "      <td>0</td>\n",
       "      <td>0</td>\n",
       "      <td>0</td>\n",
       "      <td>1</td>\n",
       "      <td>0.980664</td>\n",
       "      <td>0.019336</td>\n",
       "      <td>0</td>\n",
       "    </tr>\n",
       "    <tr>\n",
       "      <th>107575</th>\n",
       "      <td>1</td>\n",
       "      <td>0</td>\n",
       "      <td>0</td>\n",
       "      <td>0</td>\n",
       "      <td>1</td>\n",
       "      <td>1</td>\n",
       "      <td>0</td>\n",
       "      <td>0.011622</td>\n",
       "      <td>0.004871</td>\n",
       "      <td>98.6</td>\n",
       "      <td>...</td>\n",
       "      <td>139.0</td>\n",
       "      <td>76.0</td>\n",
       "      <td>4.0</td>\n",
       "      <td>0</td>\n",
       "      <td>0</td>\n",
       "      <td>0</td>\n",
       "      <td>1</td>\n",
       "      <td>0.916279</td>\n",
       "      <td>0.083721</td>\n",
       "      <td>0</td>\n",
       "    </tr>\n",
       "    <tr>\n",
       "      <th>191723</th>\n",
       "      <td>1</td>\n",
       "      <td>0</td>\n",
       "      <td>0</td>\n",
       "      <td>0</td>\n",
       "      <td>0</td>\n",
       "      <td>0</td>\n",
       "      <td>1</td>\n",
       "      <td>0.011622</td>\n",
       "      <td>0.011134</td>\n",
       "      <td>98.2</td>\n",
       "      <td>...</td>\n",
       "      <td>111.0</td>\n",
       "      <td>67.0</td>\n",
       "      <td>3.0</td>\n",
       "      <td>0</td>\n",
       "      <td>0</td>\n",
       "      <td>0</td>\n",
       "      <td>1</td>\n",
       "      <td>0.674971</td>\n",
       "      <td>0.325029</td>\n",
       "      <td>0</td>\n",
       "    </tr>\n",
       "  </tbody>\n",
       "</table>\n",
       "<p>37023 rows × 23 columns</p>\n",
       "</div>"
      ],
      "text/plain": [
       "        gender  race_0  race_1  race_2  race_3  race_4  race_5  \\\n",
       "65831        0       0       0       0       1       1       0   \n",
       "172731       1       0       0       0       0       0       1   \n",
       "196958       0       0       0       0       0       0       1   \n",
       "170602       0       0       0       0       0       1       0   \n",
       "135242       0       0       0       0       0       0       1   \n",
       "...        ...     ...     ...     ...     ...     ...     ...   \n",
       "55732        1       0       0       0       0       1       0   \n",
       "53706        1       0       0       1       0       1       1   \n",
       "176398       0       0       0       0       0       0       1   \n",
       "107575       1       0       0       0       1       1       0   \n",
       "191723       1       0       0       0       0       0       1   \n",
       "\n",
       "        existing_doses  medicine_dispensations  temperature  ...    sbp   dbp  \\\n",
       "65831         0.002527                0.010438         97.2  ...  128.0  72.0   \n",
       "172731        0.029055                0.050800         97.2  ...  142.0  82.0   \n",
       "196958        0.000000                0.001392         97.6  ...  116.0  80.0   \n",
       "170602        0.000000                0.000000         97.9  ...  171.0  86.0   \n",
       "135242        0.000000                0.001392         97.4  ...  118.0  87.0   \n",
       "...                ...                     ...          ...  ...    ...   ...   \n",
       "55732         0.001769                0.001392         97.4  ...  152.0  71.0   \n",
       "53706         0.000000                0.000696         98.4  ...  158.0  76.0   \n",
       "176398        0.002021                0.000696         98.0  ...  143.0  74.0   \n",
       "107575        0.011622                0.004871         98.6  ...  139.0  76.0   \n",
       "191723        0.011622                0.011134         98.2  ...  111.0  67.0   \n",
       "\n",
       "        acuity  arrival_transport_HELICOPTER  arrival_transport_OTHER  \\\n",
       "65831      3.0                             0                        0   \n",
       "172731     3.0                             0                        0   \n",
       "196958     2.0                             0                        0   \n",
       "170602     3.0                             0                        0   \n",
       "135242     3.0                             0                        0   \n",
       "...        ...                           ...                      ...   \n",
       "55732      3.0                             0                        0   \n",
       "53706      3.0                             0                        0   \n",
       "176398     2.0                             0                        0   \n",
       "107575     4.0                             0                        0   \n",
       "191723     3.0                             0                        0   \n",
       "\n",
       "        arrival_transport_UNKNOWN  arrival_transport_WALK IN  0_probability  \\\n",
       "65831                           0                          0       0.932386   \n",
       "172731                          0                          1       0.783774   \n",
       "196958                          0                          0       0.965210   \n",
       "170602                          0                          0       0.974910   \n",
       "135242                          0                          1       0.966558   \n",
       "...                           ...                        ...            ...   \n",
       "55732                           0                          1       0.985780   \n",
       "53706                           0                          0       0.987963   \n",
       "176398                          0                          1       0.980664   \n",
       "107575                          0                          1       0.916279   \n",
       "191723                          0                          1       0.674971   \n",
       "\n",
       "        1_probability  prediction  \n",
       "65831        0.067614           0  \n",
       "172731       0.216226           0  \n",
       "196958       0.034790           0  \n",
       "170602       0.025090           0  \n",
       "135242       0.033442           0  \n",
       "...               ...         ...  \n",
       "55732        0.014220           0  \n",
       "53706        0.012038           0  \n",
       "176398       0.019336           0  \n",
       "107575       0.083721           0  \n",
       "191723       0.325029           0  \n",
       "\n",
       "[37023 rows x 23 columns]"
      ]
     },
     "execution_count": 46,
     "metadata": {},
     "output_type": "execute_result"
    }
   ],
   "source": [
    "pred_df"
   ]
  },
  {
   "cell_type": "code",
   "execution_count": 47,
   "id": "ff6faf16",
   "metadata": {},
   "outputs": [
    {
     "name": "stdout",
     "output_type": "stream",
     "text": [
      "0.9177268184641979\n"
     ]
    }
   ],
   "source": [
    "print(accuracy_score(data_test['deceased'],pred_df['prediction']))"
   ]
  },
  {
   "cell_type": "code",
   "execution_count": null,
   "id": "53486286",
   "metadata": {},
   "outputs": [],
   "source": [
    "def upload_file_to_s3(file_name, s3_prefix):\n",
    "    object_name = os.path.join(s3_prefix, file_name)\n",
    "    s3_client = boto3.client('s3')\n",
    "    try:\n",
    "        response = s3_client.upload_file(file_name, BUCKET, object_name)\n",
    "    except ClientError as e:\n",
    "        logging.error(e)\n",
    "        return False\n",
    "\n",
    "s3_prefix = \"l2e1\""
   ]
  }
 ],
 "metadata": {
  "kernelspec": {
   "display_name": "Python 3 (ipykernel)",
   "language": "python",
   "name": "python3"
  },
  "language_info": {
   "codemirror_mode": {
    "name": "ipython",
    "version": 3
   },
   "file_extension": ".py",
   "mimetype": "text/x-python",
   "name": "python",
   "nbconvert_exporter": "python",
   "pygments_lexer": "ipython3",
   "version": "3.9.13"
  }
 },
 "nbformat": 4,
 "nbformat_minor": 5
}
